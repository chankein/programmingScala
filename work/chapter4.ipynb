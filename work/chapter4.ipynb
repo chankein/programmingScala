{
  "metadata" : {
    "config" : {
      "dependencies" : {
        
      },
      "exclusions" : [
      ],
      "repositories" : [
      ],
      "sparkConfig" : {
        
      }
    }
  },
  "nbformat" : 4,
  "nbformat_minor" : 0,
  "cells" : [
    {
      "cell_type" : "markdown",
      "execution_count" : 0,
      "metadata" : {
        "language" : "text"
      },
      "language" : "text",
      "source" : [
        "chapter4.Classes and Objects<br>\n",
        "\n",
        "\n"
      ],
      "outputs" : [
      ]
    },
    {
      "cell_type" : "code",
      "execution_count" : 1,
      "metadata" : {
        "language" : "scala"
      },
      "language" : "scala",
      "source" : [
        "class ChecksumAccumulator {\n",
        "    private var sum = 0\n",
        "    def add(b: Byte): Unit = { sum += b }\n",
        "    def checksum(): Int = ~(sum & 0xFF) + 1\n",
        "}\n"
      ],
      "outputs" : [
      ]
    },
    {
      "cell_type" : "markdown",
      "execution_count" : 2,
      "metadata" : {
        "language" : "text"
      },
      "language" : "text",
      "source" : [
        "**4.2 Semicolon inference**\n",
        "\n",
        "\n"
      ],
      "outputs" : [
      ]
    },
    {
      "cell_type" : "code",
      "execution_count" : 3,
      "metadata" : {
        "language" : "scala"
      },
      "language" : "scala",
      "source" : [
        "val s = \"hello\"; println(s)"
      ],
      "outputs" : [
        {
          "name" : "stdout",
          "text" : [
            "hello\n"
          ],
          "output_type" : "stream"
        }
      ]
    },
    {
      "cell_type" : "code",
      "execution_count" : 4,
      "metadata" : {
        "language" : "scala"
      },
      "language" : "scala",
      "source" : [
        "val x=3\n",
        "if (x < 2)\n",
        "    println(\"too small\")\n",
        "else\n",
        "    println(\"ok\")"
      ],
      "outputs" : [
        {
          "name" : "stdout",
          "text" : [
            "ok\n"
          ],
          "output_type" : "stream"
        }
      ]
    },
    {
      "cell_type" : "code",
      "execution_count" : 5,
      "metadata" : {
        "language" : "scala"
      },
      "language" : "scala",
      "source" : [
        "import scala.collection.mutable\n",
        "\n",
        "object ChecksumAccumulator {\n",
        "\n",
        "private val cache = mutable.Map.empty[String, Int]\n",
        "\n",
        "def calculate(s: String): Int = \n",
        "    if (cache.contains(s))\n",
        "        cache(s)\n",
        "    else {\n",
        "        val acc = new ChecksumAccumulator\n",
        "        for (c <- s)\n",
        "            acc.add(c.toByte)\n",
        "        val cs = acc.checksum()\n",
        "        cache += (s -> cs)\n",
        "        cs\n",
        "    }\n",
        "}\n",
        "ChecksumAccumulator.calculate(\"Every value is an object.\")\n"
      ],
      "outputs" : [
        {
          "data" : {
            "text/plain" : [
              "-248"
            ]
          },
          "output_type" : "display_data"
        }
      ]
    }
  ]
}