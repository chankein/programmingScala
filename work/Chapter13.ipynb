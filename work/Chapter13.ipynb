{
  "metadata" : {
    "config" : {
      "dependencies" : {
        
      },
      "exclusions" : [
      ],
      "repositories" : [
      ],
      "sparkConfig" : {
        
      }
    }
  },
  "nbformat" : 4,
  "nbformat_minor" : 0,
  "cells" : [
    {
      "cell_type" : "markdown",
      "execution_count" : 0,
      "metadata" : {
        "language" : "text"
      },
      "language" : "text",
      "source" : [
        "## Chapter13.Packages and Imports\n",
        "\n",
        "\n"
      ],
      "outputs" : [
      ]
    },
    {
      "cell_type" : "markdown",
      "execution_count" : 1,
      "metadata" : {
        "language" : "text"
      },
      "language" : "text",
      "source" : [
        "### Putting code in packages\n",
        "\n",
        "\n"
      ],
      "outputs" : [
      ]
    },
    {
      "cell_type" : "code",
      "execution_count" : 2,
      "metadata" : {
        "cell.metadata.exec_info" : {
          "startTs" : 1686283421789,
          "endTs" : 1686283421896
        },
        "language" : "scala"
      },
      "language" : "scala",
      "source" : [
        "package bobsrockets.navigation\r\n",
        "class Navigator"
      ],
      "outputs" : [
      ]
    },
    {
      "cell_type" : "code",
      "execution_count" : 3,
      "metadata" : {
        "cell.metadata.exec_info" : {
          "startTs" : 1686283424069,
          "endTs" : 1686283424164
        },
        "language" : "scala"
      },
      "language" : "scala",
      "source" : [
        "package bobsrockets.navigation {\r\n",
        "    class Navigator\r\n",
        "}\r\n"
      ],
      "outputs" : [
      ]
    },
    {
      "cell_type" : "code",
      "execution_count" : 4,
      "metadata" : {
        "cell.metadata.exec_info" : {
          "startTs" : 1686283438190,
          "endTs" : 1686283438278
        },
        "language" : "scala"
      },
      "language" : "scala",
      "source" : [
        "package bobsrockets {\r\n",
        "    package navigation {\r\n",
        "\r\n",
        "      // In package bobsrockets.navigation\r\n",
        "      class Navigator\r\n",
        "\r\n",
        "      package tests {\r\n",
        "\r\n",
        "        // In package bobsrockets.navigation.tests\r\n",
        "        class NavigatorSuite\r\n",
        "      }\r\n",
        "    }\r\n",
        "}"
      ],
      "outputs" : [
      ]
    },
    {
      "cell_type" : "code",
      "execution_count" : 5,
      "metadata" : {
        "cell.metadata.exec_info" : {
          "startTs" : 1686283453562,
          "endTs" : 1686283453662
        },
        "language" : "scala"
      },
      "language" : "scala",
      "source" : [
        "package bobsrockets {\r\n",
        "    package navigation {\r\n",
        "      class Navigator {\r\n",
        "        // No need to say bobsrockets.navigation.StarMap\r\n",
        "        val map = new StarMap\r\n",
        "      }\r\n",
        "      class StarMap\r\n",
        "    }\r\n",
        "    class Ship {\r\n",
        "      // No need to say bobsrockets.navigation.Navigator\r\n",
        "      val nav = new navigation.Navigator\r\n",
        "    }\r\n",
        "    package fleets {\r\n",
        "      class Fleet {\r\n",
        "        // No need to say bobsrockets.Ship\r\n",
        "        def addShip() = { new Ship }\r\n",
        "      }\r\n",
        "    }\r\n",
        "}"
      ],
      "outputs" : [
      ]
    },
    {
      "cell_type" : "code",
      "execution_count" : 6,
      "metadata" : {
        "cell.metadata.exec_info" : {
          "startTs" : 1686283497608,
          "endTs" : 1686283497620
        },
        "language" : "scala"
      },
      "language" : "scala",
      "source" : [
        " package bobsrockets {\r\n",
        "    class Ship\r\n",
        "}\r\n",
        "\r\n",
        "  package bobsrockets.fleets {\r\n",
        "    class Fleet {\r\n",
        "      // Doesn't compile! Ship is not in scope.\r\n",
        "      def addShip() = { new Ship }\r\n",
        "    }\r\n",
        "}\r\n"
      ],
      "outputs" : [
        {
          "execution_count" : 6,
          "data" : {
            "application/json" : [
              {
                "pos" : {
                  "sourceId" : "Cell17",
                  "start" : 173,
                  "end" : 173,
                  "point" : 173
                },
                "msg" : "not found: type Ship",
                "severity" : 2
              }
            ],
            "text/plain" : [
              "Error: not found: type Ship (173)"
            ]
          },
          "metadata" : {
            "rel" : "compiler_errors"
          },
          "output_type" : "execute_result"
        }
      ]
    },
    {
      "cell_type" : "code",
      "execution_count" : 7,
      "metadata" : {
        "cell.metadata.exec_info" : {
          "startTs" : 1686283514167,
          "endTs" : 1686283514377
        },
        "language" : "scala"
      },
      "language" : "scala",
      "source" : [
        "package launch {\r\n",
        "    class Booster3\r\n",
        "  }\r\n",
        "\r\n",
        "  // In file bobsrockets.scala\r\n",
        "  package bobsrockets {\r\n",
        "    package navigation {\r\n",
        "      package launch {\r\n",
        "        class Booster1\r\n",
        "      }\r\n",
        "      class MissionControl {\r\n",
        "        val booster1 = new launch.Booster1\r\n",
        "        val booster2 = new bobsrockets.launch.Booster2\r\n",
        "        val booster3 = new _root_.launch.Booster3\r\n",
        "      }\r\n",
        "    }\r\n",
        "    package launch {\r\n",
        "      class Booster2\r\n",
        "    }\r\n",
        "}"
      ],
      "outputs" : [
      ]
    },
    {
      "cell_type" : "markdown",
      "execution_count" : 8,
      "metadata" : {
        "language" : "text"
      },
      "language" : "text",
      "source" : [
        "### Concise access to related code\n",
        "\n",
        "\n"
      ],
      "outputs" : [
      ]
    },
    {
      "cell_type" : "code",
      "execution_count" : 9,
      "metadata" : {
        "cell.metadata.exec_info" : {
          "startTs" : 1686283542209,
          "endTs" : 1686283542213
        },
        "language" : "python"
      },
      "language" : "python",
      "source" : [
        "package bobsrockets\r\n",
        "package fleets\r\n",
        "class Fleet {\r\n",
        "    // No need to say bobsrockets.Ship\r\n",
        "    def addShip() = { new Ship }\r\n",
        "}"
      ],
      "outputs" : [
        {
          "execution_count" : 9,
          "data" : {
            "application/json" : [
              {
                "pos" : {
                  "sourceId" : "Cell5",
                  "start" : 19,
                  "end" : 19,
                  "point" : 19
                },
                "msg" : "invalid syntax",
                "severity" : 2
              }
            ],
            "text/plain" : [
              "Error: invalid syntax (19)"
            ]
          },
          "metadata" : {
            "rel" : "compiler_errors"
          },
          "output_type" : "execute_result"
        }
      ]
    },
    {
      "cell_type" : "markdown",
      "execution_count" : 10,
      "metadata" : {
        "language" : "text"
      },
      "language" : "text",
      "source" : [
        "### Imports\n",
        "\n",
        "\n"
      ],
      "outputs" : [
      ]
    },
    {
      "cell_type" : "code",
      "execution_count" : 11,
      "metadata" : {
        "cell.metadata.exec_info" : {
          "startTs" : 1686286380156,
          "endTs" : 1686286380654
        },
        "language" : "scala"
      },
      "language" : "scala",
      "source" : [
        "package bobsdelights\r\n",
        "\r\n",
        "  abstract class Fruit(\r\n",
        "    val name: String,\r\n",
        "    val color: String\r\n",
        "  )\r\n",
        "\r\n",
        "object Fruits {\r\n",
        "    object Apple extends Fruit(\"apple\", \"red\")\r\n",
        "    object Orange extends Fruit(\"orange\", \"orange\")\r\n",
        "    object Pear extends Fruit(\"pear\", \"yellowish\")\r\n",
        "    val menu = List(Apple, Orange, Pear)\r\n",
        "}"
      ],
      "outputs" : [
      ]
    },
    {
      "cell_type" : "code",
      "execution_count" : 12,
      "metadata" : {
        "cell.metadata.exec_info" : {
          "startTs" : 1686286381407,
          "endTs" : 1686286381426
        },
        "language" : "scala"
      },
      "language" : "scala",
      "source" : [
        "// easy access to Fruit\r\n",
        "import bobsdelights.Fruit\r\n",
        "\r\n",
        "// easy access to all members of bobsdelights\r\n",
        "import bobsdelights._\r\n",
        "\r\n",
        "// easy access to all members of Fruits\r\n",
        "import bobsdelights.Fruits._"
      ],
      "outputs" : [
        {
          "execution_count" : 12,
          "data" : {
            "application/json" : [
              {
                "pos" : {
                  "sourceId" : "Cell9",
                  "start" : 0,
                  "end" : 197,
                  "point" : 0
                },
                "msg" : "object launch is not a member of package <empty>",
                "severity" : 2
              }
            ],
            "text/plain" : [
              "Error: object launch is not a member of package <empty> (0)"
            ]
          },
          "metadata" : {
            "rel" : "compiler_errors"
          },
          "output_type" : "execute_result"
        }
      ]
    },
    {
      "cell_type" : "markdown",
      "execution_count" : 13,
      "metadata" : {
        "language" : "text"
      },
      "language" : "text",
      "source" : [
        "### Implicit imports\n",
        "\n",
        "\n"
      ],
      "outputs" : [
      ]
    },
    {
      "cell_type" : "code",
      "execution_count" : 14,
      "metadata" : {
        "cell.metadata.exec_info" : {
          "startTs" : 1686275750644,
          "endTs" : 1686275750657
        },
        "language" : "scala"
      },
      "language" : "scala",
      "source" : [
        "import java.lang._ // everything in the java.lang package\r\n",
        "import scala._     // everything in the scala package\r\n",
        "import Predef._    // everything in the Predef object"
      ],
      "outputs" : [
        {
          "execution_count" : 14,
          "data" : {
            "application/json" : [
              {
                "pos" : {
                  "sourceId" : "Cell9",
                  "start" : 0,
                  "end" : 98,
                  "point" : 6
                },
                "msg" : "value class may not be a member of another class",
                "severity" : 2
              }
            ],
            "text/plain" : [
              "Error: value class may not be a member of another class (0)"
            ]
          },
          "metadata" : {
            "rel" : "compiler_errors"
          },
          "output_type" : "execute_result"
        }
      ]
    },
    {
      "cell_type" : "markdown",
      "execution_count" : 15,
      "metadata" : {
        "language" : "text"
      },
      "language" : "text",
      "source" : [
        "### Access modifiers\n",
        "\n"
      ],
      "outputs" : [
      ]
    },
    {
      "cell_type" : "code",
      "execution_count" : 16,
      "metadata" : {
        "cell.metadata.exec_info" : {
          "startTs" : 1686295193149,
          "endTs" : 1686295193176
        },
        "language" : "scala"
      },
      "language" : "scala",
      "source" : [
        "// In file packages-and-imports/Ex8.scala.err\r\n",
        "class Outer {\r\n",
        "    class Inner {\r\n",
        "      private def f() = { println(\"f\") }\r\n",
        "      class InnerMost {\r\n",
        "        f() // OK\r\n",
        "      }\r\n",
        "    }\r\n",
        "    (new Inner).f() // error: f is not accessible\r\n",
        "}"
      ],
      "outputs" : [
        {
          "execution_count" : 16,
          "data" : {
            "application/json" : [
              {
                "pos" : {
                  "sourceId" : "Cell20",
                  "start" : 0,
                  "end" : 239,
                  "point" : 0
                },
                "msg" : "object launch is not a member of package <empty>",
                "severity" : 2
              },
              {
                "pos" : {
                  "sourceId" : "Cell20",
                  "start" : 201,
                  "end" : 201,
                  "point" : 201
                },
                "msg" : "method f in class Inner cannot be accessed in Outer.this.Inner",
                "severity" : 2
              }
            ],
            "text/plain" : [
              "Error: object launch is not a member of package <empty> (0)",
              "Error: method f in class Inner cannot be accessed in Outer.this.Inner (201)"
            ]
          },
          "metadata" : {
            "rel" : "compiler_errors"
          },
          "output_type" : "execute_result"
        }
      ]
    },
    {
      "cell_type" : "code",
      "execution_count" : 17,
      "metadata" : {
        "cell.metadata.exec_info" : {
          "startTs" : 1686295245635,
          "endTs" : 1686295245651
        },
        "language" : "scala"
      },
      "language" : "scala",
      "source" : [
        "package p {\r\n",
        "    class Super {\r\n",
        "      protected def f() = { println(\"f\") }\r\n",
        "    }\r\n",
        "    class Sub extends Super {\r\n",
        "      f()\r\n",
        "    }\r\n",
        "    class Other {\r\n",
        "      (new Super).f()  // error: f is not accessible\r\n",
        "    }\r\n",
        "}\r\n"
      ],
      "outputs" : [
        {
          "execution_count" : 17,
          "data" : {
            "application/json" : [
              {
                "pos" : {
                  "sourceId" : "Cell21",
                  "start" : 169,
                  "end" : 169,
                  "point" : 169
                },
                "msg" : "method f in class Super cannot be accessed in p.Super\n Access to protected method f not permitted because\n enclosing class Other in package p is not a subclass of \n class Super in package p where target is defined",
                "severity" : 2
              }
            ],
            "text/plain" : [
              "Error: method f in class Super cannot be accessed in p.Super\n Access to protected method f not permitted because\n enclosing class Other in package p is not a subclass of \n class Super in package p where target is defined (169)"
            ]
          },
          "metadata" : {
            "rel" : "compiler_errors"
          },
          "output_type" : "execute_result"
        }
      ]
    },
    {
      "cell_type" : "code",
      "execution_count" : 18,
      "metadata" : {
        "cell.metadata.exec_info" : {
          "startTs" : 1686299336160,
          "endTs" : 1686299336265
        },
        "language" : "scala"
      },
      "language" : "scala",
      "source" : [
        "package bobsrockets\r\n",
        "\r\n",
        "package navigation {\r\n",
        "   private[bobsrockets] class Navigator { \r\n",
        "     protected[navigation] def useStarChart() = {}\r\n",
        "     class LegOfJourney {\r\n",
        "       private[Navigator] val distance = 100\r\n",
        "     }\r\n",
        "     private[this] var speed = 200\r\n",
        "   }\r\n",
        " }\r\n",
        "package launch {\r\n",
        "import navigation._\r\n",
        "object Vehicle { \r\n",
        "     private[launch] val guide = new Navigator\r\n",
        "   }\r\n",
        " }"
      ],
      "outputs" : [
      ]
    },
    {
      "cell_type" : "code",
      "execution_count" : 19,
      "metadata" : {
        "cell.metadata.exec_info" : {
          "startTs" : 1686299382825,
          "endTs" : 1686299382843
        },
        "language" : "scala"
      },
      "language" : "scala",
      "source" : [
        "class Rocket {\r\n",
        "    import Rocket.fuel\r\n",
        "    private def canGoHomeAgain = fuel > 20\r\n",
        "}\r\n",
        "\r\n",
        "object Rocket {\r\n",
        "    private def fuel = 10\r\n",
        "    def chooseStrategy(rocket: Rocket) = {\r\n",
        "      if (rocket.canGoHomeAgain)\r\n",
        "        goHome()\r\n",
        "      else\r\n",
        "        pickAStar()\r\n",
        "    }\r\n",
        "    def goHome() = {}\r\n",
        "    def pickAStar() = {}\r\n",
        "}\r\n"
      ],
      "outputs" : [
        {
          "execution_count" : 19,
          "data" : {
            "application/json" : [
              {
                "pos" : {
                  "sourceId" : "Cell23",
                  "start" : 0,
                  "end" : 322,
                  "point" : 0
                },
                "msg" : "object launch is not a member of package <empty>",
                "severity" : 2
              }
            ],
            "text/plain" : [
              "Error: object launch is not a member of package <empty> (0)"
            ]
          },
          "metadata" : {
            "rel" : "compiler_errors"
          },
          "output_type" : "execute_result"
        }
      ]
    }
  ]
}