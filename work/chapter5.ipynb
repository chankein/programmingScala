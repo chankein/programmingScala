{
  "cells": [
    {
      "attachments": {},
      "cell_type": "markdown",
      "metadata": {
        "language": "text"
      },
      "source": [
        "chapter5.Basic Types and Operations"
      ]
    },
    {
      "attachments": {},
      "cell_type": "markdown",
      "metadata": {
        "language": "text"
      },
      "source": [
        "**5.2 Literals**\n",
        "\n",
        "\n"
      ]
    },
    {
      "cell_type": "code",
      "execution_count": 2,
      "metadata": {
        "cell.metadata.exec_info": {
          "endTs": 1685953545952,
          "startTs": 1685953545862
        },
        "language": "scala"
      },
      "outputs": [],
      "source": [
        " val hex = 0x5\n",
        " val hex2 = 0x00FF\n",
        " val magic = 0xcafebabe\n",
        " //Int"
      ]
    },
    {
      "cell_type": "code",
      "execution_count": 3,
      "metadata": {
        "cell.metadata.exec_info": {
          "endTs": 1685953685728,
          "startTs": 1685953685642
        },
        "language": "scala"
      },
      "outputs": [],
      "source": [
        "val dec1 = 31\n",
        "val dec2 = 255\n",
        "val dec3 = 20\n",
        "//Int"
      ]
    },
    {
      "cell_type": "code",
      "execution_count": 4,
      "metadata": {
        "cell.metadata.exec_info": {
          "endTs": 1685953704953,
          "startTs": 1685953704863
        },
        "language": "scala"
      },
      "outputs": [],
      "source": [
        "val prog = 0XCAFEBABEL\n",
        "val tower = 35L\n",
        "val of = 31l\n",
        "//Long"
      ]
    },
    {
      "cell_type": "code",
      "execution_count": 5,
      "metadata": {
        "cell.metadata.exec_info": {
          "endTs": 1685954937564,
          "startTs": 1685954937465
        },
        "language": "scala"
      },
      "outputs": [],
      "source": [
        "val little: Short = 367\n",
        "//Short\n",
        "val littler: Byte = 38\n",
        "//Byte"
      ]
    },
    {
      "cell_type": "code",
      "execution_count": 6,
      "metadata": {
        "cell.metadata.exec_info": {
          "endTs": 1685954936081,
          "startTs": 1685954935981
        },
        "language": "scala"
      },
      "outputs": [],
      "source": [
        "val big = 1.2345\n",
        "val bigger = 1.2345e1\n",
        "val biggerStill = 123E45\n",
        "//Double"
      ]
    },
    {
      "cell_type": "code",
      "execution_count": 7,
      "metadata": {
        "cell.metadata.exec_info": {
          "endTs": 1685954933874,
          "startTs": 1685954933785
        },
        "language": "scala"
      },
      "outputs": [],
      "source": [
        " val little = 1.2345F\n",
        " val littleBigger = 3e5f\n",
        " //Float "
      ]
    },
    {
      "cell_type": "code",
      "execution_count": 8,
      "metadata": {
        "cell.metadata.exec_info": {
          "endTs": 1685954963035,
          "startTs": 1685954962945
        },
        "language": "scala"
      },
      "outputs": [],
      "source": [
        "val anotherDouble = 3e5\n",
        "val yetAnother = 3e5D"
      ]
    },
    {
      "cell_type": "code",
      "execution_count": 9,
      "metadata": {
        "cell.metadata.exec_info": {
          "endTs": 1685954988539,
          "startTs": 1685954988385
        },
        "language": "scala"
      },
      "outputs": [],
      "source": [
        "val a = 'A'\n",
        "val d = '\\u0041'\n",
        "val f = '\\u0044'\n",
        "val backslash = '\\\\'\n",
        "//Char"
      ]
    },
    {
      "cell_type": "code",
      "execution_count": 10,
      "metadata": {
        "language": "scala"
      },
      "outputs": [],
      "source": [
        "val B\\u0041\\u0044 = 1\n",
        "//Int"
      ]
    },
    {
      "cell_type": "code",
      "execution_count": 11,
      "metadata": {
        "cell.metadata.exec_info": {
          "endTs": 1685958920532,
          "startTs": 1685958920404
        },
        "language": "scala"
      },
      "outputs": [
        {
          "name": "stdout",
          "output_type": "stream",
          "text": [
            "Welcome to Ultamix 3000.\r\n",
            "             Type \"HELP\" for help.\n"
          ]
        }
      ],
      "source": [
        "val hello = \"hello\"\n",
        "val escapes = \"\\\\\\\"\\'\"\n",
        "println(\"\"\"Welcome to Ultamix 3000.\n",
        "             Type \"HELP\" for help.\"\"\")"
      ]
    },
    {
      "cell_type": "code",
      "execution_count": 12,
      "metadata": {
        "cell.metadata.exec_info": {
          "endTs": 1685959763683,
          "startTs": 1685959763635
        },
        "language": "scala"
      },
      "outputs": [
        {
          "data": {
            "application/json": "",
            "text/plain": []
          },
          "execution_count": 12,
          "metadata": {
            "rel": "compiler_errors"
          },
          "output_type": "execute_result"
        }
      ],
      "source": [
        "def updateRecordByName(r: Symbol, value: Any) = {\n",
        "    println(\"\"\"Welcome to Ultamix 3000.\n",
        "             Type \"HELP\" for help.\"\"\")\n",
        "}\n",
        "updateRecordByName(favoriteAlbum, \"OK Computer\")"
      ]
    },
    {
      "cell_type": "code",
      "execution_count": 13,
      "metadata": {
        "cell.metadata.exec_info": {
          "endTs": 1685972310671,
          "startTs": 1685972310485
        },
        "language": "scala"
      },
      "outputs": [
        {
          "name": "stdout",
          "output_type": "stream",
          "text": [
            "Welcome to Ultamix 3000.\r\n",
            "             Type \"HELP\" for help.\n"
          ]
        }
      ],
      "source": [
        "updateRecordByName('favoriteAlbum, \"OK Computer\")\n",
        "// Symbol\n",
        "val s = 'aSymbol\n",
        "val nm = s.name"
      ]
    },
    {
      "cell_type": "code",
      "execution_count": 14,
      "metadata": {
        "cell.metadata.exec_info": {
          "endTs": 1685972328461,
          "startTs": 1685972328366
        },
        "language": "scala"
      },
      "outputs": [],
      "source": [
        "val bool = true \n",
        "val fool = false"
      ]
    },
    {
      "attachments": {},
      "cell_type": "markdown",
      "metadata": {
        "language": "text"
      },
      "source": [
        "### 5.3 String interpolation\n",
        "\n"
      ]
    },
    {
      "cell_type": "code",
      "execution_count": 16,
      "metadata": {
        "cell.metadata.exec_info": {
          "endTs": 1685972357491,
          "startTs": 1685972357373
        },
        "language": "scala"
      },
      "outputs": [
        {
          "name": "stdout",
          "output_type": "stream",
          "text": [
            "Hello, reader!\n"
          ]
        }
      ],
      "source": [
        "val name = \"reader\"\n",
        "println(s\"Hello, $name!\")"
      ]
    },
    {
      "cell_type": "code",
      "execution_count": 17,
      "metadata": {
        "cell.metadata.exec_info": {
          "endTs": 1685972367620,
          "startTs": 1685972367502
        },
        "language": "scala"
      },
      "outputs": [
        {
          "data": {
            "text/plain": [
              "The answer is 42."
            ]
          },
          "execution_count": 17,
          "metadata": {
            "name": "Out",
            "type": "String"
          },
          "output_type": "execute_result"
        }
      ],
      "source": [
        "s\"The answer is ${6 * 7}.\""
      ]
    },
    {
      "cell_type": "code",
      "execution_count": 18,
      "metadata": {
        "cell.metadata.exec_info": {
          "endTs": 1685972380241,
          "startTs": 1685972380133
        },
        "language": "scala"
      },
      "outputs": [
        {
          "name": "stdout",
          "output_type": "stream",
          "text": [
            "No\\\\\\\\escape!\n"
          ]
        }
      ],
      "source": [
        "println(raw\"No\\\\\\\\escape!\") // prints: No\\z\\z\\z{\\z}escape!"
      ]
    },
    {
      "cell_type": "code",
      "execution_count": 19,
      "metadata": {
        "cell.metadata.exec_info": {
          "endTs": 1686010149937,
          "startTs": 1686010149716
        },
        "language": "scala"
      },
      "outputs": [],
      "source": [
        "f\"${math.Pi}%.5f\"\n",
        "val pi = \"Pi\"\n"
      ]
    },
    {
      "cell_type": "code",
      "execution_count": 20,
      "metadata": {
        "cell.metadata.exec_info": {
          "endTs": 1685972613034,
          "startTs": 1685972612923
        },
        "language": "scala"
      },
      "outputs": [
        {
          "data": {
            "text/plain": [
              "pi is approximately {math.Pi}.8f."
            ]
          },
          "execution_count": 20,
          "metadata": {
            "name": "Out",
            "type": "String"
          },
          "output_type": "execute_result"
        }
      ],
      "source": [
        "f\"pi is approximately {math.Pi}.8f.\""
      ]
    },
    {
      "attachments": {},
      "cell_type": "markdown",
      "metadata": {
        "language": "text"
      },
      "source": [
        "### 5.4 Operators are methods\n",
        "\n"
      ]
    },
    {
      "cell_type": "code",
      "execution_count": 22,
      "metadata": {
        "cell.metadata.exec_info": {
          "endTs": 1685973714483,
          "startTs": 1685973714340
        },
        "language": "scala"
      },
      "outputs": [
        {
          "data": {
            "text/plain": [
              "-2.0"
            ]
          },
          "execution_count": 22,
          "metadata": {
            "name": "Out",
            "type": "Double"
          },
          "output_type": "execute_result"
        }
      ],
      "source": [
        "val sum = 1 + 2    // Scala invokes 1.+(2)\n",
        "val sumMore = 1.+(2) \n",
        "val longSum = 1 + 2L    // Scala invokes 1.+(2L)\n",
        "val s = \"Hello, world!\" \n",
        "s indexOf 'o'     // Scala invokes s.indexOf('o')\n",
        "s indexOf ('o', 5) // Scala invokes s.indexOf('o', 5)\n",
        "-2.0                  // Scala invokes (2.0).unary_-\n",
        "(2.0).unary_-\n"
      ]
    },
    {
      "cell_type": "code",
      "execution_count": 23,
      "metadata": {
        "cell.metadata.exec_info": {
          "endTs": 1685973718092,
          "startTs": 1685973717982
        },
        "language": "scala"
      },
      "outputs": [
        {
          "data": {
            "text/plain": [
              "hello, world!"
            ]
          },
          "execution_count": 23,
          "metadata": {
            "name": "Out",
            "type": "String"
          },
          "output_type": "execute_result"
        }
      ],
      "source": [
        "val s = \"Hello, world!\"\n",
        "s.toLowerCase \n",
        "s toLowerCase "
      ]
    },
    {
      "attachments": {},
      "cell_type": "markdown",
      "metadata": {
        "language": "text"
      },
      "source": [
        "### 5.5 Arithmetic operations\n",
        "\n",
        "\n"
      ]
    },
    {
      "cell_type": "code",
      "execution_count": 25,
      "metadata": {
        "cell.metadata.exec_info": {
          "endTs": 1685973913555,
          "startTs": 1685973913413
        },
        "language": "scala"
      },
      "outputs": [
        {
          "data": {
            "text/plain": [
              "2"
            ]
          },
          "execution_count": 25,
          "metadata": {
            "name": "Out",
            "type": "Int"
          },
          "output_type": "execute_result"
        }
      ],
      "source": [
        "1.2 + 2.3\n",
        "3-1\n",
        "'b' - 'a'\n",
        "2L * 3L \n",
        "11 / 4  \n",
        "11 % 4 \n",
        "11.0f / 4.0f\n",
        "11.0 % 4.0  \n",
        "math.IEEEremainder(11.0, 4.0)\n",
        "val neg = 1 + -3\n",
        "val y = +3\n",
        "-neg"
      ]
    },
    {
      "attachments": {},
      "cell_type": "markdown",
      "metadata": {
        "language": "text"
      },
      "source": [
        "### 5.6 Relational and logical operations\n",
        "\n"
      ]
    },
    {
      "cell_type": "code",
      "execution_count": 27,
      "metadata": {
        "cell.metadata.exec_info": {
          "endTs": 1685974116780,
          "startTs": 1685974116645
        },
        "language": "scala"
      },
      "outputs": [],
      "source": [
        "1 > 2 \n",
        "1 < 2 \n",
        "1.0 <= 1.0  \n",
        "3.5f >= 3.6f  \n",
        "'a' >= 'A' \n",
        "val untrue = !true \n",
        "val toBe = true\n",
        "val question = toBe || !toBe\n",
        "val paradox = toBe && !toBe"
      ]
    },
    {
      "cell_type": "code",
      "execution_count": 28,
      "metadata": {
        "cell.metadata.exec_info": {
          "endTs": 1685974170612,
          "startTs": 1685974170496
        },
        "language": "scala"
      },
      "outputs": [
        {
          "name": "stdout",
          "output_type": "stream",
          "text": [
            "pepper\n",
            "salt\n",
            "salt\n",
            "salt\n",
            "pepper\n"
          ]
        },
        {
          "data": {
            "text/plain": [
              "false"
            ]
          },
          "execution_count": 28,
          "metadata": {
            "name": "Out",
            "type": "Boolean"
          },
          "output_type": "execute_result"
        }
      ],
      "source": [
        "def salt() = { println(\"salt\"); false }\n",
        "def pepper() = { println(\"pepper\"); true }\n",
        "pepper() && salt() \n",
        "salt() && pepper() //skip pepper()\n",
        "salt() & pepper() "
      ]
    },
    {
      "attachments": {},
      "cell_type": "markdown",
      "metadata": {
        "language": "text"
      },
      "source": [
        "### 5.7 Bitwise operations\n",
        "\n",
        "\n"
      ]
    },
    {
      "cell_type": "code",
      "execution_count": 30,
      "metadata": {
        "cell.metadata.exec_info": {
          "endTs": 1685974290324,
          "startTs": 1685974290206
        },
        "language": "scala"
      },
      "outputs": [
        {
          "data": {
            "text/plain": [
              "-2"
            ]
          },
          "execution_count": 30,
          "metadata": {
            "name": "Out",
            "type": "Int"
          },
          "output_type": "execute_result"
        }
      ],
      "source": [
        "1 & 2\n",
        "1 | 2  \n",
        "1 ^ 3 \n",
        "~1 "
      ]
    },
    {
      "attachments": {},
      "cell_type": "markdown",
      "metadata": {
        "language": "text"
      },
      "source": [
        "### 5.8 Object equality\n",
        "\n"
      ]
    },
    {
      "cell_type": "code",
      "execution_count": 32,
      "metadata": {
        "cell.metadata.exec_info": {
          "endTs": 1685974620386,
          "startTs": 1685974620215
        },
        "language": "scala"
      },
      "outputs": [
        {
          "data": {
            "text/plain": [
              "true"
            ]
          },
          "execution_count": 32,
          "metadata": {
            "name": "Out",
            "type": "Boolean"
          },
          "output_type": "execute_result"
        }
      ],
      "source": [
        "1 == 2 \n",
        "1 != 2 \n",
        "2 == 2 \n",
        "List(1, 2, 3) == List(1, 2, 3)\n",
        "List(1, 2, 3) == List(4, 5, 6)\n",
        "1 == 1.0\n",
        "List(1, 2, 3) == \"hello\"\n",
        "List(1, 2, 3) == null\n",
        "null == List(1, 2, 3)\n",
        "(\"he\" + \"llo\") == \"hello\""
      ]
    },
    {
      "attachments": {},
      "cell_type": "markdown",
      "metadata": {
        "language": "text"
      },
      "source": [
        "### 5.9 Operator precedence and associativity\n",
        "\n"
      ]
    },
    {
      "cell_type": "code",
      "execution_count": 34,
      "metadata": {
        "cell.metadata.exec_info": {
          "endTs": 1686008605880,
          "startTs": 1686008605700
        },
        "language": "scala"
      },
      "outputs": [
        {
          "data": {
            "application/json": "",
            "text/plain": []
          },
          "execution_count": 34,
          "metadata": {
            "rel": "compiler_errors"
          },
          "output_type": "execute_result"
        }
      ],
      "source": [
        "var x=0\n",
        "var y=0\n",
        "2 << 2 + 2\n",
        "2 + 2 << 2\n",
        "x *= y + 1\n",
        "x *= (y + 1)\n",
        "{ val x = a; b.:::(x) }"
      ]
    }
  ],
  "metadata": {
    "config": {
      "dependencies": {},
      "exclusions": [],
      "repositories": [],
      "sparkConfig": {}
    },
    "language_info": {
      "name": "python"
    }
  },
  "nbformat": 4,
  "nbformat_minor": 0
}
