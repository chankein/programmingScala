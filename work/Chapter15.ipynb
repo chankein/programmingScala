{
  "metadata" : {
    "config" : {
      "dependencies" : {
        
      },
      "exclusions" : [
      ],
      "repositories" : [
      ],
      "sparkConfig" : {
        
      }
    }
  },
  "nbformat" : 4,
  "nbformat_minor" : 0,
  "cells" : [
    {
      "cell_type" : "markdown",
      "execution_count" : 0,
      "metadata" : {
        "language" : "text"
      },
      "language" : "text",
      "source" : [
        "## Chapter15.Case Classes and Pattern Matching\n",
        "\n",
        "\n"
      ],
      "outputs" : [
      ]
    },
    {
      "cell_type" : "markdown",
      "execution_count" : 1,
      "metadata" : {
        "language" : "text"
      },
      "language" : "text",
      "source" : [
        "### A simple example\n",
        "\n",
        "\n"
      ],
      "outputs" : [
      ]
    },
    {
      "cell_type" : "code",
      "execution_count" : 2,
      "metadata" : {
        "cell.metadata.exec_info" : {
          "startTs" : 1686464557658,
          "endTs" : 1686464558184
        },
        "language" : "scala"
      },
      "language" : "scala",
      "source" : [
        "abstract class Expr\r\n",
        "  case class Var(name: String) extends Expr\r\n",
        "  case class Number(num: Double) extends Expr\r\n",
        "  case class UnOp(operator: String, arg: Expr) extends Expr\r\n",
        "  case class BinOp(operator: String, \r\n",
        "      left: Expr, right: Expr) extends Expr\r\n",
        "val v = Var(\"x\")\r\n",
        "val op = BinOp(\"+\", Number(1), v)\r\n",
        "v.name\r\n",
        "op.left\r\n",
        "println(op)\r\n",
        "op.right == Var(\"x\")\r\n",
        "op.copy(operator = \"-\")\r\n",
        "//UnOp(\"-\", UnOp(\"-\", e))  => e   // Double negation\r\n",
        "//BinOp(\"+\", e, Number(0)) => e   // Adding zero\r\n",
        "//BinOp(\"*\", e, Number(1)) => e   // Multiplying by one\r\n",
        "def simplifyTop(expr: Expr): Expr = expr match {\r\n",
        "    case UnOp(\"-\", UnOp(\"-\", e))  => e   // Double negation\r\n",
        "    case BinOp(\"+\", e, Number(0)) => e   // Adding zero\r\n",
        "    case BinOp(\"*\", e, Number(1)) => e   // Multiplying by one\r\n",
        "    case _ => expr\r\n",
        "}\r\n",
        "simplifyTop(UnOp(\"-\", UnOp(\"-\", Var(\"x\"))))"
      ],
      "outputs" : [
        {
          "name" : "stdout",
          "text" : [
            "BinOp(+,Number(1.0),Var(x))",
            "\n"
          ],
          "output_type" : "stream"
        },
        {
          "execution_count" : 2,
          "data" : {
            "text/plain" : [
              "Var(x)"
            ]
          },
          "metadata" : {
            "name" : "Out",
            "type" : "Expr"
          },
          "output_type" : "execute_result"
        }
      ]
    },
    {
      "cell_type" : "code",
      "execution_count" : 3,
      "metadata" : {
        "cell.metadata.exec_info" : {
          "startTs" : 1686465749119,
          "endTs" : 1686465749349
        },
        "language" : "scala"
      },
      "language" : "scala",
      "source" : [
        "def checkbinary(expr: Expr): Unit = {\r\n",
        "    expr match {\r\n",
        "      case BinOp(op, left, right) =>\r\n",
        "        println(s\"$expr is a binary operation\")\r\n",
        "      case _ =>\r\n",
        "    }\r\n",
        "  }\r\n",
        "val varExpr = new Var(\"var\")\r\n",
        "val zeroExpr = new Number(0)\r\n",
        "val binopExpr = new BinOp(\"=\", varExpr, varExpr)\r\n",
        "val unopExpr = new UnOp(\"abs\", new Number(3))\r\n",
        "\r\n",
        "checkbinary(varExpr)\r\n",
        "checkbinary(binopExpr)\r\n"
      ],
      "outputs" : [
        {
          "name" : "stdout",
          "text" : [
            "BinOp(=,Var(var),Var(var)) is a binary operation",
            "\n"
          ],
          "output_type" : "stream"
        }
      ]
    },
    {
      "cell_type" : "code",
      "execution_count" : 16,
      "metadata" : {
        "cell.metadata.exec_info" : {
          "startTs" : 1686466367474,
          "endTs" : 1686466367685
        },
        "language" : "scala"
      },
      "language" : "scala",
      "source" : [
        "def checkbinary(expr: Expr): Unit = {\r\n",
        "    expr match {\r\n",
        "        case BinOp(_, _, _) => println(s\"$expr is a binary operation\")\r\n",
        "        case _ => println(\"It's something else\")\r\n",
        "    }\r\n",
        "}\r\n",
        "val varExpr = new Var(\"var\")\r\n",
        "val zeroExpr = new Number(0)\r\n",
        "val binopExpr = new BinOp(\"=\", varExpr, varExpr)\r\n",
        "val unopExpr = new UnOp(\"abs\", new Number(3))\r\n",
        "\r\n",
        "checkbinary(varExpr)\r\n",
        "checkbinary(binopExpr)\r\n",
        "\r\n"
      ],
      "outputs" : [
        {
          "name" : "stdout",
          "text" : [
            "It's something else",
            "\n",
            "BinOp(=,Var(var),Var(var)) is a binary operation",
            "\n"
          ],
          "output_type" : "stream"
        }
      ]
    },
    {
      "cell_type" : "code",
      "execution_count" : 17,
      "metadata" : {
        "cell.metadata.exec_info" : {
          "startTs" : 1686466541154,
          "endTs" : 1686466541223
        },
        "language" : "scala"
      },
      "language" : "scala",
      "source" : [
        "def describe(x: Any) = x match {\r\n",
        "    case 5 => \"five\"\r\n",
        "    case true => \"truth\"\r\n",
        "    case \"hello\" => \"hi!\"\r\n",
        "    case Nil => \"the empty list\"\r\n",
        "    case _ => \"something else\"\r\n",
        "}\r\n",
        "println(\"describe(new Number(4)) [\" + describe(new Number(4)) + \"]\")"
      ],
      "outputs" : [
        {
          "name" : "stdout",
          "text" : [
            "describe(new Number(4)) [something else]",
            "\n"
          ],
          "output_type" : "stream"
        }
      ]
    },
    {
      "cell_type" : "code",
      "execution_count" : 18,
      "metadata" : {
        "cell.metadata.exec_info" : {
          "startTs" : 1686466908587,
          "endTs" : 1686466908639
        },
        "language" : "scala"
      },
      "language" : "scala",
      "source" : [
        "def deepmatch(expr: Expr) = {\r\n",
        "    expr match {\r\n",
        "      case BinOp(\"+\", e, Number(0)) => println(\"a deep match\")\r\n",
        "      case _ =>\r\n",
        "    }\r\n",
        "}\r\n",
        "deepmatch(zeroExpr)\r\n",
        "deepmatch(new BinOp(\"+\", varExpr, zeroExpr))"
      ],
      "outputs" : [
        {
          "name" : "stdout",
          "text" : [
            "a deep match",
            "\n"
          ],
          "output_type" : "stream"
        }
      ]
    },
    {
      "cell_type" : "code",
      "execution_count" : 19,
      "metadata" : {
        "cell.metadata.exec_info" : {
          "startTs" : 1686467051646,
          "endTs" : 1686467051717
        },
        "language" : "scala"
      },
      "language" : "scala",
      "source" : [
        "import math.{E, Pi}\r\n",
        "E match {\r\n",
        "       case Pi => \"strange math? Pi = \" + Pi\r\n",
        "       case _ => \"OK\"\r\n",
        "       }\r\n",
        "val pi = math.Pi\r\n",
        "E match {\r\n",
        "       case pi => \"strange math? Pi = \" + pi\r\n",
        "       }"
      ],
      "outputs" : [
        {
          "execution_count" : 19,
          "data" : {
            "text/plain" : [
              "strange math? Pi = 2.718281828459045"
            ]
          },
          "metadata" : {
            "name" : "Out",
            "type" : "String"
          },
          "output_type" : "execute_result"
        }
      ]
    },
    {
      "cell_type" : "code",
      "execution_count" : 20,
      "metadata" : {
        "cell.metadata.exec_info" : {
          "startTs" : 1686467242489,
          "endTs" : 1686467242539
        },
        "language" : "scala"
      },
      "language" : "scala",
      "source" : [
        "E match {\r\n",
        "       case pi => \"strange math? Pi = \" + pi\r\n",
        "       case _ => \"OK\"  \r\n",
        "       }\r\n"
      ],
      "outputs" : [
        {
          "execution_count" : 20,
          "data" : {
            "text/plain" : [
              "strange math? Pi = 2.718281828459045"
            ]
          },
          "metadata" : {
            "name" : "Out",
            "type" : "String"
          },
          "output_type" : "execute_result"
        }
      ]
    },
    {
      "cell_type" : "code",
      "execution_count" : 21,
      "metadata" : {
        "cell.metadata.exec_info" : {
          "startTs" : 1686468222013,
          "endTs" : 1686468222059
        },
        "language" : "scala"
      },
      "language" : "scala",
      "source" : [
        "def deepmatch(expr: Expr) = {\r\n",
        "    expr match {\r\n",
        "        case BinOp(\"+\", e, Number(0)) => println(\"a deep match\")\r\n",
        "        case _ =>\r\n",
        "    }\r\n",
        "}\r\n",
        "deepmatch(zeroExpr)\r\n",
        "deepmatch(new BinOp(\"+\", zeroExpr, zeroExpr))\r\n",
        "//deepmatch(new BinOp(\"+\", varExpr, zeroExpr))"
      ],
      "outputs" : [
        {
          "name" : "stdout",
          "text" : [
            "a deep match",
            "\n"
          ],
          "output_type" : "stream"
        }
      ]
    },
    {
      "cell_type" : "code",
      "execution_count" : 22,
      "metadata" : {
        "cell.metadata.exec_info" : {
          "startTs" : 1686468621551,
          "endTs" : 1686468621666
        },
        "language" : "scala"
      },
      "language" : "scala",
      "source" : [
        "def startsWithZero1(expr: List[Int]) = \r\n",
        "    expr match {\r\n",
        "      case List(0, _, _) => println(\"found it\")\r\n",
        "      case _ =>\r\n",
        "    }\r\n",
        "\r\n",
        "def startsWithZero2(expr: List[Int]) =\r\n",
        "    expr match {\r\n",
        "      case List(0, _*) => println(\"found it\")\r\n",
        "      case _ =>\r\n",
        "    }\r\n",
        "startsWithZero1(List(0, 1, 2))//found\r\n",
        "startsWithZero1(List(0, 1))\r\n",
        "startsWithZero1(List(1, 0))\r\n",
        "startsWithZero2(List(0, 1, 2))//found\r\n",
        "startsWithZero2(List(0, 1))//found\r\n",
        "startsWithZero2(List(1, 0))"
      ],
      "outputs" : [
        {
          "name" : "stdout",
          "text" : [
            "found it",
            "\n",
            "found it",
            "\n",
            "found it",
            "\n"
          ],
          "output_type" : "stream"
        }
      ]
    },
    {
      "cell_type" : "code",
      "execution_count" : 23,
      "metadata" : {
        "cell.metadata.exec_info" : {
          "startTs" : 1686468687558,
          "endTs" : 1686468687627
        },
        "language" : "scala"
      },
      "language" : "scala",
      "source" : [
        "object OtherDescribe {\r\n",
        "    def describe(e: Expr): String = (e: @unchecked) match {\r\n",
        "      case Number(_) => \"a number\"\r\n",
        "      case Var(_)    => \"a variable\"\r\n",
        "    }\r\n",
        "}\r\n",
        "println(\"OtherDescribe.describe(new Number(4)) [\" +\r\n",
        "             OtherDescribe.describe(new Number(4)) + \"]\")\r\n",
        "println(\"OtherDescribe.describe(varExpr) [\" +\r\n",
        "             OtherDescribe.describe(varExpr) + \"]\")"
      ],
      "outputs" : [
        {
          "name" : "stdout",
          "text" : [
            "OtherDescribe.describe(new Number(4)) [a number]",
            "\n",
            "OtherDescribe.describe(varExpr) [a variable]",
            "\n"
          ],
          "output_type" : "stream"
        }
      ]
    },
    {
      "cell_type" : "code",
      "execution_count" : 24,
      "metadata" : {
        "cell.metadata.exec_info" : {
          "startTs" : 1686469516951,
          "endTs" : 1686469517004
        },
        "language" : "scala"
      },
      "language" : "scala",
      "source" : [
        " def tupleDemo(expr: Any) =\r\n",
        "    expr match {\r\n",
        "      case (a, b, c)  =>  println(\"matched \" + a + b + c)\r\n",
        "      case _ =>\r\n",
        "    }\r\n",
        "\r\n",
        "\r\n",
        "tupleDemo((\"a \", 3, \"-tuple\"))"
      ],
      "outputs" : [
        {
          "name" : "stdout",
          "text" : [
            "matched a 3-tuple",
            "\n"
          ],
          "output_type" : "stream"
        }
      ]
    },
    {
      "cell_type" : "code",
      "execution_count" : 25,
      "metadata" : {
        "cell.metadata.exec_info" : {
          "startTs" : 1686469585282,
          "endTs" : 1686469585347
        },
        "language" : "scala"
      },
      "language" : "scala",
      "source" : [
        "def generalSize(x: Any) = x match {\r\n",
        "    case s: String => s.length\r\n",
        "    case m: Map[_, _] => m.size\r\n",
        "    case _ => -1\r\n",
        "  }\r\n",
        "\r\n",
        "\r\n",
        "generalSize(\"abc\")\r\n",
        "\r\n",
        "\r\n",
        "//generalSize(Map(1 -> 'a', 2 -> 'b'))\r\n",
        "\r\n",
        "//generalSize(math.Pi)"
      ],
      "outputs" : [
        {
          "execution_count" : 25,
          "data" : {
            "text/plain" : [
              "3"
            ]
          },
          "metadata" : {
            "name" : "Out",
            "type" : "Int"
          },
          "output_type" : "execute_result"
        }
      ]
    },
    {
      "cell_type" : "code",
      "execution_count" : 26,
      "metadata" : {
        "cell.metadata.exec_info" : {
          "startTs" : 1686470063135,
          "endTs" : 1686470063192
        },
        "language" : "scala"
      },
      "language" : "scala",
      "source" : [
        "def isInstance(expr: Any) = {\r\n",
        "    if (\r\n",
        "      expr.isInstanceOf[String]\r\n",
        "    ) {\r\n",
        "    val s = \r\n",
        "      expr.asInstanceOf[String]\r\n",
        "      s.length\r\n",
        "    } else 0\r\n",
        "  }\r\n",
        "isInstance(\"abc\")\r\n",
        "isInstance(3)"
      ],
      "outputs" : [
        {
          "execution_count" : 26,
          "data" : {
            "text/plain" : [
              "0"
            ]
          },
          "metadata" : {
            "name" : "Out",
            "type" : "Int"
          },
          "output_type" : "execute_result"
        }
      ]
    },
    {
      "cell_type" : "code",
      "execution_count" : 27,
      "metadata" : {
        "cell.metadata.exec_info" : {
          "startTs" : 1686470250525,
          "endTs" : 1686470250614
        },
        "language" : "scala"
      },
      "language" : "scala",
      "source" : [
        "def isIntIntMap(x: Any) = x match {\r\n",
        "       case m: Map[Int, Int] => true\r\n",
        "       case _ => false\r\n",
        "       }\r\n",
        "isIntIntMap(Map(1 -> 1))\r\n",
        "isIntIntMap(Map(\"abc\" -> \"abc\"))//warning,not checking Int type"
      ],
      "outputs" : [
        {
          "execution_count" : 27,
          "data" : {
            "text/plain" : [
              "true"
            ]
          },
          "metadata" : {
            "name" : "Out",
            "type" : "Boolean"
          },
          "output_type" : "execute_result"
        }
      ]
    },
    {
      "cell_type" : "code",
      "execution_count" : 28,
      "metadata" : {
        "cell.metadata.exec_info" : {
          "startTs" : 1686470362204,
          "endTs" : 1686470362312
        },
        "language" : "scala"
      },
      "language" : "scala",
      "source" : [
        "def isStringArray(x: Any) = x match {\r\n",
        "       case a: Array[String] => \"yes\"\r\n",
        "       case _ => \"no\"\r\n",
        "       }\r\n",
        "val as = Array(\"abc\")\r\n",
        "isStringArray(as)// yes\r\n",
        "val ai = Array(1, 2, 3)\r\n",
        "isStringArray(ai)// no"
      ],
      "outputs" : [
        {
          "execution_count" : 28,
          "data" : {
            "text/plain" : [
              "no"
            ]
          },
          "metadata" : {
            "name" : "Out",
            "type" : "String"
          },
          "output_type" : "execute_result"
        }
      ]
    },
    {
      "cell_type" : "code",
      "execution_count" : 29,
      "metadata" : {
        "cell.metadata.exec_info" : {
          "startTs" : 1686470439584,
          "endTs" : 1686470439632
        },
        "language" : "scala"
      },
      "language" : "scala",
      "source" : [
        "def matchUnOp(expr: Expr) = {\r\n",
        "    expr match {\r\n",
        "      case UnOp(\"abs\", e @ UnOp(\"abs\", _)) => e\r\n",
        "      case _ =>\r\n",
        "    }\r\n",
        "}\r\n",
        "println(\"matchUnOp(unopExpr) [\" + matchUnOp(unopExpr) + \"]\")\r\n",
        "println(\"matchUnOp(new UnOp(\\\"abs\\\", unopExpr)) [\" + matchUnOp(new UnOp(\"abs\", unopExpr)) + \"]\")"
      ],
      "outputs" : [
        {
          "name" : "stdout",
          "text" : [
            "matchUnOp(unopExpr) [()]",
            "\n",
            "matchUnOp(new UnOp(\"abs\", unopExpr)) [UnOp(abs,Number(3.0))]",
            "\n"
          ],
          "output_type" : "stream"
        }
      ]
    },
    {
      "cell_type" : "markdown",
      "execution_count" : 4,
      "metadata" : {
        "language" : "text"
      },
      "language" : "text",
      "source" : [
        "### Pattern guards\n",
        "\n",
        "\n"
      ],
      "outputs" : [
      ]
    },
    {
      "cell_type" : "code",
      "execution_count" : 5,
      "metadata" : {
        "cell.metadata.exec_info" : {
          "startTs" : 1686470786831,
          "endTs" : 1686470786896
        },
        "language" : "scala"
      },
      "language" : "scala",
      "source" : [
        " BinOp(\"+\", Var(\"x\"), Var(\"x\"))\r\n",
        "\r\n",
        "\r\n",
        "BinOp(\"*\", Var(\"x\"), Number(2))\r\n",
        "\r\n",
        "/*\r\n",
        "def simplifyAdd(e: Expr) = e match {\r\n",
        "      case BinOp(\"+\", x, x) => BinOp(\"*\", x, Number(2))// error: x is already defined as value x\r\n",
        "      case _ => e\r\n",
        "    }\r\n",
        "*/\r\n",
        "def simplifyAdd(e: Expr) = e match {\r\n",
        "      case BinOp(\"+\", x, y) if x == y =>\r\n",
        "        BinOp(\"*\", x, Number(2))\r\n",
        "      case _ => e\r\n",
        "    }\r\n",
        "//simplifyAdd: (e: Expr)Expr\r\n",
        "simplifyAdd(BinOp(\"*\", Var(\"x\"), Var(\"x\")))\r\n",
        "\r\n",
        "  // match only positive integers\r\n",
        "  //case n: Int if 0 < n => ...  \r\n",
        "\r\n",
        "  // match only strings starting with the letter `a'\r\n",
        "  //case s: String if s(0) == 'a' => ... "
      ],
      "outputs" : [
        {
          "execution_count" : 5,
          "data" : {
            "text/plain" : [
              "BinOp(*,Var(x),Var(x))"
            ]
          },
          "metadata" : {
            "name" : "Out",
            "type" : "Expr"
          },
          "output_type" : "execute_result"
        }
      ]
    },
    {
      "cell_type" : "markdown",
      "execution_count" : 6,
      "metadata" : {
        "language" : "text"
      },
      "language" : "text",
      "source" : [
        "### Pattern overlaps\n",
        "\n",
        "\n"
      ],
      "outputs" : [
      ]
    },
    {
      "cell_type" : "code",
      "execution_count" : 7,
      "metadata" : {
        "cell.metadata.exec_info" : {
          "startTs" : 1686470897783,
          "endTs" : 1686470897843
        },
        "language" : "scala"
      },
      "language" : "scala",
      "source" : [
        "def simplifyAll(expr: Expr): Expr = expr match {\n",
        "    case UnOp(\"-\", UnOp(\"-\", e)) =>\n",
        "      simplifyAll(e)   // `-' is its own inverse\n",
        "    case BinOp(\"+\", e, Number(0)) =>\n",
        "      simplifyAll(e)   // `0' is a neutral element for `+'\n",
        "    case BinOp(\"*\", e, Number(1)) =>\n",
        "      simplifyAll(e)   // `1' is a neutral element for `*'\n",
        "    case UnOp(op, e) => \n",
        "      UnOp(op, simplifyAll(e))\n",
        "    case UnOp(\"-\", UnOp(\"-\", e)) => e//unreachable code\n",
        "    case BinOp(op, l, r) =>\n",
        "      BinOp(op, simplifyAll(l), simplifyAll(r))\n",
        "    case _ => expr\n",
        "}"
      ],
      "outputs" : [
      ]
    },
    {
      "cell_type" : "markdown",
      "execution_count" : 9,
      "metadata" : {
        "language" : "text"
      },
      "language" : "text",
      "source" : [
        "### Sealed classes\n",
        "\n",
        "\n"
      ],
      "outputs" : [
      ]
    },
    {
      "cell_type" : "code",
      "execution_count" : 10,
      "metadata" : {
        "cell.metadata.exec_info" : {
          "startTs" : 1686472840906,
          "endTs" : 1686472841026
        },
        "language" : "scala"
      },
      "language" : "scala",
      "source" : [
        "sealed abstract class Expr // sealed class\n",
        "  case class Var(name: String) extends Expr\n",
        "  case class Number(num: Double) extends Expr\n",
        "  case class UnOp(operator: String, arg: Expr) extends Expr\n",
        "  case class BinOp(operator: String, \n",
        "      left: Expr, right: Expr) extends Expr"
      ],
      "outputs" : [
      ]
    },
    {
      "cell_type" : "code",
      "execution_count" : 11,
      "metadata" : {
        "cell.metadata.exec_info" : {
          "startTs" : 1686472854775,
          "endTs" : 1686472854828
        },
        "language" : "scala"
      },
      "language" : "scala",
      "source" : [
        "def describe(e: Expr): String = e match {\r\n",
        "    case Number(_) => \"a number\"\r\n",
        "    case Var(_)    => \"a variable\"\r\n",
        "  }\r\n",
        "/*\r\n",
        "warning: match is not exhaustive!\r\n",
        "  missing combination           UnOp\r\n",
        "  missing combination          BinOp\r\n",
        "\r\n",
        "*/\r\n",
        "def describe(e: Expr): String = e match {\r\n",
        "    case Number(_) => \"a number\"\r\n",
        "    case Var(_) => \"a variable\"\r\n",
        "    case _ => throw new RuntimeException // Should not happen\r\n",
        "  }\r\n",
        "//unchecked warning\r\n",
        "def describe(e: Expr): String = (e: @unchecked) match {\r\n",
        "  case Number(_) => \"a number\"\r\n",
        "  case Var(_)    => \"a variable\"\r\n",
        "}"
      ],
      "outputs" : [
      ]
    },
    {
      "cell_type" : "markdown",
      "execution_count" : 12,
      "metadata" : {
        "language" : "text"
      },
      "language" : "text",
      "source" : [
        "### The Option type\n",
        "\n",
        "\n"
      ],
      "outputs" : [
      ]
    },
    {
      "cell_type" : "code",
      "execution_count" : 13,
      "metadata" : {
        "cell.metadata.exec_info" : {
          "startTs" : 1686473411829,
          "endTs" : 1686473411951
        },
        "language" : "scala"
      },
      "language" : "scala",
      "source" : [
        "val capitals = \r\n",
        "      Map(\"France\" -> \"Paris\", \"Japan\" -> \"Tokyo\")\r\n",
        "\r\n",
        "capitals get \"France\"\r\n",
        "\r\n",
        "capitals get \"North Pole\"\r\n",
        "\r\n",
        "\r\n",
        "def show(x: Option[String]) = x match {\r\n",
        "      case Some(s) => s\r\n",
        "      case None => \"?\"\r\n",
        "    }\r\n",
        "\r\n",
        "show(capitals get \"Japan\")\r\n",
        "\r\n",
        "show(capitals get \"France\")\r\n",
        "\r\n",
        "//show(capitals get \"North Pole\")\r\n"
      ],
      "outputs" : [
        {
          "execution_count" : 13,
          "data" : {
            "text/plain" : [
              "Paris"
            ]
          },
          "metadata" : {
            "name" : "Out",
            "type" : "String"
          },
          "output_type" : "execute_result"
        }
      ]
    },
    {
      "cell_type" : "markdown",
      "execution_count" : 14,
      "metadata" : {
        "language" : "text"
      },
      "language" : "text",
      "source" : [
        "### Patterns everywhere\n",
        "\n",
        "\n"
      ],
      "outputs" : [
      ]
    },
    {
      "cell_type" : "code",
      "execution_count" : 15,
      "metadata" : {
        "cell.metadata.exec_info" : {
          "startTs" : 1686473544359,
          "endTs" : 1686473544486
        },
        "language" : "scala"
      },
      "language" : "scala",
      "source" : [
        "val myTuple = (123, \"abc\")\r\n",
        "val (number, string) = myTuple"
      ],
      "outputs" : [
      ]
    },
    {
      "cell_type" : "code",
      "execution_count" : 30,
      "metadata" : {
        "language" : "scala"
      },
      "language" : "scala",
      "source" : [
        "val exp = new BinOp(\"*\", Number(5), Number(1))\r\n",
        "val BinOp(op, left, right) = exp"
      ],
      "outputs" : [
      ]
    },
    {
      "cell_type" : "code",
      "execution_count" : 31,
      "metadata" : {
        "cell.metadata.exec_info" : {
          "startTs" : 1686473652119,
          "endTs" : 1686473652219
        },
        "language" : "scala"
      },
      "language" : "scala",
      "source" : [
        "val withDefault: Option[Int] => Int = {\r\n",
        "    case Some(x) => x\r\n",
        "    case None => 0\r\n",
        "  }\r\n",
        "withDefault(Some(10))\r\n",
        "withDefault(None)"
      ],
      "outputs" : [
        {
          "execution_count" : 31,
          "data" : {
            "text/plain" : [
              "0"
            ]
          },
          "metadata" : {
            "name" : "Out",
            "type" : "Int"
          },
          "output_type" : "execute_result"
        }
      ]
    },
    {
      "cell_type" : "code",
      "execution_count" : 32,
      "metadata" : {
        "cell.metadata.exec_info" : {
          "startTs" : 1686473684769,
          "endTs" : 1686473684789
        },
        "language" : "scala"
      },
      "language" : "scala",
      "source" : [
        "var sum = 0\r\n",
        "\r\n",
        "def receive = {\r\n",
        "\r\n",
        "    case Data(byte) =>\r\n",
        "        sum += byte\r\n",
        "\r\n",
        "    case GetChecksum(requester) =>\r\n",
        "    val checksum = ~(sum & 0xFF) + 1\r\n",
        "    requester ! checksum\r\n",
        "}"
      ],
      "outputs" : [
        {
          "execution_count" : 32,
          "data" : {
            "application/json" : [
              {
                "pos" : {
                  "sourceId" : "Cell32",
                  "start" : 29,
                  "end" : 29,
                  "point" : 29
                },
                "msg" : "missing parameter type for expanded function\nThe argument types of an anonymous function must be fully known. (SLS 8.5)\nExpected type was: ?",
                "severity" : 2
              },
              {
                "pos" : {
                  "sourceId" : "Cell32",
                  "start" : 43,
                  "end" : 43,
                  "point" : 43
                },
                "msg" : "not found: value Data",
                "severity" : 2
              },
              {
                "pos" : {
                  "sourceId" : "Cell32",
                  "start" : 90,
                  "end" : 90,
                  "point" : 90
                },
                "msg" : "not found: value GetChecksum",
                "severity" : 2
              }
            ],
            "text/plain" : [
              "Error: missing parameter type for expanded function\nThe argument types of an anonymous function must be fully known. (SLS 8.5)\nExpected type was: ? (29)",
              "Error: not found: value Data (43)",
              "Error: not found: value GetChecksum (90)"
            ]
          },
          "metadata" : {
            "rel" : "compiler_errors"
          },
          "output_type" : "execute_result"
        }
      ]
    },
    {
      "cell_type" : "code",
      "execution_count" : 33,
      "metadata" : {
        "cell.metadata.exec_info" : {
          "startTs" : 1686473846640,
          "endTs" : 1686473846805
        },
        "language" : "scala"
      },
      "language" : "scala",
      "source" : [
        "val second: List[Int] => Int = {\r\n",
        "    case x :: y :: _ => y\r\n",
        "  }\r\n",
        "\r\n",
        "/*\r\n",
        "  <console>:17: warning: match is not exhaustive!\r\n",
        "  missing combination            Nil\r\n",
        "*/\r\n",
        "\r\n",
        "second(List(5, 6, 7))\r\n",
        "//res24: Int = 6\r\n",
        "/*\r\n",
        "second(List())\r\n",
        "  scala.MatchError: List()\r\n",
        "  \tat $anonfun$1.apply(<console>:17)\r\n",
        "  \tat $anonfun$1.apply(<console>:17)\r\n",
        "*/\r\n"
      ],
      "outputs" : [
        {
          "execution_count" : 33,
          "data" : {
            "text/plain" : [
              "6"
            ]
          },
          "metadata" : {
            "name" : "Out",
            "type" : "Int"
          },
          "output_type" : "execute_result"
        }
      ]
    },
    {
      "cell_type" : "code",
      "execution_count" : 34,
      "metadata" : {
        "cell.metadata.exec_info" : {
          "startTs" : 1686473839432,
          "endTs" : 1686473839659
        },
        "language" : "scala"
      },
      "language" : "scala",
      "source" : [
        "\r\n",
        "val second: PartialFunction[List[Int],Int] = {\r\n",
        "    case x :: y :: _ => y\r\n",
        "}\r\n",
        "\r\n",
        "\r\n",
        "second.isDefinedAt(List(5,6,7))\r\n",
        "//res30: Boolean = true\r\n",
        "\r\n",
        "second.isDefinedAt(List())\r\n",
        "//res31: Boolean = false\r\n",
        "\r\n"
      ],
      "outputs" : [
        {
          "execution_count" : 34,
          "data" : {
            "text/plain" : [
              "false"
            ]
          },
          "metadata" : {
            "name" : "Out",
            "type" : "Boolean"
          },
          "output_type" : "execute_result"
        }
      ]
    },
    {
      "cell_type" : "code",
      "execution_count" : 35,
      "metadata" : {
        "language" : "scala"
      },
      "language" : "scala",
      "source" : [
        "new PartialFunction[List[Int], Int] {\r\n",
        "    def apply(xs: List[Int]) = xs match {\r\n",
        "      case x :: y :: _ => y \r\n",
        "    }\r\n",
        "    def isDefinedAt(xs: List[Int]) = xs match {\r\n",
        "      case x :: y :: _ => true\r\n",
        "      case _ => false\r\n",
        "    }\r\n",
        "}"
      ],
      "outputs" : [
      ]
    },
    {
      "cell_type" : "code",
      "execution_count" : 36,
      "metadata" : {
        "cell.metadata.exec_info" : {
          "startTs" : 1686474321284,
          "endTs" : 1686474321409
        },
        "language" : "scala"
      },
      "language" : "scala",
      "source" : [
        "for ((country, city) <- capitals)\r\n",
        "      println(\"The capital of \" + country + \" is \" + city)"
      ],
      "outputs" : [
        {
          "name" : "stdout",
          "text" : [
            "The capital of France is Paris",
            "\n",
            "The capital of Japan is Tokyo",
            "\n"
          ],
          "output_type" : "stream"
        }
      ]
    },
    {
      "cell_type" : "code",
      "execution_count" : 37,
      "metadata" : {
        "cell.metadata.exec_info" : {
          "startTs" : 1686474346135,
          "endTs" : 1686474346258
        },
        "language" : "scala"
      },
      "language" : "scala",
      "source" : [
        "val results = List(Some(\"apple\"), None,\r\n",
        "      Some(\"orange\"))\r\n",
        "for (Some(fruit) <- results) println(fruit)"
      ],
      "outputs" : [
        {
          "name" : "stdout",
          "text" : [
            "apple",
            "\n",
            "orange",
            "\n"
          ],
          "output_type" : "stream"
        }
      ]
    },
    {
      "cell_type" : "markdown",
      "execution_count" : 38,
      "metadata" : {
        "language" : "text"
      },
      "language" : "text",
      "source" : [
        "### A larger example\n",
        "\n"
      ],
      "outputs" : [
      ]
    },
    {
      "cell_type" : "code",
      "execution_count" : 39,
      "metadata" : {
        "language" : "scala"
      },
      "language" : "scala",
      "source" : [
      ],
      "outputs" : [
      ]
    }
  ]
}