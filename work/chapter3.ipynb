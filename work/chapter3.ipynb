{
  "metadata" : {
    "config" : {
      "dependencies" : {
        
      },
      "exclusions" : [
      ],
      "repositories" : [
      ],
      "sparkConfig" : {
        
      }
    }
  },
  "nbformat" : 4,
  "nbformat_minor" : 0,
  "cells" : [
    {
      "cell_type" : "markdown",
      "execution_count" : 0,
      "metadata" : {
        "language" : "text"
      },
      "language" : "text",
      "source" : [
        "# chapter3.Next Steps in Scala\n",
        "\n"
      ],
      "outputs" : [
      ]
    },
    {
      "cell_type" : "code",
      "execution_count" : 1,
      "metadata" : {
        "cell.metadata.exec_info" : {
          "startTs" : 1685939943638,
          "endTs" : 1685939944099
        },
        "language" : "scala"
      },
      "language" : "scala",
      "source" : [
        "val big = new java.math.BigInteger(\"12345\")"
      ],
      "outputs" : [
        {
          "name" : "stdout",
          "text" : [
            "Hello, world!\n"
          ],
          "output_type" : "stream"
        }
      ]
    },
    {
      "cell_type" : "code",
      "execution_count" : 2,
      "metadata" : {
        "language" : "scala"
      },
      "language" : "scala",
      "source" : [
        "val greetStrings = new Array[String](3)\n",
        "  \n",
        "greetStrings(0) = \"Hello\"\n",
        "greetStrings(1) = \", \"\n",
        "greetStrings(2) = \"world!\\n\"\n",
        "\n",
        "for (i <- 0 to 2)\n",
        "    print(greetStrings(i))"
      ],
      "outputs" : [
      ]
    },
    {
      "cell_type" : "code",
      "execution_count" : 3,
      "metadata" : {
        "cell.metadata.exec_info" : {
          "startTs" : 1685940463637,
          "endTs" : 1685940463820
        },
        "language" : "scala"
      },
      "language" : "scala",
      "source" : [
        "val greetStrings: Array[String] = new Array[String](3)\n",
        "greetStrings(0) = \"Hello\"\n",
        "greetStrings(1) = \", \"\n",
        "greetStrings(2) = \"world!\\n\"\n",
        "greetStrings(0) = \"Hello2\"\n",
        "greetStrings.update(0, \"Hello3\")\n",
        "for (i <- 0 to 2)\n",
        "    print(greetStrings(i))"
      ],
      "outputs" : [
        {
          "name" : "stdout",
          "text" : [
            "Hello3, world!\n"
          ],
          "output_type" : "stream"
        }
      ]
    },
    {
      "cell_type" : "code",
      "execution_count" : 4,
      "metadata" : {
        "cell.metadata.exec_info" : {
          "startTs" : 1685940488188,
          "endTs" : 1685940488352
        },
        "language" : "scala"
      },
      "language" : "scala",
      "source" : [
        "val greetStrings = new Array[String](3)\n",
        "\n",
        "  greetStrings.update(0, \"Hello\")\n",
        "  greetStrings.update(1, \", \")\n",
        "  greetStrings.update(2, \"world!\\n\")\n",
        "\n",
        "  for (i <- 0.to(2))\n",
        "    print(greetStrings.apply(i))"
      ],
      "outputs" : [
        {
          "name" : "stdout",
          "text" : [
            "Hello, world!\n"
          ],
          "output_type" : "stream"
        }
      ]
    },
    {
      "cell_type" : "code",
      "execution_count" : 5,
      "metadata" : {
        "cell.metadata.exec_info" : {
          "startTs" : 1685940523417,
          "endTs" : 1685940523562
        },
        "language" : "scala"
      },
      "language" : "scala",
      "source" : [
        " val numNames = Array(\"zero\", \"one\", \"two\")\n",
        " val numNames2 = Array.apply(\"zero\", \"one\", \"two\")"
      ],
      "outputs" : [
      ]
    },
    {
      "cell_type" : "markdown",
      "execution_count" : 6,
      "metadata" : {
        "language" : "text"
      },
      "language" : "text",
      "source" : [
        "### Step 1. Use lists<br>\n",
        "\n",
        "\n"
      ],
      "outputs" : [
      ]
    },
    {
      "cell_type" : "code",
      "execution_count" : 7,
      "metadata" : {
        "cell.metadata.exec_info" : {
          "startTs" : 1685940590569,
          "endTs" : 1685940590596
        },
        "language" : "scala"
      },
      "language" : "scala",
      "source" : [
        "val oneTwoThree = List(1, 2, 3)\n",
        "val oneTwo = List(1, 2)\n",
        "val threeFour = List(3, 4)\n",
        "val oneTwoThreeFour = oneTwo ::: threeFour\n",
        "println(oneTwo + \" and \" + threeFour + \" were not mutated.\")\n",
        "println(\"Thus, \" + oneTwoThreeFour + \" is a new list.\")"
      ],
      "outputs" : [
        {
          "execution_count" : 7,
          "data" : {
            "application/json" : [
            ],
            "text/plain" : [
            ]
          },
          "metadata" : {
            "rel" : "compiler_errors"
          },
          "output_type" : "execute_result"
        }
      ]
    },
    {
      "cell_type" : "code",
      "execution_count" : 8,
      "metadata" : {
        "cell.metadata.exec_info" : {
          "startTs" : 1685940605807,
          "endTs" : 1685940605993
        },
        "language" : "scala"
      },
      "language" : "scala",
      "source" : [
        "val twoThree = List(2, 3)\n",
        "val oneTwoThree = 1 :: twoThree\n",
        "println(oneTwoThree)"
      ],
      "outputs" : [
        {
          "name" : "stdout",
          "text" : [
            "List(1, 2, 3)\n"
          ],
          "output_type" : "stream"
        }
      ]
    },
    {
      "cell_type" : "code",
      "execution_count" : 9,
      "metadata" : {
        "cell.metadata.exec_info" : {
          "startTs" : 1685940628800,
          "endTs" : 1685940628942
        },
        "language" : "scala"
      },
      "language" : "scala",
      "source" : [
        "val oneTwoThree = 1 :: 2 :: 3 :: Nil\n",
        "println(oneTwoThree)"
      ],
      "outputs" : [
        {
          "name" : "stdout",
          "text" : [
            "List(1, 2, 3)\n"
          ],
          "output_type" : "stream"
        }
      ]
    },
    {
      "cell_type" : "markdown",
      "execution_count" : 10,
      "metadata" : {
        "language" : "text"
      },
      "language" : "text",
      "source" : [
        "**Step 2. Use tuples**\n",
        "\n",
        "\n"
      ],
      "outputs" : [
      ]
    },
    {
      "cell_type" : "code",
      "execution_count" : 11,
      "metadata" : {
        "cell.metadata.exec_info" : {
          "startTs" : 1685941333468,
          "endTs" : 1685941333888
        },
        "language" : "scala"
      },
      "language" : "scala",
      "source" : [
        "val pair = (99, \"Luftballons\")\n",
        "println(pair._1)\n",
        "println(pair._2)"
      ],
      "outputs" : [
        {
          "name" : "stdout",
          "text" : [
            "99\n",
            "Luftballons\n"
          ],
          "output_type" : "stream"
        }
      ]
    },
    {
      "cell_type" : "markdown",
      "execution_count" : 12,
      "metadata" : {
        "language" : "text"
      },
      "language" : "text",
      "source" : [
        "**Step 3. Use sets and maps**<br>"
      ],
      "outputs" : [
      ]
    },
    {
      "cell_type" : "code",
      "execution_count" : 13,
      "metadata" : {
        "cell.metadata.exec_info" : {
          "startTs" : 1685945905687,
          "endTs" : 1685945905891
        },
        "language" : "scala"
      },
      "language" : "scala",
      "source" : [
        "var jetSet = Set(\"Boeing\", \"Airbus\")\n",
        "jetSet += \"Lear\"\n",
        "println(jetSet.contains(\"Cessna\"))"
      ],
      "outputs" : [
        {
          "name" : "stdout",
          "text" : [
            "false\n"
          ],
          "output_type" : "stream"
        }
      ]
    },
    {
      "cell_type" : "code",
      "execution_count" : 14,
      "metadata" : {
        "cell.metadata.exec_info" : {
          "startTs" : 1685945923445,
          "endTs" : 1685945923533
        },
        "language" : "scala"
      },
      "language" : "scala",
      "source" : [
        "jetSet = jetSet + \"Lear\""
      ],
      "outputs" : [
      ]
    },
    {
      "cell_type" : "code",
      "execution_count" : 15,
      "metadata" : {
        "cell.metadata.exec_info" : {
          "startTs" : 1685945938435,
          "endTs" : 1685945938626
        },
        "language" : "scala"
      },
      "language" : "scala",
      "source" : [
        "import scala.collection.mutable\n",
        "\n",
        "val movieSet = mutable.Set(\"Hitch\", \"Poltergeist\")\n",
        "movieSet += \"Shrek\"\n",
        "println(movieSet) \n"
      ],
      "outputs" : [
        {
          "name" : "stdout",
          "text" : [
            "Set(Poltergeist, Shrek, Hitch)\n"
          ],
          "output_type" : "stream"
        }
      ]
    },
    {
      "cell_type" : "code",
      "execution_count" : 16,
      "metadata" : {
        "cell.metadata.exec_info" : {
          "startTs" : 1685948940297,
          "endTs" : 1685948940470
        },
        "language" : "scala"
      },
      "language" : "scala",
      "source" : [
        "import scala.collection.immutable.HashSet\n",
        "\n",
        "val hashSet = HashSet(\"Tomatoes\", \"Chilies\")\n",
        "println(hashSet + \"Coriander\")"
      ],
      "outputs" : [
        {
          "name" : "stdout",
          "text" : [
            "Set(Chilies, Tomatoes, Coriander)\n"
          ],
          "output_type" : "stream"
        }
      ]
    },
    {
      "cell_type" : "code",
      "execution_count" : 17,
      "metadata" : {
        "cell.metadata.exec_info" : {
          "startTs" : 1685948953083,
          "endTs" : 1685948953282
        },
        "language" : "scala"
      },
      "language" : "scala",
      "source" : [
        "import scala.collection.mutable\n",
        "\n",
        "val treasureMap = mutable.Map[Int, String]()\n",
        "treasureMap += (1 -> \"Go to island.\")\n",
        "treasureMap += (2 -> \"Find big X on ground.\")\n",
        "treasureMap += (3 -> \"Dig.\")\n",
        "println(treasureMap(2))"
      ],
      "outputs" : [
        {
          "name" : "stdout",
          "text" : [
            "Find big X on ground.\n"
          ],
          "output_type" : "stream"
        }
      ]
    },
    {
      "cell_type" : "code",
      "execution_count" : 18,
      "metadata" : {
        "cell.metadata.exec_info" : {
          "startTs" : 1685948989913,
          "endTs" : 1685948990069
        },
        "language" : "scala"
      },
      "language" : "scala",
      "source" : [
        "val romanNumeral = Map(\n",
        "    1 -> \"I\", 2 -> \"II\", 3 -> \"III\", 4 -> \"IV\", 5 -> \"V\"\n",
        ")\n",
        "println(romanNumeral(4))"
      ],
      "outputs" : [
        {
          "name" : "stdout",
          "text" : [
            "IV\n"
          ],
          "output_type" : "stream"
        }
      ]
    },
    {
      "cell_type" : "markdown",
      "execution_count" : 19,
      "metadata" : {
        "language" : "text"
      },
      "language" : "text",
      "source" : [
        "**Step 4. Learn to recognize the functional style**<br>"
      ],
      "outputs" : [
      ]
    },
    {
      "cell_type" : "code",
      "execution_count" : 20,
      "metadata" : {
        "cell.metadata.exec_info" : {
          "startTs" : 1685949197096,
          "endTs" : 1685949197170
        },
        "language" : "scala"
      },
      "language" : "scala",
      "source" : [
        "def printArgs(args: Array[String]): Unit = {\n",
        "    var i = 0\n",
        "    while (i < args.length) {\n",
        "        println(args(i))\n",
        "        i += 1\n",
        "    }\n",
        "}\n",
        " printArgs(greetStrings)"
      ],
      "outputs" : [
        {
          "name" : "stdout",
          "text" : [
            "Hello\n",
            ", \n",
            "world!\n",
            "\n"
          ],
          "output_type" : "stream"
        }
      ]
    },
    {
      "cell_type" : "code",
      "execution_count" : 21,
      "metadata" : {
        "cell.metadata.exec_info" : {
          "startTs" : 1685949193228,
          "endTs" : 1685949193334
        },
        "language" : "scala"
      },
      "language" : "scala",
      "source" : [
        "def printArgs(args: Array[String]): Unit = {\n",
        "    for (arg <- args)\n",
        "      println(arg)\n",
        "}\n",
        " printArgs(greetStrings)"
      ],
      "outputs" : [
        {
          "name" : "stdout",
          "text" : [
            "Hello\n",
            ", \n",
            "world!\n",
            "\n"
          ],
          "output_type" : "stream"
        }
      ]
    },
    {
      "cell_type" : "code",
      "execution_count" : 22,
      "metadata" : {
        "cell.metadata.exec_info" : {
          "startTs" : 1685949187693,
          "endTs" : 1685949187804
        },
        "language" : "scala"
      },
      "language" : "scala",
      "source" : [
        "def printArgs(args: Array[String]): Unit = {\n",
        "    args.foreach(println)\n",
        "}\n",
        " printArgs(greetStrings)"
      ],
      "outputs" : [
        {
          "name" : "stdout",
          "text" : [
            "Hello\n",
            ", \n",
            "world!\n",
            "\n"
          ],
          "output_type" : "stream"
        }
      ]
    },
    {
      "cell_type" : "code",
      "execution_count" : 23,
      "metadata" : {
        "cell.metadata.exec_info" : {
          "startTs" : 1685949177903,
          "endTs" : 1685949178046
        },
        "language" : "scala"
      },
      "language" : "scala",
      "source" : [
        " def formatArgs(args: Array[String]) = args.mkString(\"\\n\")\n",
        " val oneTwoThree = List(1, 2, 3)\n",
        " formatArgs(greetStrings)"
      ],
      "outputs" : [
        {
          "execution_count" : 23,
          "data" : {
            "text/plain" : [
              "Hello\n",
              ", \n",
              "world!\n"
            ]
          },
          "metadata" : {
            "name" : "Out",
            "type" : "String"
          },
          "output_type" : "execute_result"
        }
      ]
    },
    {
      "cell_type" : "code",
      "execution_count" : 24,
      "metadata" : {
        "language" : "scala"
      },
      "language" : "scala",
      "source" : [
        "println(formatArgs(args))\n"
      ],
      "outputs" : [
      ]
    },
    {
      "cell_type" : "code",
      "execution_count" : 25,
      "metadata" : {
        "cell.metadata.exec_info" : {
          "startTs" : 1685949226884,
          "endTs" : 1685949226982
        },
        "language" : "scala"
      },
      "language" : "scala",
      "source" : [
        "val res = formatArgs(Array(\"zero\", \"one\", \"two\"))\n",
        "assert(res == \"zero\\none\\ntwo\")"
      ],
      "outputs" : [
      ]
    },
    {
      "cell_type" : "markdown",
      "execution_count" : 26,
      "metadata" : {
        "language" : "text"
      },
      "language" : "text",
      "source" : [
        "**Step 5. Read lines from a file**<br>"
      ],
      "outputs" : [
      ]
    },
    {
      "cell_type" : "code",
      "execution_count" : 27,
      "metadata" : {
        "cell.metadata.exec_info" : {
          "startTs" : 1685949279993,
          "endTs" : 1685949280034
        },
        "language" : "scala"
      },
      "language" : "scala",
      "source" : [
        "import scala.io.Source\n",
        "\n",
        "if (args.length > 0) {\n",
        "\n",
        "    for (line <- Source.fromFile(args(0)).getLines())\n",
        "        println(line.length.toString + \" \" + line)\n",
        "    }\n",
        "else\n",
        "    Console.err.println(\"Please enter filename\")"
      ],
      "outputs" : [
        {
          "execution_count" : 27,
          "data" : {
            "application/json" : [
            ],
            "text/plain" : [
            ]
          },
          "metadata" : {
            "rel" : "compiler_errors"
          },
          "output_type" : "execute_result"
        }
      ]
    }
  ]
}