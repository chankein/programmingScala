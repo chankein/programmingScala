{
  "metadata" : {
    "config" : {
      "dependencies" : {
        
      },
      "exclusions" : [
      ],
      "repositories" : [
      ],
      "sparkConfig" : {
        
      }
    }
  },
  "nbformat" : 4,
  "nbformat_minor" : 0,
  "cells" : [
    {
      "cell_type" : "markdown",
      "execution_count" : 0,
      "metadata" : {
        "language" : "text"
      },
      "language" : "text",
      "source" : [
        "## Chapter14.Assertions and Tests\n",
        "\n",
        "\n"
      ],
      "outputs" : [
      ]
    },
    {
      "cell_type" : "markdown",
      "execution_count" : 19,
      "metadata" : {
        "language" : "text"
      },
      "language" : "text",
      "source" : [
        "### Assertions\n",
        "\n"
      ],
      "outputs" : [
      ]
    },
    {
      "cell_type" : "code",
      "execution_count" : 1,
      "metadata" : {
        "cell.metadata.exec_info" : {
          "startTs" : 1686441104916,
          "endTs" : 1686441104933
        },
        "language" : "scala"
      },
      "language" : "scala",
      "source" : [
        "def above(that: Element): Element = { \r\n",
        "    val this1 = this widen that.width \r\n",
        "    val that1 = that widen this.width \r\n",
        "    assert(this1.width == that1.width) //assert\r\n",
        "    elem(this1.contents ++ that1.contents) \r\n",
        "}"
      ],
      "outputs" : [
        {
          "execution_count" : 1,
          "data" : {
            "application/json" : [
              {
                "pos" : {
                  "sourceId" : "Cell1",
                  "start" : 26,
                  "end" : 26,
                  "point" : 26
                },
                "msg" : "not found: type Element",
                "severity" : 2
              },
              {
                "pos" : {
                  "sourceId" : "Cell1",
                  "start" : 16,
                  "end" : 16,
                  "point" : 16
                },
                "msg" : "not found: type Element",
                "severity" : 2
              },
              {
                "pos" : {
                  "sourceId" : "Cell1",
                  "start" : 61,
                  "end" : 61,
                  "point" : 61
                },
                "msg" : "value widen is not a member of $notebook.Cell1$15",
                "severity" : 2
              },
              {
                "pos" : {
                  "sourceId" : "Cell1",
                  "start" : 173,
                  "end" : 173,
                  "point" : 173
                },
                "msg" : "not found: value elem",
                "severity" : 2
              }
            ],
            "text/plain" : [
              "Error: not found: type Element (26)",
              "Error: not found: type Element (16)",
              "Error: value widen is not a member of $notebook.Cell1$15 (61)",
              "Error: not found: value elem (173)"
            ]
          },
          "metadata" : {
            "rel" : "compiler_errors"
          },
          "output_type" : "execute_result"
        }
      ]
    },
    {
      "cell_type" : "code",
      "execution_count" : 20,
      "metadata" : {
        "language" : "scala"
      },
      "language" : "scala",
      "source" : [
        "private def widen(w: Int): Element =\r\n",
        "    if (w <= width) \r\n",
        "      this \r\n",
        "    else { \r\n",
        "      val left = elem(' ', (w - width) / 2, height) \r\n",
        "      var right = elem(' ', w - width - left.width, height) \r\n",
        "      left beside this beside right \r\n",
        "} ensuring (w <= _.width) //ensuring"
      ],
      "outputs" : [
      ]
    },
    {
      "cell_type" : "markdown",
      "execution_count" : 2,
      "metadata" : {
        "language" : "text"
      },
      "language" : "text",
      "source" : [
        "### Testing in Scala\n",
        "\n",
        "\n"
      ],
      "outputs" : [
      ]
    },
    {
      "cell_type" : "code",
      "execution_count" : 3,
      "metadata" : {
        "language" : "scala"
      },
      "language" : "scala",
      "source" : [
        "import org.scalatest.funsuite.AnyFunSuite\r\n",
        "  import Element.elem\r\n",
        "\r\n",
        "  class ElementSuite extends AnyFunSuite {\r\n",
        "\r\n",
        "    test(\"elem result should have passed width\") {\r\n",
        "      val ele = elem('x', 2, 3)\r\n",
        "      assert(ele.width == 2)\r\n",
        "    }\r\n",
        "  }\r\n",
        "\r\n",
        "// (new ElementSuite).execute()"
      ],
      "outputs" : [
      ]
    },
    {
      "cell_type" : "markdown",
      "execution_count" : 5,
      "metadata" : {
        "language" : "text"
      },
      "language" : "text",
      "source" : [
        "### Informative failure reports\n",
        "\n",
        "\n"
      ],
      "outputs" : [
      ]
    },
    {
      "cell_type" : "code",
      "execution_count" : 6,
      "metadata" : {
        "cell.metadata.exec_info" : {
          "startTs" : 1686442269015,
          "endTs" : 1686442269045
        },
        "language" : "scala"
      },
      "language" : "scala",
      "source" : [
        "val width = 3\n",
        "//width: Int = 3\n",
        "\n",
        "assert(width == 2)\n",
        "//org.scalatest.exceptions.TestFailedException:\n",
        "//    3 did not equal 2\n",
        "\n",
        "\n",
        "assert(List(1, 2, 3).contains(4))\n",
        "//org.scalatest.exceptions.TestFailedException:\n",
        "\n",
        "assert(List(1, 2, 3).contains(4))\n",
        "/*\n",
        "        |    |  |  |  |        |\n",
        "        |    1  2  3  false    4\n",
        "        List(1, 2, 3)\n",
        "*/\n",
        "\n",
        "assertResult(2) {\n",
        "ele.width\n",
        "}\n",
        "\n",
        "\n",
        "assertThrows[IllegalArgumentException] {\n",
        "elem('x', -2, 3)\n",
        "}\n",
        "\n",
        "/*\n",
        "Expected IllegalArgumentException to be thrown,\n",
        "but NegativeArraySizeException was thrown.\n",
        "*/\n",
        "\n",
        "val caught =\n",
        "intercept[ArithmeticException] {\n",
        "    1 / 0\n",
        "}\n",
        "\n",
        "assert(caught.getMessage == \"/ by zero\")\n"
      ],
      "outputs" : [
        {
          "execution_count" : 6,
          "data" : {
            "application/json" : [
              {
                "pos" : {
                  "sourceId" : "Cell6",
                  "start" : 541,
                  "end" : 541,
                  "point" : 541
                },
                "msg" : "not found: value intercept",
                "severity" : 2
              },
              {
                "pos" : {
                  "sourceId" : "Cell6",
                  "start" : 337,
                  "end" : 337,
                  "point" : 337
                },
                "msg" : "not found: value assertResult",
                "severity" : 2
              },
              {
                "pos" : {
                  "sourceId" : "Cell6",
                  "start" : 355,
                  "end" : 355,
                  "point" : 355
                },
                "msg" : "not found: value ele",
                "severity" : 2
              },
              {
                "pos" : {
                  "sourceId" : "Cell6",
                  "start" : 369,
                  "end" : 369,
                  "point" : 369
                },
                "msg" : "not found: value assertThrows",
                "severity" : 2
              },
              {
                "pos" : {
                  "sourceId" : "Cell6",
                  "start" : 410,
                  "end" : 410,
                  "point" : 410
                },
                "msg" : "not found: value elem",
                "severity" : 2
              }
            ],
            "text/plain" : [
              "Error: not found: value intercept (541)",
              "Error: not found: value assertResult (337)",
              "Error: not found: value ele (355)",
              "Error: not found: value assertThrows (369)",
              "Error: not found: value elem (410)"
            ]
          },
          "metadata" : {
            "rel" : "compiler_errors"
          },
          "output_type" : "execute_result"
        }
      ]
    },
    {
      "cell_type" : "code",
      "execution_count" : 21,
      "metadata" : {
        "language" : "scala"
      },
      "language" : "scala",
      "source" : [
      ],
      "outputs" : [
      ]
    },
    {
      "cell_type" : "markdown",
      "execution_count" : 9,
      "metadata" : {
        "language" : "text"
      },
      "language" : "text",
      "source" : [
        "### Tests as specifications\n",
        "\n",
        "\n"
      ],
      "outputs" : [
      ]
    },
    {
      "cell_type" : "code",
      "execution_count" : 10,
      "metadata" : {
        "cell.metadata.exec_info" : {
          "startTs" : 1686441515142,
          "endTs" : 1686441515168
        },
        "language" : "scala"
      },
      "language" : "scala",
      "source" : [
        "// In file assertions-and-tests/ElementSpec.scala\n",
        "\n",
        "import org.scalatest.flatspec.AnyFlatSpec\n",
        "import org.scalatest.matchers.should.Matchers\n",
        "import Element.elem\n",
        "\n",
        "class ElementSpec extends AnyFlatSpec with Matchers {\n",
        "\n",
        "  \"A UniformElement\" should\n",
        "      \"have a width equal to the passed value\" in {\n",
        "    val ele = elem('x', 2, 3)\n",
        "    ele.width should be (2)\n",
        "  }\n",
        "\n",
        "  it should \"have a height equal to the passed value\" in {\n",
        "    val ele = elem('x', 2, 3)\n",
        "    ele.height should be (3)\n",
        "  }\n",
        "\n",
        "  it should \"throw an IAE if passed a negative width\" in {\n",
        "    an [IllegalArgumentException] should be thrownBy {\n",
        "      elem('x', -2, 3)\n",
        "    }\n",
        "  }\n",
        "}\n",
        "(new ElementSpec).execute()"
      ],
      "outputs" : [
        {
          "execution_count" : 10,
          "data" : {
            "application/json" : [
              {
                "pos" : {
                  "sourceId" : "Cell10",
                  "start" : 62,
                  "end" : 62,
                  "point" : 62
                },
                "msg" : "object scalatest is not a member of package org",
                "severity" : 2
              },
              {
                "pos" : {
                  "sourceId" : "Cell10",
                  "start" : 186,
                  "end" : 186,
                  "point" : 186
                },
                "msg" : "not found: type AnyFlatSpec",
                "severity" : 2
              },
              {
                "pos" : {
                  "sourceId" : "Cell10",
                  "start" : 104,
                  "end" : 104,
                  "point" : 104
                },
                "msg" : "object scalatest is not a member of package org",
                "severity" : 2
              },
              {
                "pos" : {
                  "sourceId" : "Cell10",
                  "start" : 203,
                  "end" : 203,
                  "point" : 203
                },
                "msg" : "not found: type Matchers",
                "severity" : 2
              },
              {
                "pos" : {
                  "sourceId" : "Cell10",
                  "start" : 146,
                  "end" : 146,
                  "point" : 146
                },
                "msg" : "not found: value Element",
                "severity" : 2
              },
              {
                "pos" : {
                  "sourceId" : "Cell10",
                  "start" : 648,
                  "end" : 648,
                  "point" : 648
                },
                "msg" : "value execute is not a member of Cell10$1.this.ElementSpec",
                "severity" : 2
              },
              {
                "pos" : {
                  "sourceId" : "Cell10",
                  "start" : 236,
                  "end" : 236,
                  "point" : 236
                },
                "msg" : "value should is not a member of String",
                "severity" : 2
              },
              {
                "pos" : {
                  "sourceId" : "Cell10",
                  "start" : 309,
                  "end" : 309,
                  "point" : 309
                },
                "msg" : "not found: value elem",
                "severity" : 2
              },
              {
                "pos" : {
                  "sourceId" : "Cell10",
                  "start" : 360,
                  "end" : 360,
                  "point" : 360
                },
                "msg" : "not found: value it",
                "severity" : 2
              },
              {
                "pos" : {
                  "sourceId" : "Cell10",
                  "start" : 431,
                  "end" : 431,
                  "point" : 431
                },
                "msg" : "not found: value elem",
                "severity" : 2
              },
              {
                "pos" : {
                  "sourceId" : "Cell10",
                  "start" : 483,
                  "end" : 483,
                  "point" : 483
                },
                "msg" : "not found: value it",
                "severity" : 2
              },
              {
                "pos" : {
                  "sourceId" : "Cell10",
                  "start" : 544,
                  "end" : 544,
                  "point" : 544
                },
                "msg" : "not found: value an",
                "severity" : 2
              },
              {
                "pos" : {
                  "sourceId" : "Cell10",
                  "start" : 581,
                  "end" : 581,
                  "point" : 581
                },
                "msg" : "not found: value be",
                "severity" : 2
              },
              {
                "pos" : {
                  "sourceId" : "Cell10",
                  "start" : 601,
                  "end" : 601,
                  "point" : 601
                },
                "msg" : "not found: value elem",
                "severity" : 2
              }
            ],
            "text/plain" : [
              "Error: object scalatest is not a member of package org (62)",
              "Error: not found: type AnyFlatSpec (186)",
              "Error: object scalatest is not a member of package org (104)",
              "Error: not found: type Matchers (203)",
              "Error: not found: value Element (146)",
              "Error: value execute is not a member of Cell10$1.this.ElementSpec (648)",
              "Error: value should is not a member of String (236)",
              "Error: not found: value elem (309)",
              "Error: not found: value it (360)",
              "Error: not found: value elem (431)",
              "Error: not found: value it (483)",
              "Error: not found: value an (544)",
              "Error: not found: value be (581)",
              "Error: not found: value elem (601)"
            ]
          },
          "metadata" : {
            "rel" : "compiler_errors"
          },
          "output_type" : "execute_result"
        }
      ]
    },
    {
      "cell_type" : "code",
      "execution_count" : 22,
      "metadata" : {
        "language" : "scala"
      },
      "language" : "scala",
      "source" : [
        "result must be >= 0\r\n",
        "map must contain key 'c'\r\n",
        "\r\n",
        "//Map('a' -> 1, 'b' -> 2) did not contain key 'c'\r\n",
        "\r\n",
        "\r\n",
        "import org.specs2._\r\n",
        "import Element.elem\r\n",
        "\r\n",
        "object ElementSpecification extends Specification {\r\n",
        "\"A UniformElement\" should {\r\n",
        "    \"have a width equal to the passed value\" in {\r\n",
        "    val ele = elem('x', 2, 3)\r\n",
        "    ele.width must be_==(2)\r\n",
        "    }\r\n",
        "    \"have a height equal to the passed value\" in {\r\n",
        "    val ele = elem('x', 2, 3)\r\n",
        "    ele.height must be_==(3)\r\n",
        "    }\r\n",
        "    \"throw an IAE if passed a negative width\" in {\r\n",
        "    elem('x', -2, 3) must\r\n",
        "        throwA[IllegalArgumentException]\r\n",
        "    }\r\n",
        "}\r\n",
        "}\r\n",
        "\r\n",
        "\r\n",
        "// In file assertions-and-tests/TVSetSpec.scala\r\n",
        "\r\n",
        "import org.scalatest._\r\n",
        "import org.scalatest.featurespec.AnyFeatureSpec\r\n",
        "\r\n",
        "class TVSetSpec extends AnyFeatureSpec with GivenWhenThen {\r\n",
        "\r\n",
        "  Feature(\"TV power button\") {\r\n",
        "    Scenario(\"User presses power button when TV is off\") {\r\n",
        "      Given(\"a TV set that is switched off\")\r\n",
        "      When(\"the power button is pressed\")\r\n",
        "      Then(\"the TV should switch on\")\r\n",
        "      pending\r\n",
        "    }\r\n",
        "  }\r\n",
        "}\r\n",
        "\r\n"
      ],
      "outputs" : [
      ]
    },
    {
      "cell_type" : "markdown",
      "execution_count" : 11,
      "metadata" : {
        "language" : "text"
      },
      "language" : "text",
      "source" : [
        "### Property-based testing\n",
        "\n",
        "\n"
      ],
      "outputs" : [
      ]
    },
    {
      "cell_type" : "code",
      "execution_count" : 12,
      "metadata" : {
        "language" : "scala"
      },
      "language" : "scala",
      "source" : [
        "import org.scalatest.wordspec.AnyWordSpec\r\n",
        "  import org.scalatestplus.scalacheck.ScalaCheckPropertyChecks\r\n",
        "  import org.scalatest.matchers.must.Matchers._\r\n",
        "  import Element.elem\r\n",
        "\r\n",
        "  class ElementSpec extends AnyWordSpec\r\n",
        "          with ScalaCheckPropertyChecks {\r\n",
        "    \"elem result\" must {\r\n",
        "      \"have passed width\" in {\r\n",
        "        forAll { (w: Int) =>\r\n",
        "          whenever (w > 0) {\r\n",
        "            elem('x', w % 100, 3).width must equal (w % 100)\r\n",
        "          }\r\n",
        "        }\r\n",
        "      }\r\n",
        "    } \r\n",
        "  }\r\n",
        "\r\n",
        "\r\n",
        "  whenever (w > 0) {\r\n",
        "    elem('x', w % 100, 3).width must equal (w % 100)\r\n",
        "  }"
      ],
      "outputs" : [
        {
          "data" : {
            "application/vnd.code.notebook.error" : [
            ]
          },
          "output_type" : "display_data"
        }
      ]
    },
    {
      "cell_type" : "markdown",
      "execution_count" : 23,
      "metadata" : {
        "language" : "text"
      },
      "language" : "text",
      "source" : [
        "### Organizing and running tests\n",
        "\n"
      ],
      "outputs" : [
      ]
    },
    {
      "cell_type" : "code",
      "execution_count" : 13,
      "metadata" : {
        "language" : "scala"
      },
      "language" : "scala",
      "source" : [
        "scalac -cp scalatest-app.jar:scala-xml.jar TVSetSpec.scala\r\n",
        "\r\n",
        "\r\n",
        "scala -cp scalatest-app.jar:scala-xml.jar org.scalatest.run TVSetSpec"
      ],
      "outputs" : [
        {
          "data" : {
            "text/plain" : [
              "2"
            ]
          },
          "output_type" : "display_data"
        }
      ]
    }
  ]
}