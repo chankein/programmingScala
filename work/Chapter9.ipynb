{
  "metadata" : {
    "config" : {
      "dependencies" : {
        
      },
      "exclusions" : [
      ],
      "repositories" : [
      ],
      "sparkConfig" : {
        
      }
    }
  },
  "nbformat" : 4,
  "nbformat_minor" : 0,
  "cells" : [
    {
      "cell_type" : "markdown",
      "execution_count" : 0,
      "metadata" : {
        "language" : "text"
      },
      "language" : "text",
      "source" : [
        "## Chapter9.Control Abstraction\n",
        "\n",
        "\n"
      ],
      "outputs" : [
      ]
    },
    {
      "cell_type" : "markdown",
      "execution_count" : 1,
      "metadata" : {
        "language" : "text"
      },
      "language" : "text",
      "source" : [
        "### Reducing code duplication\n",
        "\n",
        "\n"
      ],
      "outputs" : [
      ]
    },
    {
      "cell_type" : "code",
      "execution_count" : 2,
      "metadata" : {
        "cell.metadata.exec_info" : {
          "startTs" : 1686036772962,
          "endTs" : 1686036773076
        },
        "language" : "scala"
      },
      "language" : "scala",
      "source" : [
        "object FileMatcher {\r\n",
        "    private def filesHere = (new java.io.File(\".\")).listFiles\r\n",
        "\r\n",
        "    def filesEnding(query: String) =\r\n",
        "      for (file <- filesHere; if file.getName.endsWith(query))\r\n",
        "        yield file\r\n",
        "  }"
      ],
      "outputs" : [
        {
          "name" : "stdout",
          "text" : [
            "hi\n"
          ],
          "output_type" : "stream"
        }
      ]
    },
    {
      "cell_type" : "code",
      "execution_count" : 3,
      "metadata" : {
        "language" : "scala"
      },
      "language" : "scala",
      "source" : [
        "def filesContaining(query: String) =\r\n",
        "    for (file <- filesHere; if file.getName.contains(query))\r\n",
        "      yield file"
      ],
      "outputs" : [
      ]
    },
    {
      "cell_type" : "code",
      "execution_count" : 4,
      "metadata" : {
        "language" : "scala"
      },
      "language" : "scala",
      "source" : [
        "def filesRegex(query: String) =\r\n",
        "    for (file <- filesHere; if file.getName.matches(query))\r\n",
        "      yield file"
      ],
      "outputs" : [
      ]
    },
    {
      "cell_type" : "code",
      "execution_count" : 5,
      "metadata" : {
        "language" : "scala"
      },
      "language" : "scala",
      "source" : [
        " def filesMatching(query: String, method) =\r\n",
        "    for (file <- filesHere; if file.getName.method(query))\r\n",
        "      yield file\r\n"
      ],
      "outputs" : [
      ]
    },
    {
      "cell_type" : "code",
      "execution_count" : 6,
      "metadata" : {
        "language" : "scala"
      },
      "language" : "scala",
      "source" : [
        "def filesMatching(query: String,\r\n",
        "    matcher: (String, String) => Boolean) = {\r\n",
        "\r\n",
        "    for (file <- filesHere; if matcher(file.getName, query))\r\n",
        "      yield file\r\n",
        "  }"
      ],
      "outputs" : [
      ]
    },
    {
      "cell_type" : "code",
      "execution_count" : 7,
      "metadata" : {
        "language" : "scala"
      },
      "language" : "scala",
      "source" : [
        "def filesEnding(query: String) =\r\n",
        "    filesMatching(query, _.endsWith(_))\r\n",
        "\r\n",
        "def filesContaining(query: String) =\r\n",
        "    filesMatching(query, _.contains(_))\r\n",
        "\r\n",
        "def filesRegex(query: String) =\r\n",
        "    filesMatching(query, _.matches(_))\r\n"
      ],
      "outputs" : [
      ]
    },
    {
      "cell_type" : "code",
      "execution_count" : 8,
      "metadata" : {
        "language" : "scala"
      },
      "language" : "scala",
      "source" : [
        "object FileMatcher {\r\n",
        "    private def filesHere = (new java.io.File(\".\")).listFiles\r\n",
        "\r\n",
        "    private def filesMatching(matcher: String => Boolean) =\r\n",
        "      for (file <- filesHere; if matcher(file.getName))\r\n",
        "        yield file\r\n",
        "  \r\n",
        "    def filesEnding(query: String) =\r\n",
        "      filesMatching(_.endsWith(query))\r\n",
        "  \r\n",
        "    def filesContaining(query: String) =\r\n",
        "      filesMatching(_.contains(query))\r\n",
        "  \r\n",
        "    def filesRegex(query: String) =\r\n",
        "      filesMatching(_.matches(query))\r\n",
        "  }\r\n"
      ],
      "outputs" : [
      ]
    },
    {
      "cell_type" : "markdown",
      "execution_count" : 9,
      "metadata" : {
        "language" : "text"
      },
      "language" : "text",
      "source" : [
        "### Simplifying client code\n",
        "\n",
        "\n"
      ],
      "outputs" : [
      ]
    },
    {
      "cell_type" : "code",
      "execution_count" : 10,
      "metadata" : {
        "cell.metadata.exec_info" : {
          "startTs" : 1686205423117,
          "endTs" : 1686205423376
        },
        "language" : "scala"
      },
      "language" : "scala",
      "source" : [
        " def containsNeg(nums: List[Int]): Boolean = {\r\n",
        "    var exists = false\r\n",
        "    for (num <- nums)\r\n",
        "      if (num < 0)\r\n",
        "        exists = true\r\n",
        "    exists\r\n",
        "}\r\n",
        "containsNeg(List(1, 2, 3, 4))\r\n",
        "containsNeg(List(1, 2, -3, 4))\r\n",
        "containsNeg(Nil)\r\n",
        "containsNeg(List(0, -1, -2))"
      ],
      "outputs" : [
        {
          "execution_count" : 10,
          "data" : {
            "text/plain" : [
              "true"
            ]
          },
          "metadata" : {
            "name" : "Out",
            "type" : "Boolean"
          },
          "output_type" : "execute_result"
        }
      ]
    },
    {
      "cell_type" : "code",
      "execution_count" : 11,
      "metadata" : {
        "cell.metadata.exec_info" : {
          "startTs" : 1686205477432,
          "endTs" : 1686205477615
        },
        "language" : "scala"
      },
      "language" : "scala",
      "source" : [
        "def containsOdd(nums: List[Int]): Boolean = {\n",
        "    var exists = false\n",
        "    for (num <- nums)\n",
        "      if (num % 2 == 1)\n",
        "        exists = true\n",
        "    exists\n",
        "}\n",
        "\n",
        "\n",
        "containsNeg(List(1, 2, -3, 4))"
      ],
      "outputs" : [
        {
          "execution_count" : 11,
          "data" : {
            "text/plain" : [
              "true"
            ]
          },
          "metadata" : {
            "name" : "Out",
            "type" : "Boolean"
          },
          "output_type" : "execute_result"
        }
      ]
    },
    {
      "cell_type" : "code",
      "execution_count" : 12,
      "metadata" : {
        "cell.metadata.exec_info" : {
          "startTs" : 1686205479198,
          "endTs" : 1686205479357
        },
        "language" : "scala"
      },
      "language" : "scala",
      "source" : [
        "def containsOdd(nums: List[Int]) = nums.exists(_ % 2 == 1)\r\n",
        "containsNeg(List(1, 2, -3, 4))"
      ],
      "outputs" : [
        {
          "execution_count" : 12,
          "data" : {
            "text/plain" : [
              "true"
            ]
          },
          "metadata" : {
            "name" : "Out",
            "type" : "Boolean"
          },
          "output_type" : "execute_result"
        }
      ]
    },
    {
      "cell_type" : "markdown",
      "execution_count" : 13,
      "metadata" : {
        "language" : "text"
      },
      "language" : "text",
      "source" : [
        "### Currying\n",
        "\n",
        "\n"
      ],
      "outputs" : [
      ]
    },
    {
      "cell_type" : "code",
      "execution_count" : 14,
      "metadata" : {
        "cell.metadata.exec_info" : {
          "startTs" : 1686205529574,
          "endTs" : 1686205529661
        },
        "language" : "scala"
      },
      "language" : "scala",
      "source" : [
        "def plainOldSum(x: Int, y: Int) = x + y\n",
        "plainOldSum(1, 2)"
      ],
      "outputs" : [
        {
          "execution_count" : 14,
          "data" : {
            "text/plain" : [
              "3"
            ]
          },
          "metadata" : {
            "name" : "Out",
            "type" : "Int"
          },
          "output_type" : "execute_result"
        }
      ]
    },
    {
      "cell_type" : "markdown",
      "execution_count" : 15,
      "metadata" : {
        "language" : "text"
      },
      "language" : "text",
      "source" : [
      ],
      "outputs" : [
      ]
    },
    {
      "cell_type" : "code",
      "execution_count" : 16,
      "metadata" : {
        "cell.metadata.exec_info" : {
          "startTs" : 1686205974599,
          "endTs" : 1686205974685
        },
        "language" : "scala"
      },
      "language" : "scala",
      "source" : [
        "def curriedSum(x: Int)(y: Int) = x + y\n",
        "curriedSum(1)(2)"
      ],
      "outputs" : [
        {
          "execution_count" : 16,
          "data" : {
            "text/plain" : [
              "3"
            ]
          },
          "metadata" : {
            "name" : "Out",
            "type" : "Int"
          },
          "output_type" : "execute_result"
        }
      ]
    },
    {
      "cell_type" : "code",
      "execution_count" : 17,
      "metadata" : {
        "cell.metadata.exec_info" : {
          "startTs" : 1686206016179,
          "endTs" : 1686206016368
        },
        "language" : "scala"
      },
      "language" : "scala",
      "source" : [
        "def first(x: Int) = (y: Int) => x + y\r\n",
        "val second = first(1)\r\n",
        "second(2)"
      ],
      "outputs" : [
        {
          "execution_count" : 17,
          "data" : {
            "text/plain" : [
              "3"
            ]
          },
          "metadata" : {
            "name" : "Out",
            "type" : "Int"
          },
          "output_type" : "execute_result"
        }
      ]
    },
    {
      "cell_type" : "code",
      "execution_count" : 18,
      "metadata" : {
        "cell.metadata.exec_info" : {
          "startTs" : 1686206034426,
          "endTs" : 1686206034634
        },
        "language" : "scala"
      },
      "language" : "scala",
      "source" : [
        "val onePlus = curriedSum(1)_\r\n",
        "onePlus(2)"
      ],
      "outputs" : [
        {
          "execution_count" : 18,
          "data" : {
            "text/plain" : [
              "3"
            ]
          },
          "metadata" : {
            "name" : "Out",
            "type" : "Int"
          },
          "output_type" : "execute_result"
        }
      ]
    },
    {
      "cell_type" : "markdown",
      "execution_count" : 19,
      "metadata" : {
        "language" : "text"
      },
      "language" : "text",
      "source" : [
        "### Short forms of function literals\n",
        "\n",
        "\n"
      ],
      "outputs" : [
      ]
    },
    {
      "cell_type" : "code",
      "execution_count" : 20,
      "metadata" : {
        "cell.metadata.exec_info" : {
          "startTs" : 1686206045527,
          "endTs" : 1686206045708
        },
        "language" : "scala"
      },
      "language" : "scala",
      "source" : [
        "val twoPlus = curriedSum(2)_\n",
        "twoPlus(2)"
      ],
      "outputs" : [
        {
          "execution_count" : 20,
          "data" : {
            "text/plain" : [
              "4"
            ]
          },
          "metadata" : {
            "name" : "Out",
            "type" : "Int"
          },
          "output_type" : "execute_result"
        }
      ]
    },
    {
      "cell_type" : "markdown",
      "execution_count" : 21,
      "metadata" : {
        "language" : "text"
      },
      "language" : "text",
      "source" : [
        "### Writing new control structures\n",
        "\n",
        "\n"
      ],
      "outputs" : [
      ]
    },
    {
      "cell_type" : "code",
      "execution_count" : 22,
      "metadata" : {
        "cell.metadata.exec_info" : {
          "startTs" : 1686206086611,
          "endTs" : 1686206086715
        },
        "language" : "scala"
      },
      "language" : "scala",
      "source" : [
        "def twice(op: Double => Double, x: Double) = op(op(x))\r\n",
        " twice(_ + 1, 5)"
      ],
      "outputs" : [
        {
          "execution_count" : 22,
          "data" : {
            "text/plain" : [
              "7.0"
            ]
          },
          "metadata" : {
            "name" : "Out",
            "type" : "Double"
          },
          "output_type" : "execute_result"
        }
      ]
    },
    {
      "cell_type" : "code",
      "execution_count" : 23,
      "metadata" : {
        "cell.metadata.exec_info" : {
          "startTs" : 1686206346588,
          "endTs" : 1686206346608
        },
        "language" : "scala"
      },
      "language" : "scala",
      "source" : [
        "import java.io.File\r\n",
        "def withPrintWriter(file: File, op: PrintWriter => Unit) = {\r\n",
        "    val writer = new PrintWriter(file)\r\n",
        "    try {\r\n",
        "      op(writer)\r\n",
        "    } finally {\r\n",
        "      writer.close()\r\n",
        "    }\r\n",
        "}\r\n",
        "withPrintWriter(new File(\"date.txt\"),\r\n",
        "    writer => writer.println(new java.util.Date)\r\n",
        ")"
      ],
      "outputs" : [
        {
          "execution_count" : 23,
          "data" : {
            "application/json" : [
              {
                "pos" : {
                  "sourceId" : "Cell15",
                  "start" : 104,
                  "end" : 104,
                  "point" : 104
                },
                "msg" : "not found: type PrintWriter",
                "severity" : 2
              },
              {
                "pos" : {
                  "sourceId" : "Cell15",
                  "start" : 57,
                  "end" : 57,
                  "point" : 57
                },
                "msg" : "not found: type PrintWriter",
                "severity" : 2
              }
            ],
            "text/plain" : [
              "Error: not found: type PrintWriter (104)",
              "Error: not found: type PrintWriter (57)"
            ]
          },
          "metadata" : {
            "rel" : "compiler_errors"
          },
          "output_type" : "execute_result"
        }
      ]
    },
    {
      "cell_type" : "code",
      "execution_count" : 24,
      "metadata" : {
        "language" : "scala"
      },
      "language" : "scala",
      "source" : [
        "def withPrintWriter(file: File)(op: PrintWriter => Unit) = {\r\n",
        "    val writer = new PrintWriter(file)\r\n",
        "    try {\r\n",
        "      op(writer)\r\n",
        "    } finally {\r\n",
        "      writer.close()\r\n",
        "    }\r\n",
        "}"
      ],
      "outputs" : [
      ]
    },
    {
      "cell_type" : "code",
      "execution_count" : 25,
      "metadata" : {
        "language" : "scala"
      },
      "language" : "scala",
      "source" : [
        " def withPrintWriter(file: File)(op: PrintWriter => Unit) = {\r\n",
        "    val writer = new PrintWriter(file)\r\n",
        "    try {\r\n",
        "      op(writer)\r\n",
        "    } finally {\r\n",
        "      writer.close()\r\n",
        "    }\r\n",
        "}"
      ],
      "outputs" : [
      ]
    },
    {
      "cell_type" : "code",
      "execution_count" : 26,
      "metadata" : {
        "language" : "scala"
      },
      "language" : "scala",
      "source" : [
        "val file = new File(\"date.txt\")\r\n",
        "\r\n",
        "  withPrintWriter(file) { writer =>\r\n",
        "    writer.println(new java.util.Date)\r\n",
        "  }\r\n"
      ],
      "outputs" : [
      ]
    },
    {
      "cell_type" : "markdown",
      "execution_count" : 27,
      "metadata" : {
        "language" : "text"
      },
      "language" : "text",
      "source" : [
        "### By-name parameters\n",
        "\n",
        "\n"
      ],
      "outputs" : [
      ]
    },
    {
      "cell_type" : "code",
      "execution_count" : 28,
      "metadata" : {
        "cell.metadata.exec_info" : {
          "startTs" : 1686206417241,
          "endTs" : 1686206417255
        },
        "language" : "scala"
      },
      "language" : "scala",
      "source" : [
        "withPrintWriter(file) { writer =>\n",
        "    writer.println(new java.util.Date)\n",
        "}\n"
      ],
      "outputs" : [
        {
          "execution_count" : 28,
          "data" : {
            "application/json" : [
              {
                "pos" : {
                  "sourceId" : "Cell17",
                  "start" : 0,
                  "end" : 0,
                  "point" : 0
                },
                "msg" : "not found: value withPrintWriter",
                "severity" : 2
              },
              {
                "pos" : {
                  "sourceId" : "Cell17",
                  "start" : 16,
                  "end" : 16,
                  "point" : 16
                },
                "msg" : "not found: value file",
                "severity" : 2
              }
            ],
            "text/plain" : [
              "Error: not found: value withPrintWriter (0)",
              "Error: not found: value file (16)"
            ]
          },
          "metadata" : {
            "rel" : "compiler_errors"
          },
          "output_type" : "execute_result"
        }
      ]
    },
    {
      "cell_type" : "code",
      "execution_count" : 29,
      "metadata" : {
        "cell.metadata.exec_info" : {
          "startTs" : 1686206560441,
          "endTs" : 1686206560545
        },
        "language" : "scala"
      },
      "language" : "scala",
      "source" : [
        "\r\n",
        "var assertionsEnabled = true\r\n",
        "\r\n",
        "def myAssert(predicate: () => Boolean) =\r\n",
        "    if (assertionsEnabled && !predicate())\r\n",
        "      throw new AssertionError\r\n",
        "myAssert(() => 5 > 3)\r\n",
        "def boolAssert(predicate: Boolean) =\r\n",
        "    if (assertionsEnabled && !predicate)\r\n",
        "      throw new AssertionError\r\n",
        "boolAssert(5 > 3)\r\n",
        "def byNameAssert(predicate: => Boolean) =\r\n",
        "    if (assertionsEnabled && !predicate)\r\n",
        "      throw new AssertionError\r\n",
        " val x = 5\r\n",
        " assertionsEnabled = false\r\n",
        " boolAssert(x / 0 == 0)\r\n",
        " byNameAssert(x / 0 == 0)"
      ],
      "outputs" : [
        {
          "ename" : "java.lang.ArithmeticException",
          "evalue" : "/ by zero",
          "traceback" : [
          ],
          "output_type" : "error"
        }
      ]
    }
  ]
}