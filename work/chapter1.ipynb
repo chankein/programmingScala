{
  "metadata" : {
    "config" : {
      "dependencies" : {
        
      },
      "exclusions" : [
      ],
      "repositories" : [
      ],
      "sparkConfig" : {
        
      }
    }
  },
  "nbformat" : 4,
  "nbformat_minor" : 0,
  "cells" : [
    {
      "cell_type" : "markdown",
      "execution_count" : 0,
      "metadata" : {
        "language" : "text"
      },
      "language" : "text",
      "source" : [
        "# chapter1.ipynb\n",
        "\n",
        "This is a text cell. Start editing!"
      ],
      "outputs" : [
      ]
    },
    {
      "cell_type" : "code",
      "execution_count" : 1,
      "metadata" : {
        "cell.metadata.exec_info" : {
          "startTs" : 1685930315903,
          "endTs" : 1685930317290
        },
        "language" : "scala"
      },
      "language" : "scala",
      "source" : [
        "var capital = Map(\"US\" -> \"Washington\", \"France\" -> \"Paris\")\n",
        "\n",
        "capital += (\"Japan\" -> \"Tokyo\")\n",
        "\n",
        "println(capital(\"France\")) "
      ],
      "outputs" : [
        {
          "name" : "stdout",
          "text" : [
            "Paris\n"
          ],
          "output_type" : "stream"
        }
      ]
    },
    {
      "cell_type" : "code",
      "execution_count" : 2,
      "metadata" : {
        "cell.metadata.exec_info" : {
          "startTs" : 1685930317319,
          "endTs" : 1685930317542
        },
        "language" : "scala"
      },
      "language" : "scala",
      "source" : [
        "def factorial(x: BigInt): BigInt = \n",
        "    if (x == 0) 1 else x * factorial(x - 1)"
      ],
      "outputs" : [
      ]
    }
  ]
}