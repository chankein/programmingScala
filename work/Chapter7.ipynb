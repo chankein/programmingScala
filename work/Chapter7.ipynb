{
  "metadata" : {
    "config" : {
      "dependencies" : {
        
      },
      "exclusions" : [
      ],
      "repositories" : [
      ],
      "sparkConfig" : {
        
      }
    }
  },
  "nbformat" : 4,
  "nbformat_minor" : 0,
  "cells" : [
    {
      "cell_type" : "markdown",
      "execution_count" : 0,
      "metadata" : {
        "language" : "text"
      },
      "language" : "text",
      "source" : [
        "## Chapter7.Built-in Control Structures\n",
        "\n",
        "\n"
      ],
      "outputs" : [
      ]
    },
    {
      "cell_type" : "code",
      "execution_count" : 1,
      "metadata" : {
        "cell.metadata.exec_info" : {
          "startTs" : 1686036772962,
          "endTs" : 1686036773076
        },
        "language" : "scala"
      },
      "language" : "scala",
      "source" : [
        "def greet() = { println(\"hi\") }\r\n",
        "val whatAmI = greet()"
      ],
      "outputs" : [
        {
          "name" : "stdout",
          "text" : [
            "hi\n"
          ],
          "output_type" : "stream"
        }
      ]
    },
    {
      "cell_type" : "markdown",
      "execution_count" : 2,
      "metadata" : {
        "language" : "text"
      },
      "language" : "text",
      "source" : [
        "### If expressions\n",
        "\n",
        "\n"
      ],
      "outputs" : [
      ]
    },
    {
      "cell_type" : "code",
      "execution_count" : 3,
      "metadata" : {
        "language" : "scala"
      },
      "language" : "scala",
      "source" : [
      ],
      "outputs" : [
      ]
    },
    {
      "cell_type" : "code",
      "execution_count" : 4,
      "metadata" : {
        "cell.metadata.exec_info" : {
          "startTs" : 1686036593528
        },
        "language" : "scala"
      },
      "language" : "scala",
      "source" : [
        "var line = \"\"\n",
        "while ((line = readLine()) != \"\") // This doesn't work!\n",
        "    println(\"Read: \" + line)"
      ],
      "outputs" : [
      ]
    },
    {
      "cell_type" : "markdown",
      "execution_count" : 5,
      "metadata" : {
        "language" : "text"
      },
      "language" : "text",
      "source" : [
        "**Reimplementing the toString method**\n",
        "\n",
        "\n"
      ],
      "outputs" : [
      ]
    },
    {
      "cell_type" : "code",
      "execution_count" : 6,
      "metadata" : {
        "cell.metadata.exec_info" : {
          "startTs" : 1686036734325,
          "endTs" : 1686036735163
        },
        "language" : "scala"
      },
      "language" : "scala",
      "source" : [
        "for (i <- 1 to 4)\n",
        "    println(\"Iteration \" + i)"
      ],
      "outputs" : [
        {
          "name" : "stdout",
          "text" : [
            "Iteration 1\n",
            "Iteration 2\n",
            "Iteration 3\n",
            "Iteration 4\n"
          ],
          "output_type" : "stream"
        }
      ]
    },
    {
      "cell_type" : "markdown",
      "execution_count" : 7,
      "metadata" : {
        "language" : "text"
      },
      "language" : "text",
      "source" : [
      ],
      "outputs" : [
      ]
    },
    {
      "cell_type" : "code",
      "execution_count" : 8,
      "metadata" : {
        "cell.metadata.exec_info" : {
          "startTs" : 1686036740670,
          "endTs" : 1686036741003
        },
        "language" : "scala"
      },
      "language" : "scala",
      "source" : [
        " for (i <- 1 until 4)\n",
        "    println(\"Iteration \" + i)"
      ],
      "outputs" : [
        {
          "name" : "stdout",
          "text" : [
            "Iteration 1\n",
            "Iteration 2\n",
            "Iteration 3\n"
          ],
          "output_type" : "stream"
        }
      ]
    },
    {
      "cell_type" : "markdown",
      "execution_count" : 9,
      "metadata" : {
        "language" : "text"
      },
      "language" : "text",
      "source" : [
        "### Checking preconditions\n",
        "\n"
      ],
      "outputs" : [
      ]
    },
    {
      "cell_type" : "code",
      "execution_count" : 10,
      "metadata" : {
        "cell.metadata.exec_info" : {
          "startTs" : 1686038067471,
          "endTs" : 1686038067922
        },
        "language" : "scala"
      },
      "language" : "scala",
      "source" : [
        "val ag =  Array(\"zero\", \"one\", \"two\")\n",
        "\n",
        "var i = 0\n",
        "var foundIt = false\n",
        "\n",
        "  while (i < ag.length && !foundIt) {\n",
        "    if (!ag(i).startsWith(\"-\")) {\n",
        "      if (ag(i).endsWith(\".scala\"))\n",
        "        foundIt = true\n",
        "    }\n",
        "    i = i + 1\n",
        "}"
      ],
      "outputs" : [
      ]
    },
    {
      "cell_type" : "markdown",
      "execution_count" : 11,
      "metadata" : {
        "language" : "text"
      },
      "language" : "text",
      "source" : [
        "### Adding fields\n",
        "\n"
      ],
      "outputs" : [
      ]
    },
    {
      "cell_type" : "code",
      "execution_count" : 12,
      "metadata" : {
        "language" : "scala"
      },
      "language" : "scala",
      "source" : [
        "def searchFrom(i: Int): Int =\r\n",
        "    if (i >= args.length) -1\r\n",
        "    else if (args(i).startsWith(\"-\")) searchFrom(i + 1) \r\n",
        "    else if (args(i).endsWith(\".scala\")) i\r\n",
        "    else searchFrom(i + 1)\r\n",
        "\r\n",
        "val i = searchFrom(0)"
      ],
      "outputs" : [
        {
          "data" : {
            "application/vnd.code.notebook.error" : [
            ]
          },
          "output_type" : "display_data"
        }
      ]
    },
    {
      "cell_type" : "code",
      "execution_count" : 13,
      "metadata" : {
        "language" : "scala"
      },
      "language" : "scala",
      "source" : [
      ],
      "outputs" : [
        {
          "data" : {
            "text/plain" : [
              "2"
            ]
          },
          "output_type" : "display_data"
        }
      ]
    },
    {
      "cell_type" : "markdown",
      "execution_count" : 14,
      "metadata" : {
        "language" : "text"
      },
      "language" : "text",
      "source" : [
        "### Self references\n",
        "\n"
      ],
      "outputs" : [
      ]
    },
    {
      "cell_type" : "code",
      "execution_count" : 15,
      "metadata" : {
        "language" : "scala"
      },
      "language" : "scala",
      "source" : [
        "def printMultiTable() = {\n",
        "\n",
        "    var i = 1\n",
        "    // only i in scope here\n",
        "\n",
        "    while (i <= 10) {\n",
        "\n",
        "      var j = 1\n",
        "      // both i and j in scope here\n",
        "\n",
        "      while (j <= 10) {\n",
        "\n",
        "        val prod = (i * j).toString\n",
        "        // i, j, and prod in scope here\n",
        "\n",
        "        var k = prod.length\n",
        "        // i, j, prod, and k in scope here\n",
        "\n",
        "        while (k < 4) {\n",
        "          print(\" \")\n",
        "          k += 1\n",
        "        }\n",
        "\n",
        "        print(prod)\n",
        "        j += 1\n",
        "      }\n",
        "\n",
        "      // i and j still in scope; prod and k out of scope\n",
        "\n",
        "      println()\n",
        "      i += 1\n",
        "    }\n",
        "\n",
        "    // i still in scope; j, prod, and k out of scope\n",
        "  }"
      ],
      "outputs" : [
        {
          "data" : {
            "text/plain" : [
              "true"
            ]
          },
          "output_type" : "display_data"
        }
      ]
    },
    {
      "cell_type" : "code",
      "execution_count" : 16,
      "metadata" : {
        "cell.metadata.exec_info" : {
          "startTs" : 1686040817213,
          "endTs" : 1686040817240
        },
        "language" : "scala"
      },
      "language" : "scala",
      "source" : [
        "val a = 1\r\n",
        "val a = 2 // Does not compile\r\n",
        "println(a)"
      ],
      "outputs" : [
        {
          "execution_count" : 16,
          "data" : {
            "application/json" : [
              {
                "pos" : {
                  "sourceId" : "Cell26",
                  "start" : 15,
                  "end" : 15,
                  "point" : 15
                },
                "msg" : "a is already defined as value a",
                "severity" : 2
              }
            ],
            "text/plain" : [
              "Error: a is already defined as value a (15)"
            ]
          },
          "metadata" : {
            "rel" : "compiler_errors"
          },
          "output_type" : "execute_result"
        }
      ]
    },
    {
      "cell_type" : "code",
      "execution_count" : 17,
      "metadata" : {
        "cell.metadata.exec_info" : {
          "startTs" : 1686040818946,
          "endTs" : 1686040819123
        },
        "language" : "scala"
      },
      "language" : "scala",
      "source" : [
        "// In file built-in-control-structures/Misc.scala\r\n",
        "\r\n",
        "val a = 1;\r\n",
        "  {\r\n",
        "    val a = 2 // Compiles just fine\r\n",
        "    println(a)\r\n",
        "  }\r\n",
        "println(a)\r\n"
      ],
      "outputs" : [
        {
          "name" : "stdout",
          "text" : [
            "2\n",
            "1\n"
          ],
          "output_type" : "stream"
        }
      ]
    },
    {
      "cell_type" : "code",
      "execution_count" : 18,
      "metadata" : {
        "cell.metadata.exec_info" : {
          "startTs" : 1686040974383,
          "endTs" : 1686040974715
        },
        "language" : "scala"
      },
      "language" : "scala",
      "source" : [
        "// Returns a row as a sequence\r\n",
        "def makeRowSeq(row: Int) =\r\n",
        "    for (col <- 1 to 10) yield {\r\n",
        "      val prod = (row * col).toString\r\n",
        "      val padding = \" \" * (4 - prod.length)\r\n",
        "      padding + prod\r\n",
        "    }\r\n",
        "\r\n",
        "  // Returns a row as a string\r\n",
        "def makeRow(row: Int) = makeRowSeq(row).mkString\r\n",
        "\r\n",
        "  // Returns table as a string with one row per line\r\n",
        "def multiTable() = {\r\n",
        "\r\n",
        "    val tableSeq = // a sequence of row strings\r\n",
        "      for (row <- 1 to 10)\r\n",
        "      yield makeRow(row)\r\n",
        "\r\n",
        "    tableSeq.mkString(\"\\n\")\r\n",
        "}\r\n",
        "\r\n",
        "val array_a=Array(\"a\",\"b\",\"c\")\r\n",
        "multiTable()"
      ],
      "outputs" : [
        {
          "execution_count" : 18,
          "data" : {
            "text/plain" : [
              "   1   2   3   4   5   6   7   8   9  10\n",
              "   2   4   6   8  10  12  14  16  18  20\n",
              "   3   6   9  12  15  18  21  24  27  30\n",
              "   4   8  12  16  20  24  28  32  36  40\n",
              "   5  10  15  20  25  30  35  40  45  50\n",
              "   6  12  18  24  30  36  42  48  54  60\n",
              "   7  14"
            ]
          },
          "metadata" : {
            "name" : "Out",
            "type" : "String"
          },
          "output_type" : "execute_result"
        }
      ]
    }
  ]
}