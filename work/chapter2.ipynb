{
  "metadata" : {
    "config" : {
      "dependencies" : {
        
      },
      "exclusions" : [
      ],
      "repositories" : [
      ],
      "sparkConfig" : {
        
      }
    }
  },
  "nbformat" : 4,
  "nbformat_minor" : 0,
  "cells" : [
    {
      "cell_type" : "markdown",
      "execution_count" : 0,
      "metadata" : {
        "language" : "text"
      },
      "language" : "text",
      "source" : [
        "# chapter2.ipynb\n",
        "\n"
      ],
      "outputs" : [
      ]
    },
    {
      "cell_type" : "markdown",
      "execution_count" : 1,
      "metadata" : {
        "language" : "text"
      },
      "language" : "text",
      "source" : [
        "### Define some variables\n",
        "\n"
      ],
      "outputs" : [
      ]
    },
    {
      "cell_type" : "code",
      "execution_count" : 2,
      "metadata" : {
        "language" : "scala"
      },
      "language" : "scala",
      "source" : [
        "val msg = \"Hello, world!\""
      ],
      "outputs" : [
      ]
    },
    {
      "cell_type" : "code",
      "execution_count" : 3,
      "metadata" : {
        "language" : "scala"
      },
      "language" : "scala",
      "source" : [
        "val msg2: java.lang.String = \"Hello again, world!\""
      ],
      "outputs" : [
      ]
    },
    {
      "cell_type" : "code",
      "execution_count" : 4,
      "metadata" : {
        "language" : "scala"
      },
      "language" : "scala",
      "source" : [
        "val msg3: String = \"Hello yet again, world!\""
      ],
      "outputs" : [
      ]
    },
    {
      "cell_type" : "code",
      "execution_count" : 5,
      "metadata" : {
        "language" : "scala"
      },
      "language" : "scala",
      "source" : [
        "println(msg)"
      ],
      "outputs" : [
        {
          "name" : "stdout",
          "text" : [
            "Hello, world!\n"
          ],
          "output_type" : "stream"
        }
      ]
    },
    {
      "cell_type" : "code",
      "execution_count" : 6,
      "metadata" : {
        "language" : "scala"
      },
      "language" : "scala",
      "source" : [
        "msg = \"Goodbye cruel world!\"\n",
        "// val cannot be reassign"
      ],
      "outputs" : [
        {
          "data" : {
            "application/json" : [
            ]
          },
          "output_type" : "display_data"
        }
      ]
    },
    {
      "cell_type" : "code",
      "execution_count" : 7,
      "metadata" : {
        "language" : "scala"
      },
      "language" : "scala",
      "source" : [
        "var greeting = \"Hello, world!\"\n",
        "greeting = \"Leave me alone, world!\""
      ],
      "outputs" : [
      ]
    },
    {
      "cell_type" : "code",
      "execution_count" : 8,
      "metadata" : {
        "language" : "scala"
      },
      "language" : "scala",
      "source" : [
        "val multiLine =\n",
        "\"\"\"\n",
        "\\|  This is the next line.\n",
        "\"\"\""
      ],
      "outputs" : [
      ]
    },
    {
      "cell_type" : "markdown",
      "execution_count" : 9,
      "metadata" : {
        "language" : "text"
      },
      "language" : "text",
      "source" : [
        "**Define some functions**\n",
        "\n",
        "\n"
      ],
      "outputs" : [
      ]
    },
    {
      "cell_type" : "code",
      "execution_count" : 10,
      "metadata" : {
        "language" : "scala"
      },
      "language" : "scala",
      "source" : [
        "def max(x: Int, y: Int): Int = {\n",
        "    if (x > y) x\n",
        "    else y\n",
        "    }\n",
        "max(2,3)"
      ],
      "outputs" : [
        {
          "data" : {
            "text/plain" : [
              "3"
            ]
          },
          "output_type" : "display_data"
        }
      ]
    },
    {
      "cell_type" : "code",
      "execution_count" : 11,
      "metadata" : {
        "language" : "scala"
      },
      "language" : "scala",
      "source" : [
        "def max(x: Int, y: Int) = if (x > y) x else y\n",
        "max(2,3)"
      ],
      "outputs" : [
        {
          "data" : {
            "text/plain" : [
              "3"
            ]
          },
          "output_type" : "display_data"
        }
      ]
    },
    {
      "cell_type" : "code",
      "execution_count" : 12,
      "metadata" : {
        "language" : "scala"
      },
      "language" : "scala",
      "source" : [
        "def greet() = println(\"Hello, world!\")\n",
        "greet()"
      ],
      "outputs" : [
        {
          "name" : "stdout",
          "text" : [
            "Hello, world!\n"
          ],
          "output_type" : "stream"
        }
      ]
    },
    {
      "cell_type" : "code",
      "execution_count" : 13,
      "metadata" : {
        "language" : "scala"
      },
      "language" : "scala",
      "source" : [
        "val big = new java.math.BigInteger(\"12345\")"
      ],
      "outputs" : [
        {
          "name" : "stdout",
          "text" : [
            "Hello, world!\n"
          ],
          "output_type" : "stream"
        }
      ]
    },
    {
      "cell_type" : "code",
      "execution_count" : 14,
      "metadata" : {
        "language" : "scala"
      },
      "language" : "scala",
      "source" : [
        "val greetStrings = new Array[String](3)\n",
        "  \n",
        "greetStrings(0) = \"Hello\"\n",
        "greetStrings(1) = \", \"\n",
        "greetStrings(2) = \"world!\\n\"\n",
        "\n",
        "for (i <- 0 to 2)\n",
        "    print(greetStrings(i))"
      ],
      "outputs" : [
      ]
    },
    {
      "cell_type" : "code",
      "execution_count" : 15,
      "metadata" : {
        "language" : "scala"
      },
      "language" : "scala",
      "source" : [
        "val greetStrings: Array[String] = new Array[String](3)\n",
        "greetStrings(0) = \"Hello\"\n",
        "greetStrings(1) = \", \"\n",
        "greetStrings(2) = \"world!\\n\"\n",
        "greetStrings(0) = \"Hello2\"\n",
        "greetStrings.update(0, \"Hello3\")\n",
        "for (i <- 0 to 2)\n",
        "    print(greetStrings(i))"
      ],
      "outputs" : [
        {
          "name" : "stdout",
          "text" : [
            "Hello3, world!\n"
          ],
          "output_type" : "stream"
        }
      ]
    },
    {
      "cell_type" : "code",
      "execution_count" : 16,
      "metadata" : {
        "language" : "scala"
      },
      "language" : "scala",
      "source" : [
        "val greetStrings = new Array[String](3)\n",
        "\n",
        "  greetStrings.update(0, \"Hello\")\n",
        "  greetStrings.update(1, \", \")\n",
        "  greetStrings.update(2, \"world!\\n\")\n",
        "\n",
        "  for (i <- 0.to(2))\n",
        "    print(greetStrings.apply(i))"
      ],
      "outputs" : [
        {
          "name" : "stdout",
          "text" : [
            "Hello, world!\n"
          ],
          "output_type" : "stream"
        }
      ]
    },
    {
      "cell_type" : "code",
      "execution_count" : 17,
      "metadata" : {
        "language" : "scala"
      },
      "language" : "scala",
      "source" : [
        " val numNames = Array(\"zero\", \"one\", \"two\")\n",
        " val numNames2 = Array.apply(\"zero\", \"one\", \"two\")"
      ],
      "outputs" : [
      ]
    }
  ]
}