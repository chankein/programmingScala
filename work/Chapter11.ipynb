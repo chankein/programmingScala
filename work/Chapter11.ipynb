{
  "metadata" : {
    "config" : {
      "dependencies" : {
        
      },
      "exclusions" : [
      ],
      "repositories" : [
      ],
      "sparkConfig" : {
        
      }
    }
  },
  "nbformat" : 4,
  "nbformat_minor" : 0,
  "cells" : [
    {
      "cell_type" : "markdown",
      "execution_count" : 0,
      "metadata" : {
        "language" : "text"
      },
      "language" : "text",
      "source" : [
        "## Chapter11.Scala's Hierarchy\n",
        "\n",
        "\n"
      ],
      "outputs" : [
      ]
    },
    {
      "cell_type" : "markdown",
      "execution_count" : 1,
      "metadata" : {
        "language" : "text"
      },
      "language" : "text",
      "source" : [
        "### Scala's class hierarch\n",
        "\n",
        "\n"
      ],
      "outputs" : [
      ]
    },
    {
      "cell_type" : "code",
      "execution_count" : 2,
      "metadata" : {
        "cell.metadata.exec_info" : {
          "startTs" : 1686274117014,
          "endTs" : 1686274117328
        },
        "language" : "scala"
      },
      "language" : "scala",
      "source" : [
        "final def ==(that: Any): Boolean\r\n",
        "final def !=(that: Any): Boolean\r\n",
        "def equals(that: Any): Boolean\r\n",
        "def ##: Int\r\n",
        "def hashCode: Int\r\n",
        "def toString: String\r\n",
        "new Int"
      ],
      "outputs" : [
        {
          "execution_count" : 2,
          "data" : {
            "application/json" : [
              {
                "pos" : {
                  "sourceId" : "Cell2",
                  "start" : 108,
                  "end" : 108,
                  "point" : 108
                },
                "msg" : "'=' expected but identifier found.",
                "severity" : 2
              },
              {
                "pos" : {
                  "sourceId" : "Cell2",
                  "start" : 113,
                  "end" : 113,
                  "point" : 113
                },
                "msg" : "illegal start of simple expression",
                "severity" : 2
              }
            ],
            "text/plain" : [
              "Error: '=' expected but identifier found. (108)",
              "Error: illegal start of simple expression (113)"
            ]
          },
          "metadata" : {
            "rel" : "compiler_errors"
          },
          "output_type" : "execute_result"
        }
      ]
    },
    {
      "cell_type" : "code",
      "execution_count" : 35,
      "metadata" : {
        "cell.metadata.exec_info" : {
          "startTs" : 1686274249804,
          "endTs" : 1686274249923
        },
        "language" : "scala"
      },
      "language" : "scala",
      "source" : [
        "42.toString\r\n",
        "42.hashCode\r\n",
        "42 equals 42\r\n",
        "42 max 43\r\n",
        "42 min 43\r\n",
        "1 until 5\r\n",
        "1 to 5\r\n",
        "3.abs\r\n",
        "(-3).abs"
      ],
      "outputs" : [
        {
          "execution_count" : 35,
          "data" : {
            "text/plain" : [
              "3"
            ]
          },
          "metadata" : {
            "name" : "Out",
            "type" : "Int"
          },
          "output_type" : "execute_result"
        }
      ]
    },
    {
      "cell_type" : "markdown",
      "execution_count" : 3,
      "metadata" : {
        "language" : "text"
      },
      "language" : "text",
      "source" : [
        "### How primitives are implemented\n",
        "\n",
        "\n"
      ],
      "outputs" : [
      ]
    },
    {
      "cell_type" : "code",
      "execution_count" : 4,
      "metadata" : {
        "cell.metadata.exec_info" : {
          "startTs" : 1686274492481,
          "endTs" : 1686274492489
        },
        "language" : "python"
      },
      "language" : "python",
      "source" : [
        "public class Ex1 {\r\n",
        "    // This is Java\r\n",
        "    boolean isEqual(int x, int y) {\r\n",
        "      return x == y;\r\n",
        "    }\r\n",
        "\r\n",
        "    public void go() {\r\n",
        "        System.out.println(isEqual(421, 421));\r\n",
        "    }\r\n",
        "\r\n",
        "    public static void main(String[] args) {\r\n",
        "        Ex1 ex1 = new Ex1();\r\n",
        "        ex1.go();\r\n",
        "    }\r\n",
        "}\r\n",
        " boolean isEqual(Integer x, Integer y) {\r\n",
        "    return x == y;\r\n",
        "  }\r\n",
        "  System.out.println(isEqual(421, 421));\r\n"
      ],
      "outputs" : [
        {
          "execution_count" : 4,
          "data" : {
            "application/json" : [
              {
                "pos" : {
                  "sourceId" : "Cell4",
                  "start" : 7,
                  "end" : 7,
                  "point" : 7
                },
                "msg" : "';' expected but 'class' found.",
                "severity" : 2
              }
            ],
            "text/plain" : [
              "Error: ';' expected but 'class' found. (7)"
            ]
          },
          "metadata" : {
            "rel" : "compiler_errors"
          },
          "output_type" : "execute_result"
        }
      ]
    },
    {
      "cell_type" : "code",
      "execution_count" : 36,
      "metadata" : {
        "cell.metadata.exec_info" : {
          "startTs" : 1686274728814,
          "endTs" : 1686274729217
        },
        "language" : "python"
      },
      "language" : "python",
      "source" : [
        "def isEqual(x: Int, y: Int) = x == y\r\n",
        "isEqual(421, 421)\r\n",
        "def isEqual(x: Any, y: Any) = x == y\r\n",
        "isEqual(421, 421)\r\n",
        "val x = \"abcd\".substring(2)\r\n",
        "val y = \"abcd\".substring(2)\r\n",
        "x == y"
      ],
      "outputs" : [
        {
          "execution_count" : 36,
          "data" : {
            "application/json" : [
              {
                "pos" : {
                  "sourceId" : "Cell36",
                  "start" : 29,
                  "end" : 29,
                  "point" : 29
                },
                "msg" : "invalid syntax",
                "severity" : 2
              }
            ],
            "text/plain" : [
              "Error: invalid syntax (29)"
            ]
          },
          "metadata" : {
            "rel" : "compiler_errors"
          },
          "output_type" : "execute_result"
        }
      ]
    },
    {
      "cell_type" : "markdown",
      "execution_count" : 5,
      "metadata" : {
        "language" : "text"
      },
      "language" : "text",
      "source" : [
        "### Bottom types\n",
        "\n",
        "\n"
      ],
      "outputs" : [
      ]
    },
    {
      "cell_type" : "code",
      "execution_count" : 37,
      "metadata" : {
        "language" : "scala"
      },
      "language" : "scala",
      "source" : [
        "val i: Int = null"
      ],
      "outputs" : [
      ]
    },
    {
      "cell_type" : "code",
      "execution_count" : 6,
      "metadata" : {
        "cell.metadata.exec_info" : {
          "startTs" : 1686274882859,
          "endTs" : 1686274882917
        },
        "language" : "scala"
      },
      "language" : "scala",
      "source" : [
        "\r\n",
        "def error(message: String): Nothing =\r\n",
        "    throw new RuntimeException(message)\r\n",
        "\r\n",
        "def divide(x: Int, y: Int): Int = \r\n",
        "    if (y != 0) x / y \r\n",
        "    else sys.error(\"can't divide by zero\")\r\n",
        "divide(3,0)"
      ],
      "outputs" : [
        {
          "ename" : "java.lang.RuntimeException",
          "evalue" : "can't divide by zero",
          "traceback" : [
          ],
          "output_type" : "error"
        }
      ]
    },
    {
      "cell_type" : "markdown",
      "execution_count" : 8,
      "metadata" : {
        "language" : "text"
      },
      "language" : "text",
      "source" : [
        "### Defining your own value classes\n",
        "\n",
        "\n"
      ],
      "outputs" : [
      ]
    },
    {
      "cell_type" : "code",
      "execution_count" : 9,
      "metadata" : {
        "cell.metadata.exec_info" : {
          "startTs" : 1686275750644,
          "endTs" : 1686275750657
        },
        "language" : "scala"
      },
      "language" : "scala",
      "source" : [
        "class Dollars(val amount: Int) extends AnyVal {\r\n",
        "  override def toString: String = \"$\" + amount\r\n",
        "}\r\n",
        "\r\n",
        "val money = new Dollars(1000000)\r\n",
        "println(money.amount)\r\n"
      ],
      "outputs" : [
        {
          "execution_count" : 9,
          "data" : {
            "application/json" : [
              {
                "pos" : {
                  "sourceId" : "Cell9",
                  "start" : 0,
                  "end" : 98,
                  "point" : 6
                },
                "msg" : "value class may not be a member of another class",
                "severity" : 2
              }
            ],
            "text/plain" : [
              "Error: value class may not be a member of another class (0)"
            ]
          },
          "metadata" : {
            "rel" : "compiler_errors"
          },
          "output_type" : "execute_result"
        }
      ]
    },
    {
      "cell_type" : "code",
      "execution_count" : 38,
      "metadata" : {
        "cell.metadata.exec_info" : {
          "startTs" : 1686275919349,
          "endTs" : 1686275919364
        },
        "language" : "scala"
      },
      "language" : "scala",
      "source" : [
        "class SwissFrancs(val amount: Int) extends AnyVal {\r\n",
        "    override def toString() = s\"$amount CHF\"\r\n",
        "}\r\n",
        "val francs = new SwissFrancs(1000)"
      ],
      "outputs" : [
        {
          "execution_count" : 38,
          "data" : {
            "application/json" : [
              {
                "pos" : {
                  "sourceId" : "Cell38",
                  "start" : 0,
                  "end" : 100,
                  "point" : 6
                },
                "msg" : "value class may not be a member of another class",
                "severity" : 2
              }
            ],
            "text/plain" : [
              "Error: value class may not be a member of another class (0)"
            ]
          },
          "metadata" : {
            "rel" : "compiler_errors"
          },
          "output_type" : "execute_result"
        }
      ]
    },
    {
      "cell_type" : "code",
      "execution_count" : 11,
      "metadata" : {
        "cell.metadata.exec_info" : {
          "startTs" : 1686275961240,
          "endTs" : 1686275961343
        },
        "language" : "scala"
      },
      "language" : "scala",
      "source" : [
        "def title(text: String, anchor: String, style: String): String =\r\n",
        "    s\"<a id='$anchor'><h1 class='$style'>$text</h1></a>\"\r\n",
        "title(\"chap:vcls\", \"bold\", \"Value Classes\")"
      ],
      "outputs" : [
        {
          "execution_count" : 11,
          "data" : {
            "text/plain" : [
              "<a id='bold'><h1 class='Value Classes'>chap:vcls</h1></a>"
            ]
          },
          "metadata" : {
            "name" : "Out",
            "type" : "String"
          },
          "output_type" : "execute_result"
        }
      ]
    },
    {
      "cell_type" : "code",
      "execution_count" : 13,
      "metadata" : {
        "cell.metadata.exec_info" : {
          "startTs" : 1686276001740,
          "endTs" : 1686276001769
        },
        "language" : "scala"
      },
      "language" : "scala",
      "source" : [
        "class Anchor(val value: String) extends AnyVal\r\n",
        "class Style(val value: String) extends AnyVal\r\n",
        "class Text(val value: String) extends AnyVal\r\n",
        "class Html(val value: String) extends AnyVal\r\n",
        "def title(text: Text, anchor: Anchor, style: Style): Html =\r\n",
        "    new Html(\r\n",
        "      s\"<a id='${anchor.value}'>\" +\r\n",
        "          s\"<h1 class='${style.value}'>\" +\r\n",
        "          text.value +\r\n",
        "          \"</h1></a>\"\r\n",
        "    )\r\n",
        "title(new Anchor(\"chap:vcls\"), new Style(\"bold\"),new Text(\"Value Classes\"))"
      ],
      "outputs" : [
        {
          "execution_count" : 13,
          "data" : {
            "application/json" : [
              {
                "pos" : {
                  "sourceId" : "Cell13",
                  "start" : 404,
                  "end" : 404,
                  "point" : 404
                },
                "msg" : "type mismatch;\n found   : Cell13$1.this.Anchor\n required: Cell13$1.this.Text",
                "severity" : 2
              },
              {
                "pos" : {
                  "sourceId" : "Cell13",
                  "start" : 429,
                  "end" : 429,
                  "point" : 429
                },
                "msg" : "type mismatch;\n found   : Cell13$1.this.Style\n required: Cell13$1.this.Anchor",
                "severity" : 2
              },
              {
                "pos" : {
                  "sourceId" : "Cell13",
                  "start" : 447,
                  "end" : 447,
                  "point" : 447
                },
                "msg" : "type mismatch;\n found   : Cell13$1.this.Text\n required: Cell13$1.this.Style",
                "severity" : 2
              },
              {
                "pos" : {
                  "sourceId" : "Cell13",
                  "start" : 0,
                  "end" : 46,
                  "point" : 6
                },
                "msg" : "value class may not be a member of another class",
                "severity" : 2
              },
              {
                "pos" : {
                  "sourceId" : "Cell13",
                  "start" : 48,
                  "end" : 93,
                  "point" : 54
                },
                "msg" : "value class may not be a member of another class",
                "severity" : 2
              },
              {
                "pos" : {
                  "sourceId" : "Cell13",
                  "start" : 95,
                  "end" : 139,
                  "point" : 101
                },
                "msg" : "value class may not be a member of another class",
                "severity" : 2
              },
              {
                "pos" : {
                  "sourceId" : "Cell13",
                  "start" : 141,
                  "end" : 185,
                  "point" : 147
                },
                "msg" : "value class may not be a member of another class",
                "severity" : 2
              }
            ],
            "text/plain" : [
              "Error: type mismatch;\n found   : Cell13$1.this.Anchor\n required: Cell13$1.this.Text (404)",
              "Error: type mismatch;\n found   : Cell13$1.this.Style\n required: Cell13$1.this.Anchor (429)",
              "Error: type mismatch;\n found   : Cell13$1.this.Text\n required: Cell13$1.this.Style (447)",
              "Error: value class may not be a member of another class (0)",
              "Error: value class may not be a member of another class (48)",
              "Error: value class may not be a member of another class (95)",
              "Error: value class may not be a member of another class (141)"
            ]
          },
          "metadata" : {
            "rel" : "compiler_errors"
          },
          "output_type" : "execute_result"
        }
      ]
    }
  ]
}