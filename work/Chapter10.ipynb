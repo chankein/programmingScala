{
  "metadata" : {
    "config" : {
      "dependencies" : {
        
      },
      "exclusions" : [
      ],
      "repositories" : [
      ],
      "sparkConfig" : {
        
      }
    }
  },
  "nbformat" : 4,
  "nbformat_minor" : 0,
  "cells" : [
    {
      "cell_type" : "markdown",
      "execution_count" : 0,
      "metadata" : {
        "language" : "text"
      },
      "language" : "text",
      "source" : [
        "## Chapter10.Composition and Inheritance\n",
        "\n",
        "\n"
      ],
      "outputs" : [
      ]
    },
    {
      "cell_type" : "markdown",
      "execution_count" : 1,
      "metadata" : {
        "language" : "text"
      },
      "language" : "text",
      "source" : [
        "### A two-dimensional layout library\n",
        "\n",
        "\n"
      ],
      "outputs" : [
      ]
    },
    {
      "cell_type" : "code",
      "execution_count" : 2,
      "metadata" : {
        "cell.metadata.exec_info" : {
          "startTs" : 1686036772962,
          "endTs" : 1686036773076
        },
        "language" : "scala"
      },
      "language" : "scala",
      "source" : [
        "elem(s: String): Element\r\n",
        "\r\n",
        "\r\n",
        "// In file composition-and-inheritance/LayoutElement.scala\r\n",
        "\r\n",
        "  val column1 = elem(\"hello\") above elem(\"***\")\r\n",
        "  val column2 = elem(\"***\") above elem(\"world\")\r\n",
        "  column1 beside column2\r\n",
        "\r\n"
      ],
      "outputs" : [
        {
          "name" : "stdout",
          "text" : [
            "hi\n"
          ],
          "output_type" : "stream"
        }
      ]
    },
    {
      "cell_type" : "markdown",
      "execution_count" : 3,
      "metadata" : {
        "language" : "text"
      },
      "language" : "text",
      "source" : [
        "### Abstract classes\n",
        "\n",
        "\n"
      ],
      "outputs" : [
      ]
    },
    {
      "cell_type" : "code",
      "execution_count" : 4,
      "metadata" : {
        "cell.metadata.exec_info" : {
          "startTs" : 1686206895082,
          "endTs" : 1686206895203
        },
        "language" : "scala"
      },
      "language" : "scala",
      "source" : [
        "abstract class Element {\r\n",
        "    def contents: Array[String]\r\n",
        "}\r\n",
        "new Element //Errorclass Element is abstract; cannot be instantiated"
      ],
      "outputs" : [
        {
          "execution_count" : 4,
          "data" : {
            "application/json" : [
              {
                "pos" : {
                  "sourceId" : "Cell31",
                  "start" : 62,
                  "end" : 62,
                  "point" : 62
                },
                "msg" : "class Element is abstract; cannot be instantiated",
                "severity" : 2
              }
            ],
            "text/plain" : [
              "Error: class Element is abstract; cannot be instantiated (62)"
            ]
          },
          "metadata" : {
            "rel" : "compiler_errors"
          },
          "output_type" : "execute_result"
        }
      ]
    },
    {
      "cell_type" : "markdown",
      "execution_count" : 5,
      "metadata" : {
        "language" : "text"
      },
      "language" : "text",
      "source" : [
        "### Defining parameterless methods\n",
        "\n"
      ],
      "outputs" : [
      ]
    },
    {
      "cell_type" : "code",
      "execution_count" : 6,
      "metadata" : {
        "language" : "scala"
      },
      "language" : "scala",
      "source" : [
        "abstract class Element {\r\n",
        "    def contents: Array[String]\r\n",
        "    def height: Int = contents.length\r\n",
        "    def width: Int = if (height == 0) 0 else contents(0).length\r\n",
        "}\r\n",
        "//def width(): Int\r\n",
        "//def width: Int"
      ],
      "outputs" : [
      ]
    },
    {
      "cell_type" : "code",
      "execution_count" : 7,
      "metadata" : {
        "cell.metadata.exec_info" : {
          "startTs" : 1686207014667,
          "endTs" : 1686207014922
        },
        "language" : "scala"
      },
      "language" : "scala",
      "source" : [
        "abstract class Element {\r\n",
        "    def contents: Array[String]\r\n",
        "    val height = contents.length\r\n",
        "    val width = \r\n",
        "      if (height == 0) 0 else contents(0).length\r\n",
        "}\r\n",
        "Array(1, 2, 3).toString\r\n",
        "\"abc\".length\r\n",
        "\r\n",
        "\"hello\".length  // no () because no side-effect\r\n",
        "println()       // better to not drop the ()"
      ],
      "outputs" : [
        {
          "execution_count" : 7,
          "data" : {
            "text/plain" : [
              "5"
            ]
          },
          "metadata" : {
            "name" : "Out",
            "type" : "Int"
          },
          "output_type" : "execute_result"
        }
      ]
    },
    {
      "cell_type" : "markdown",
      "execution_count" : 8,
      "metadata" : {
        "language" : "text"
      },
      "language" : "text",
      "source" : [
        "### Extending classes\n",
        "\n"
      ],
      "outputs" : [
      ]
    },
    {
      "cell_type" : "code",
      "execution_count" : 9,
      "metadata" : {
        "cell.metadata.exec_info" : {
          "startTs" : 1686207073129,
          "endTs" : 1686207073807
        },
        "language" : "scala"
      },
      "language" : "scala",
      "source" : [
        "class ArrayElement(conts: Array[String]) extends Element {\r\n",
        "    def contents: Array[String] = conts\r\n",
        "}\r\n",
        "val ae = new ArrayElement(Array(\"hello\", \"world\"))\r\n",
        "ae.width\r\n",
        "val e: Element = new ArrayElement(Array(\"hello\"))"
      ],
      "outputs" : [
      ]
    },
    {
      "cell_type" : "markdown",
      "execution_count" : 10,
      "metadata" : {
        "language" : "text"
      },
      "language" : "text",
      "source" : [
        "### Overriding methods and fields\n",
        "\n"
      ],
      "outputs" : [
      ]
    },
    {
      "cell_type" : "code",
      "execution_count" : 11,
      "metadata" : {
        "cell.metadata.exec_info" : {
          "startTs" : 1686210581219,
          "endTs" : 1686210581274
        },
        "language" : "scala"
      },
      "language" : "scala",
      "source" : [
        "class ArrayElement(conts: Array[String]) extends Element {\r\n",
        "    val contents: Array[String] = conts\r\n",
        "}\r\n",
        "class WontCompile {\r\n",
        "    private var f = 0 // Won't compile, because a field \r\n",
        "    def f = 1         // and method have the same name\r\n",
        "}"
      ],
      "outputs" : [
        {
          "execution_count" : 11,
          "data" : {
            "application/json" : [
              {
                "pos" : {
                  "sourceId" : "Cell8",
                  "start" : 191,
                  "end" : 191,
                  "point" : 191
                },
                "msg" : "method f is defined twice\n  conflicting symbols both originated in file 'Cell8'",
                "severity" : 2
              }
            ],
            "text/plain" : [
              "Error: method f is defined twice\n  conflicting symbols both originated in file 'Cell8' (191)"
            ]
          },
          "metadata" : {
            "rel" : "compiler_errors"
          },
          "output_type" : "execute_result"
        }
      ]
    },
    {
      "cell_type" : "markdown",
      "execution_count" : 12,
      "metadata" : {
        "language" : "text"
      },
      "language" : "text",
      "source" : [
        "### Defining parametric fields\n",
        "\n",
        "\n"
      ],
      "outputs" : [
      ]
    },
    {
      "cell_type" : "code",
      "execution_count" : 13,
      "metadata" : {
        "cell.metadata.exec_info" : {
          "startTs" : 1686210625011,
          "endTs" : 1686210625139
        },
        "language" : "scala"
      },
      "language" : "scala",
      "source" : [
        " class ArrayElement(\r\n",
        "    val contents: Array[String]\r\n",
        ") extends Element\r\n"
      ],
      "outputs" : [
      ]
    },
    {
      "cell_type" : "code",
      "execution_count" : 14,
      "metadata" : {
        "cell.metadata.exec_info" : {
          "startTs" : 1686210626463,
          "endTs" : 1686210626581
        },
        "language" : "scala"
      },
      "language" : "scala",
      "source" : [
        " class ArrayElement(x123: Array[String]) extends Element { \n",
        "    val contents: Array[String] = x123\n",
        "}\n"
      ],
      "outputs" : [
      ]
    },
    {
      "cell_type" : "code",
      "execution_count" : 15,
      "metadata" : {
        "cell.metadata.exec_info" : {
          "startTs" : 1686210951937,
          "endTs" : 1686210952041
        },
        "language" : "scala"
      },
      "language" : "scala",
      "source" : [
        "class Cat {\r\n",
        "    val dangerous = false\r\n",
        "  }\r\n",
        "  class Tiger(\r\n",
        "    override val dangerous: Boolean,\r\n",
        "    private var age: Int\r\n",
        "  ) extends Cat\r\n"
      ],
      "outputs" : [
      ]
    },
    {
      "cell_type" : "code",
      "execution_count" : 16,
      "metadata" : {
        "cell.metadata.exec_info" : {
          "startTs" : 1686210967215,
          "endTs" : 1686210967306
        },
        "language" : "scala"
      },
      "language" : "scala",
      "source" : [
        "class Tiger(param1: Boolean, param2: Int) extends Cat {\r\n",
        "    override val dangerous = param1\r\n",
        "    private var age = param2\r\n",
        "}\r\n"
      ],
      "outputs" : [
      ]
    },
    {
      "cell_type" : "markdown",
      "execution_count" : 17,
      "metadata" : {
        "language" : "text"
      },
      "language" : "text",
      "source" : [
        "### Invoking superclass constructors\n",
        "\n",
        "\n"
      ],
      "outputs" : [
      ]
    },
    {
      "cell_type" : "code",
      "execution_count" : 18,
      "metadata" : {
        "cell.metadata.exec_info" : {
          "startTs" : 1686212614006,
          "endTs" : 1686212614206
        },
        "language" : "scala"
      },
      "language" : "scala",
      "source" : [
        "abstract class Element {\n",
        "    def contents: Array[String]\n",
        "    val height = contents.length\n",
        "    val width = \n",
        "      if (height == 0) 0 else contents(0).length\n",
        "}\n",
        "Array(1, 2, 3).toString\n",
        "\"abc\".length\n",
        "\n",
        "\"hello\".length  // no () because no side-effect\n",
        "println()       // better to not drop the ()\n",
        " class ArrayElement(x123: Array[String]) extends Element { \n",
        "    val contents: Array[String] = x123\n",
        "}\n",
        "\n",
        "class LineElement(s: String) extends ArrayElement(Array(s)) {\n",
        "    override val width = s.length\n",
        "    override val height = 1\n",
        "}\n"
      ],
      "outputs" : [
        {
          "name" : "stdout",
          "text" : [
            "\n"
          ],
          "output_type" : "stream"
        }
      ]
    },
    {
      "cell_type" : "markdown",
      "execution_count" : 19,
      "metadata" : {
        "language" : "text"
      },
      "language" : "text",
      "source" : [
        "### Using override modifiers\n",
        "\n"
      ],
      "outputs" : [
      ]
    },
    {
      "cell_type" : "code",
      "execution_count" : 20,
      "metadata" : {
        "cell.metadata.exec_info" : {
          "startTs" : 1686205974599,
          "endTs" : 1686205974685
        },
        "language" : "scala"
      },
      "language" : "scala",
      "source" : [
        " def hidden(): Boolean"
      ],
      "outputs" : [
        {
          "execution_count" : 20,
          "data" : {
            "text/plain" : [
              "3"
            ]
          },
          "metadata" : {
            "name" : "Out",
            "type" : "Int"
          },
          "output_type" : "execute_result"
        }
      ]
    },
    {
      "cell_type" : "markdown",
      "execution_count" : 21,
      "metadata" : {
        "cell.metadata.exec_info" : {
          "startTs" : 1686206016179,
          "endTs" : 1686206016368
        },
        "language" : "text"
      },
      "language" : "text",
      "source" : [
        "### Polymorphism and dynamic binding\n",
        "\n",
        "\n"
      ],
      "outputs" : [
        {
          "execution_count" : 21,
          "data" : {
            "text/plain" : [
              "3"
            ]
          },
          "metadata" : {
            "name" : "Out",
            "type" : "Int"
          },
          "output_type" : "execute_result"
        }
      ]
    },
    {
      "cell_type" : "code",
      "execution_count" : 22,
      "metadata" : {
        "cell.metadata.exec_info" : {
          "startTs" : 1686212875335,
          "endTs" : 1686212875545
        },
        "language" : "scala"
      },
      "language" : "scala",
      "source" : [
        "abstract class Element {\r\n",
        "    def contents: Array[String]\r\n",
        "    val height = contents.length\r\n",
        "    val width = \r\n",
        "      if (height == 0) 0 else contents(0).length\r\n",
        "}\r\n",
        "Array(1, 2, 3).toString\r\n",
        "\"abc\".length\r\n",
        "\r\n",
        "\"hello\".length  // no () because no side-effect\r\n",
        "println()       // better to not drop the ()\r\n",
        " class ArrayElement(x123: Array[String]) extends Element { \r\n",
        "    val contents: Array[String] = x123\r\n",
        "}\r\n",
        "\r\n",
        "class LineElement(s: String) extends ArrayElement(Array(s)) {\r\n",
        "    override val width = s.length\r\n",
        "    override val height = 1\r\n",
        "}\r\n",
        "\r\n",
        "\r\n",
        "\r\n",
        "class UniformElement(\r\n",
        "    ch: Char, \r\n",
        "    override val width: Int,\r\n",
        "    override val height: Int \r\n",
        "  ) extends Element {\r\n",
        "    private val line = ch.toString * width\r\n",
        "    def contents = Array.fill(height)(line)\r\n",
        "}\r\n",
        "val e1: Element = new ArrayElement(Array(\"hello\", \"world\"))\r\n",
        "val ae: ArrayElement = new LineElement(\"hello\")\r\n",
        "val e2: Element = ae\r\n",
        "val e3: Element = new UniformElement('x', 2, 3)"
      ],
      "outputs" : [
        {
          "name" : "stdout",
          "text" : [
            "\n"
          ],
          "output_type" : "stream"
        },
        {
          "ename" : "java.lang.NullPointerException",
          "evalue" : "",
          "traceback" : [
          ],
          "output_type" : "error"
        }
      ]
    },
    {
      "cell_type" : "code",
      "execution_count" : 23,
      "metadata" : {
        "cell.metadata.exec_info" : {
          "startTs" : 1686213009373,
          "endTs" : 1686213009542
        },
        "language" : "scala"
      },
      "language" : "scala",
      "source" : [
        "abstract class Element {\r\n",
        "    def demo() = {\r\n",
        "      println(\"Element's implementation invoked\")\r\n",
        "    }\r\n",
        "  }\r\n",
        "\r\n",
        "  class ArrayElement extends Element {\r\n",
        "    override def demo() = {\r\n",
        "      println(\"ArrayElement's implementation invoked\")\r\n",
        "    }\r\n",
        "  }\r\n",
        "\r\n",
        "  class LineElement extends ArrayElement {\r\n",
        "    override def demo() = {\r\n",
        "      println(\"LineElement's implementation invoked\")\r\n",
        "    }\r\n",
        "  }\r\n",
        "\r\n",
        "  // UniformElement inherits Element's demo\r\n",
        "class UniformElement extends Element \r\n",
        "val demo=new UniformElement\r\n",
        "demo.demo()\r\n",
        "\r\n",
        "def invokeDemo(e: Element) = {\r\n",
        "    e.demo()\r\n",
        "}\r\n",
        "invokeDemo(new ArrayElement)\r\n",
        "invokeDemo(new LineElement)\r\n",
        "invokeDemo(new UniformElement)"
      ],
      "outputs" : [
        {
          "name" : "stdout",
          "text" : [
            "Element's implementation invoked\n",
            "ArrayElement's implementation invoked\n",
            "LineElement's implementation invoked\n",
            "Element's implementation invoked\n"
          ],
          "output_type" : "stream"
        }
      ]
    },
    {
      "cell_type" : "markdown",
      "execution_count" : 24,
      "metadata" : {
        "language" : "text"
      },
      "language" : "text",
      "source" : [
        "### Declaring final members\n",
        "\n",
        "\n"
      ],
      "outputs" : [
      ]
    },
    {
      "cell_type" : "code",
      "execution_count" : 25,
      "metadata" : {
        "cell.metadata.exec_info" : {
          "startTs" : 1686213114237,
          "endTs" : 1686213114252
        },
        "language" : "scala"
      },
      "language" : "scala",
      "source" : [
        "class ArrayElement extends Element {\n",
        "    final override def demo() = {\n",
        "      println(\"ArrayElement's implementation invoked\")\n",
        "    }\n",
        "  }\n",
        "\n",
        "\n",
        "final class ArrayElement extends ArrayElement {\n",
        "    override def demo() = {\n",
        "      println(\"ArrayElement's implementation invoked\")\n",
        "    }\n",
        "}\n"
      ],
      "outputs" : [
        {
          "execution_count" : 25,
          "data" : {
            "application/json" : [
              {
                "pos" : {
                  "sourceId" : "Cell20",
                  "start" : 138,
                  "end" : 278,
                  "point" : 150
                },
                "msg" : "ArrayElement is already defined as class ArrayElement",
                "severity" : 2
              },
              {
                "pos" : {
                  "sourceId" : "Cell20",
                  "start" : 163,
                  "end" : 163,
                  "point" : 163
                },
                "msg" : "illegal cyclic reference involving class ArrayElement",
                "severity" : 2
              }
            ],
            "text/plain" : [
              "Error: ArrayElement is already defined as class ArrayElement (138)",
              "Error: illegal cyclic reference involving class ArrayElement (163)"
            ]
          },
          "metadata" : {
            "rel" : "compiler_errors"
          },
          "output_type" : "execute_result"
        }
      ]
    },
    {
      "cell_type" : "code",
      "execution_count" : 26,
      "metadata" : {
        "cell.metadata.exec_info" : {
          "startTs" : 1686213152274,
          "endTs" : 1686213152293
        },
        "language" : "scala"
      },
      "language" : "scala",
      "source" : [
        "final class ArrayElement extends Element {\r\n",
        "    override def demo() = {\r\n",
        "      println(\"ArrayElement's implementation invoked\")\r\n",
        "    }\r\n",
        "  }\r\n",
        "\r\n",
        "class LineElement extends ArrayElement {\r\n",
        "    override def demo() = {\r\n",
        "      println(\"LineElement's implementation invoked\")\r\n",
        "    }\r\n",
        "  }\r\n"
      ],
      "outputs" : [
        {
          "execution_count" : 26,
          "data" : {
            "application/json" : [
              {
                "pos" : {
                  "sourceId" : "Cell37",
                  "start" : 169,
                  "end" : 169,
                  "point" : 169
                },
                "msg" : "illegal inheritance from final class ArrayElement",
                "severity" : 2
              }
            ],
            "text/plain" : [
              "Error: illegal inheritance from final class ArrayElement (169)"
            ]
          },
          "metadata" : {
            "rel" : "compiler_errors"
          },
          "output_type" : "execute_result"
        }
      ]
    },
    {
      "cell_type" : "markdown",
      "execution_count" : 27,
      "metadata" : {
        "language" : "text"
      },
      "language" : "text",
      "source" : [
        "### Using composition and inheritance\n",
        "\n",
        "\n"
      ],
      "outputs" : [
      ]
    },
    {
      "cell_type" : "code",
      "execution_count" : 28,
      "metadata" : {
        "cell.metadata.exec_info" : {
          "startTs" : 1686206086611,
          "endTs" : 1686206086715
        },
        "language" : "scala"
      },
      "language" : "scala",
      "source" : [
        "class LineElement(s: String) extends Element {\r\n",
        "    val contents = Array(s)\r\n",
        "    override def width = s.length\r\n",
        "    override def height = 1\r\n",
        "}"
      ],
      "outputs" : [
        {
          "execution_count" : 28,
          "data" : {
            "text/plain" : [
              "7.0"
            ]
          },
          "metadata" : {
            "name" : "Out",
            "type" : "Double"
          },
          "output_type" : "execute_result"
        }
      ]
    },
    {
      "cell_type" : "markdown",
      "execution_count" : 29,
      "metadata" : {
        "language" : "text"
      },
      "language" : "text",
      "source" : [
        "###  Implementing above, beside, and toString\n",
        "\n"
      ],
      "outputs" : [
      ]
    },
    {
      "cell_type" : "code",
      "execution_count" : 30,
      "metadata" : {
        "cell.metadata.exec_info" : {
          "startTs" : 1686213511774,
          "endTs" : 1686213511912
        },
        "language" : "scala"
      },
      "language" : "scala",
      "source" : [
        "object Ex10  {\r\n",
        "  abstract class Element {\r\n",
        "    def contents: Array[String]\r\n",
        "    def height: Int = contents.length\r\n",
        "    def width: Int = if (height == 0) 0 else contents(0).length\r\n",
        "\r\n",
        "    // define above\r\n",
        "    def above(that: Element): Element =\r\n",
        "      new ArrayElement(this.contents ++ that.contents)\r\n",
        "    // define beside\r\n",
        "    def beside(that: Element): Element = {\r\n",
        "      val contents = new Array[String](this.contents.length)\r\n",
        "      for (i <- 0 until this.contents.length) \r\n",
        "        contents(i) = this.contents(i) + that.contents(i)\r\n",
        "      new ArrayElement(contents)\r\n",
        "    }\r\n",
        "\r\n",
        "    def beside2(that: Element): Element = \r\n",
        "      new ArrayElement(\r\n",
        "        for (\r\n",
        "          (line1, line2) <- this.contents zip that.contents\r\n",
        "        ) yield line1 + line2\r\n",
        "      )\r\n",
        "\r\n",
        "    override def toString = contents mkString \"\\n\"\r\n",
        "\r\n",
        "  }\r\n",
        "\r\n",
        "  class LineElement(s: String) extends Element {\r\n",
        "    val contents = Array(s)\r\n",
        "    override def width = s.length\r\n",
        "    override def height = 1\r\n",
        "  }\r\n",
        "\r\n",
        "  class ArrayElement(conts: Array[String]) extends Element {\r\n",
        "    def contents: Array[String] = conts\r\n",
        "  }\r\n",
        "\r\n",
        "  def main(args: Array[String]): Unit = {\r\n",
        "    val lineElem = new LineElement(\"foo\")\r\n",
        "    println(\"lineElem [\" + lineElem + \"]\")\r\n",
        "\r\n",
        "    val zip1 =\r\n",
        "      Array(1, 2, 3) zip Array(\"a\", \"b\")\r\n",
        "    val zip2 =\r\n",
        "      Array((1, \"a\"), (2, \"b\"))\r\n",
        "    println(\"zip1 [\" + zip1 + \"]\")\r\n",
        "    println(\"zip2 [\" + zip2 + \"]\")\r\n",
        "  }\r\n",
        "}"
      ],
      "outputs" : [
        {
          "execution_count" : 30,
          "data" : {
            "application/json" : [
              {
                "pos" : {
                  "sourceId" : "Cell23",
                  "start" : 1415,
                  "end" : 1415,
                  "point" : 1415
                },
                "msg" : "not enough arguments for method main: (args: Array[String])Unit.\nUnspecified value parameter args.",
                "severity" : 2
              }
            ],
            "text/plain" : [
              "Error: not enough arguments for method main: (args: Array[String])Unit.\nUnspecified value parameter args. (1415)"
            ]
          },
          "metadata" : {
            "rel" : "compiler_errors"
          },
          "output_type" : "execute_result"
        }
      ]
    },
    {
      "cell_type" : "code",
      "execution_count" : 31,
      "metadata" : {
        "cell.metadata.exec_info" : {
          "startTs" : 1686213424473,
          "endTs" : 1686213424775
        },
        "language" : "scala"
      },
      "language" : "scala",
      "source" : [
        "object Ex11  {\r\n",
        "  abstract class Element {\r\n",
        "  \r\n",
        "    def contents: Array[String]\r\n",
        "  \r\n",
        "    def width: Int =\r\n",
        "      if (height == 0) 0 else contents(0).length\r\n",
        "  \r\n",
        "    def height: Int = contents.length\r\n",
        "  \r\n",
        "    def above(that: Element): Element =\r\n",
        "      new ArrayElement(this.contents ++ that.contents)\r\n",
        "  \r\n",
        "    def beside(that: Element): Element =\r\n",
        "      new ArrayElement(\r\n",
        "        for (\r\n",
        "          (line1, line2) <- this.contents zip that.contents\r\n",
        "        ) yield line1 + line2\r\n",
        "      )\r\n",
        "  \r\n",
        "    override def toString = contents mkString \"\\n\"\r\n",
        "  }\r\n",
        "\r\n",
        "  class LineElement(s: String) extends Element {\r\n",
        "    val contents = Array(s)\r\n",
        "    override def width = s.length\r\n",
        "    override def height = 1\r\n",
        "  }\r\n",
        "\r\n",
        "  class ArrayElement(conts: Array[String]) extends Element {\r\n",
        "    def contents: Array[String] = conts\r\n",
        "  }\r\n",
        "\r\n",
        "  def main(args: Array[String]): Unit = {\r\n",
        "    val lineElem = new LineElement(\"foo\")\r\n",
        "    println(\"lineElem [\" + lineElem + \"]\")\r\n",
        "\r\n",
        "  }\r\n",
        "}"
      ],
      "outputs" : [
      ]
    }
  ]
}