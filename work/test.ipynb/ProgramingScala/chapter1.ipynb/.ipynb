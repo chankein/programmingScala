{
  "metadata" : {
    "config" : {
      "dependencies" : {
        
      },
      "exclusions" : [
      ],
      "repositories" : [
      ],
      "sparkConfig" : {
        
      }
    }
  },
  "nbformat" : 4,
  "nbformat_minor" : 0,
  "cells" : [
    {
      "cell_type" : "markdown",
      "execution_count" : 0,
      "metadata" : {
        "language" : "text"
      },
      "language" : "text",
      "source" : [
        "# chapter1.ipynb\n",
        "\n",
        "This is a text cell. Start editing!"
      ],
      "outputs" : [
      ]
    },
    {
      "cell_type" : "code",
      "execution_count" : 1,
      "metadata" : {
        "cell.metadata.exec_info" : {
          "startTs" : 1685930315903,
          "endTs" : 1685930317290
        },
        "language" : "scala"
      },
      "language" : "scala",
      "source" : [
        "var capital = Map(\"US\" -> \"Washington\", \"France\" -> \"Paris\")\r\n",
        "\r\n",
        "capital += (\"Japan\" -> \"Tokyo\")\r\n",
        "\r\n",
        "println(capital(\"France\")) "
      ],
      "outputs" : [
        {
          "name" : "stdout",
          "text" : [
            "Paris",
            "\n"
          ],
          "output_type" : "stream"
        }
      ]
    },
    {
      "cell_type" : "code",
      "execution_count" : 2,
      "metadata" : {
        "cell.metadata.exec_info" : {
          "startTs" : 1685930317319,
          "endTs" : 1685930317542
        },
        "language" : "scala"
      },
      "language" : "scala",
      "source" : [
        "def factorial(x: BigInt): BigInt = \r\n",
        "    if (x == 0) 1 else x * factorial(x - 1)"
      ],
      "outputs" : [
      ]
    },
    {
      "cell_type" : "markdown",
      "execution_count" : 3,
      "metadata" : {
        "language" : "text"
      },
      "language" : "text",
      "source" : [
        "# chapter2.ipynb\n",
        "\n"
      ],
      "outputs" : [
      ]
    },
    {
      "cell_type" : "markdown",
      "execution_count" : 4,
      "metadata" : {
        "language" : "text"
      },
      "language" : "text",
      "source" : [
        "### Define some variables\n",
        "\n"
      ],
      "outputs" : [
      ]
    },
    {
      "cell_type" : "code",
      "execution_count" : 5,
      "metadata" : {
        "cell.metadata.exec_info" : {
          "startTs" : 1685930317551,
          "endTs" : 1685930317754
        },
        "language" : "scala"
      },
      "language" : "scala",
      "source" : [
        "val msg = \"Hello, world!\""
      ],
      "outputs" : [
      ]
    },
    {
      "cell_type" : "code",
      "execution_count" : 6,
      "metadata" : {
        "cell.metadata.exec_info" : {
          "startTs" : 1685930317759,
          "endTs" : 1685930317890
        },
        "language" : "scala"
      },
      "language" : "scala",
      "source" : [
        "val msg2: java.lang.String = \"Hello again, world!\""
      ],
      "outputs" : [
      ]
    },
    {
      "cell_type" : "code",
      "execution_count" : 7,
      "metadata" : {
        "cell.metadata.exec_info" : {
          "startTs" : 1685930317895,
          "endTs" : 1685930318020
        },
        "language" : "scala"
      },
      "language" : "scala",
      "source" : [
        "val msg3: String = \"Hello yet again, world!\""
      ],
      "outputs" : [
      ]
    },
    {
      "cell_type" : "code",
      "execution_count" : 8,
      "metadata" : {
        "cell.metadata.exec_info" : {
          "startTs" : 1685930318026,
          "endTs" : 1685930318112
        },
        "language" : "scala"
      },
      "language" : "scala",
      "source" : [
        "println(msg)"
      ],
      "outputs" : [
        {
          "name" : "stdout",
          "text" : [
            "Hello, world!",
            "\n"
          ],
          "output_type" : "stream"
        }
      ]
    },
    {
      "cell_type" : "code",
      "execution_count" : 9,
      "metadata" : {
        "cell.metadata.exec_info" : {
          "startTs" : 1685930744827,
          "endTs" : 1685930744855
        },
        "language" : "scala"
      },
      "language" : "scala",
      "source" : [
        "msg = \"Goodbye cruel world!\"\r\n",
        "// val cannot be reassign"
      ],
      "outputs" : [
        {
          "execution_count" : 9,
          "data" : {
            "application/json" : [
              {
                "pos" : {
                  "sourceId" : "Cell9",
                  "start" : 4,
                  "end" : 4,
                  "point" : 4
                },
                "msg" : "reassignment to val",
                "severity" : 2
              }
            ],
            "text/plain" : [
              "Error: reassignment to val (4)"
            ]
          },
          "metadata" : {
            "rel" : "compiler_errors"
          },
          "output_type" : "execute_result"
        }
      ]
    },
    {
      "cell_type" : "code",
      "execution_count" : 10,
      "metadata" : {
        "cell.metadata.exec_info" : {
          "startTs" : 1685930764488,
          "endTs" : 1685930764587
        },
        "language" : "scala"
      },
      "language" : "scala",
      "source" : [
        "var greeting = \"Hello, world!\"\r\n",
        "greeting = \"Leave me alone, world!\""
      ],
      "outputs" : [
      ]
    },
    {
      "cell_type" : "code",
      "execution_count" : 11,
      "metadata" : {
        "cell.metadata.exec_info" : {
          "startTs" : 1685930850610,
          "endTs" : 1685930850711
        },
        "language" : "scala"
      },
      "language" : "scala",
      "source" : [
        "val multiLine =\r\n",
        "\"\"\"\r\n",
        "\\|  This is the next line.\r\n",
        "\"\"\""
      ],
      "outputs" : [
      ]
    },
    {
      "cell_type" : "markdown",
      "execution_count" : 13,
      "metadata" : {
        "language" : "text"
      },
      "language" : "text",
      "source" : [
        "Define some functions"
      ],
      "outputs" : [
      ]
    },
    {
      "cell_type" : "code",
      "execution_count" : 12,
      "metadata" : {
        "cell.metadata.exec_info" : {
          "startTs" : 1685931654209,
          "endTs" : 1685931654299
        },
        "language" : "scala"
      },
      "language" : "scala",
      "source" : [
        "def max(x: Int, y: Int): Int = {\r\n",
        "    if (x > y) x\r\n",
        "    else y\r\n",
        "    }\r\n",
        "max(2,3)"
      ],
      "outputs" : [
        {
          "execution_count" : 12,
          "data" : {
            "text/plain" : [
              "3"
            ]
          },
          "metadata" : {
            "name" : "Out",
            "type" : "Int"
          },
          "output_type" : "execute_result"
        }
      ]
    },
    {
      "cell_type" : "code",
      "execution_count" : 14,
      "metadata" : {
        "cell.metadata.exec_info" : {
          "startTs" : 1685931661836,
          "endTs" : 1685931661918
        },
        "language" : "scala"
      },
      "language" : "scala",
      "source" : [
        "def max(x: Int, y: Int) = if (x > y) x else y\r\n",
        "max(2,3)"
      ],
      "outputs" : [
        {
          "execution_count" : 14,
          "data" : {
            "text/plain" : [
              "3"
            ]
          },
          "metadata" : {
            "name" : "Out",
            "type" : "Int"
          },
          "output_type" : "execute_result"
        }
      ]
    },
    {
      "cell_type" : "code",
      "execution_count" : 15,
      "metadata" : {
        "cell.metadata.exec_info" : {
          "startTs" : 1685931680451,
          "endTs" : 1685931680517
        },
        "language" : "scala"
      },
      "language" : "scala",
      "source" : [
        "def greet() = println(\"Hello, world!\")\r\n",
        "greet()"
      ],
      "outputs" : [
        {
          "name" : "stdout",
          "text" : [
            "Hello, world!",
            "\n"
          ],
          "output_type" : "stream"
        }
      ]
    },
    {
      "cell_type" : "markdown",
      "execution_count" : 19,
      "metadata" : {
        "language" : "text"
      },
      "language" : "text",
      "source" : [
        "# chapter3.Next Steps in Scala\n",
        "\n"
      ],
      "outputs" : [
      ]
    },
    {
      "cell_type" : "code",
      "execution_count" : 18,
      "metadata" : {
        "cell.metadata.exec_info" : {
          "startTs" : 1685939943638,
          "endTs" : 1685939944099
        },
        "language" : "scala"
      },
      "language" : "scala",
      "source" : [
        "val big = new java.math.BigInteger(\"12345\")"
      ],
      "outputs" : [
        {
          "name" : "stdout",
          "text" : [
            "Hello",
            ", ",
            "world!\n"
          ],
          "output_type" : "stream"
        }
      ]
    },
    {
      "cell_type" : "code",
      "execution_count" : 20,
      "metadata" : {
        "language" : "scala"
      },
      "language" : "scala",
      "source" : [
        "val greetStrings = new Array[String](3)\r\n",
        "  \r\n",
        "greetStrings(0) = \"Hello\"\r\n",
        "greetStrings(1) = \", \"\r\n",
        "greetStrings(2) = \"world!\\n\"\r\n",
        "\r\n",
        "for (i <- 0 to 2)\r\n",
        "    print(greetStrings(i))"
      ],
      "outputs" : [
      ]
    },
    {
      "cell_type" : "code",
      "execution_count" : 21,
      "metadata" : {
        "cell.metadata.exec_info" : {
          "startTs" : 1685940463637,
          "endTs" : 1685940463820
        },
        "language" : "scala"
      },
      "language" : "scala",
      "source" : [
        "val greetStrings: Array[String] = new Array[String](3)\r\n",
        "greetStrings(0) = \"Hello\"\r\n",
        "greetStrings(1) = \", \"\r\n",
        "greetStrings(2) = \"world!\\n\"\r\n",
        "greetStrings(0) = \"Hello2\"\r\n",
        "greetStrings.update(0, \"Hello3\")\r\n",
        "for (i <- 0 to 2)\r\n",
        "    print(greetStrings(i))"
      ],
      "outputs" : [
        {
          "name" : "stdout",
          "text" : [
            "Hello3",
            ", ",
            "world!\n"
          ],
          "output_type" : "stream"
        }
      ]
    },
    {
      "cell_type" : "code",
      "execution_count" : 17,
      "metadata" : {
        "cell.metadata.exec_info" : {
          "startTs" : 1685940488188,
          "endTs" : 1685940488352
        },
        "language" : "scala"
      },
      "language" : "scala",
      "source" : [
        "val greetStrings = new Array[String](3)\n",
        "\n",
        "  greetStrings.update(0, \"Hello\")\n",
        "  greetStrings.update(1, \", \")\n",
        "  greetStrings.update(2, \"world!\\n\")\n",
        "\n",
        "  for (i <- 0.to(2))\n",
        "    print(greetStrings.apply(i))"
      ],
      "outputs" : [
        {
          "name" : "stdout",
          "text" : [
            "Hello",
            ", ",
            "world!\n"
          ],
          "output_type" : "stream"
        }
      ]
    },
    {
      "cell_type" : "code",
      "execution_count" : 22,
      "metadata" : {
        "cell.metadata.exec_info" : {
          "startTs" : 1685940523417,
          "endTs" : 1685940523562
        },
        "language" : "scala"
      },
      "language" : "scala",
      "source" : [
        " val numNames = Array(\"zero\", \"one\", \"two\")\r\n",
        " val numNames2 = Array.apply(\"zero\", \"one\", \"two\")"
      ],
      "outputs" : [
      ]
    },
    {
      "cell_type" : "markdown",
      "execution_count" : 26,
      "metadata" : {
        "language" : "text"
      },
      "language" : "text",
      "source" : [
        "### Step 1. Use lists<br>\n",
        "\n",
        "\n"
      ],
      "outputs" : [
      ]
    },
    {
      "cell_type" : "code",
      "execution_count" : 23,
      "metadata" : {
        "cell.metadata.exec_info" : {
          "startTs" : 1685940590569,
          "endTs" : 1685940590596
        },
        "language" : "scala"
      },
      "language" : "scala",
      "source" : [
        "val oneTwoThree = List(1, 2, 3)\r\n",
        "val oneTwo = List(1, 2)\r\n",
        "val threeFour = List(3, 4)\r\n",
        "val oneTwoThreeFour = oneTwo ::: threeFour\r\n",
        "println(oneTwo + \" and \" + threeFour + \" were not mutated.\")\r\n",
        "println(\"Thus, \" + oneTwoThreeFour + \" is a new list.\")"
      ],
      "outputs" : [
        {
          "execution_count" : 23,
          "data" : {
            "application/json" : [
              {
                "pos" : {
                  "sourceId" : "Cell23",
                  "start" : 282,
                  "end" : 282,
                  "point" : 282
                },
                "msg" : "oneTwoThree is already defined as value oneTwoThree",
                "severity" : 2
              }
            ],
            "text/plain" : [
              "Error: oneTwoThree is already defined as value oneTwoThree (282)"
            ]
          },
          "metadata" : {
            "rel" : "compiler_errors"
          },
          "output_type" : "execute_result"
        }
      ]
    },
    {
      "cell_type" : "code",
      "execution_count" : 24,
      "metadata" : {
        "cell.metadata.exec_info" : {
          "startTs" : 1685940605807,
          "endTs" : 1685940605993
        },
        "language" : "scala"
      },
      "language" : "scala",
      "source" : [
        "val twoThree = List(2, 3)\r\n",
        "val oneTwoThree = 1 :: twoThree\r\n",
        "println(oneTwoThree)"
      ],
      "outputs" : [
        {
          "name" : "stdout",
          "text" : [
            "List(1, 2, 3)",
            "\n"
          ],
          "output_type" : "stream"
        }
      ]
    },
    {
      "cell_type" : "code",
      "execution_count" : 25,
      "metadata" : {
        "cell.metadata.exec_info" : {
          "startTs" : 1685940628800,
          "endTs" : 1685940628942
        },
        "language" : "scala"
      },
      "language" : "scala",
      "source" : [
        "val oneTwoThree = 1 :: 2 :: 3 :: Nil\r\n",
        "println(oneTwoThree)"
      ],
      "outputs" : [
        {
          "name" : "stdout",
          "text" : [
            "List(1, 2, 3)",
            "\n"
          ],
          "output_type" : "stream"
        }
      ]
    },
    {
      "cell_type" : "markdown",
      "execution_count" : 27,
      "metadata" : {
        "language" : "text"
      },
      "language" : "text",
      "source" : [
        "**Step 2. Use tuples**\n",
        "\n",
        "\n"
      ],
      "outputs" : [
      ]
    },
    {
      "cell_type" : "code",
      "execution_count" : 28,
      "metadata" : {
        "cell.metadata.exec_info" : {
          "startTs" : 1685941333468,
          "endTs" : 1685941333888
        },
        "language" : "scala"
      },
      "language" : "scala",
      "source" : [
        "val pair = (99, \"Luftballons\")\r\n",
        "println(pair._1)\r\n",
        "println(pair._2)"
      ],
      "outputs" : [
        {
          "name" : "stdout",
          "text" : [
            "99",
            "\n",
            "Luftballons",
            "\n"
          ],
          "output_type" : "stream"
        }
      ]
    },
    {
      "cell_type" : "markdown",
      "execution_count" : 30,
      "metadata" : {
        "language" : "text"
      },
      "language" : "text",
      "source" : [
        "**Step 3. Use sets and maps**<br>"
      ],
      "outputs" : [
      ]
    },
    {
      "cell_type" : "code",
      "execution_count" : 29,
      "metadata" : {
        "cell.metadata.exec_info" : {
          "startTs" : 1685945905687,
          "endTs" : 1685945905891
        },
        "language" : "scala"
      },
      "language" : "scala",
      "source" : [
        "var jetSet = Set(\"Boeing\", \"Airbus\")\r\n",
        "jetSet += \"Lear\"\r\n",
        "println(jetSet.contains(\"Cessna\"))"
      ],
      "outputs" : [
        {
          "name" : "stdout",
          "text" : [
            "false",
            "\n"
          ],
          "output_type" : "stream"
        }
      ]
    },
    {
      "cell_type" : "code",
      "execution_count" : 31,
      "metadata" : {
        "cell.metadata.exec_info" : {
          "startTs" : 1685945923445,
          "endTs" : 1685945923533
        },
        "language" : "scala"
      },
      "language" : "scala",
      "source" : [
        "jetSet = jetSet + \"Lear\""
      ],
      "outputs" : [
      ]
    },
    {
      "cell_type" : "code",
      "execution_count" : 32,
      "metadata" : {
        "cell.metadata.exec_info" : {
          "startTs" : 1685945938435,
          "endTs" : 1685945938626
        },
        "language" : "scala"
      },
      "language" : "scala",
      "source" : [
        "import scala.collection.mutable\r\n",
        "\r\n",
        "val movieSet = mutable.Set(\"Hitch\", \"Poltergeist\")\r\n",
        "movieSet += \"Shrek\"\r\n",
        "println(movieSet) \r\n"
      ],
      "outputs" : [
        {
          "name" : "stdout",
          "text" : [
            "Set(Poltergeist, Shrek, Hitch)",
            "\n"
          ],
          "output_type" : "stream"
        }
      ]
    },
    {
      "cell_type" : "code",
      "execution_count" : 33,
      "metadata" : {
        "cell.metadata.exec_info" : {
          "startTs" : 1685948940297,
          "endTs" : 1685948940470
        },
        "language" : "scala"
      },
      "language" : "scala",
      "source" : [
        "import scala.collection.immutable.HashSet\r\n",
        "\r\n",
        "val hashSet = HashSet(\"Tomatoes\", \"Chilies\")\r\n",
        "println(hashSet + \"Coriander\")"
      ],
      "outputs" : [
        {
          "name" : "stdout",
          "text" : [
            "Set(Chilies, Tomatoes, Coriander)",
            "\n"
          ],
          "output_type" : "stream"
        }
      ]
    },
    {
      "cell_type" : "code",
      "execution_count" : 34,
      "metadata" : {
        "cell.metadata.exec_info" : {
          "startTs" : 1685948953083,
          "endTs" : 1685948953282
        },
        "language" : "scala"
      },
      "language" : "scala",
      "source" : [
        "import scala.collection.mutable\r\n",
        "\r\n",
        "val treasureMap = mutable.Map[Int, String]()\r\n",
        "treasureMap += (1 -> \"Go to island.\")\r\n",
        "treasureMap += (2 -> \"Find big X on ground.\")\r\n",
        "treasureMap += (3 -> \"Dig.\")\r\n",
        "println(treasureMap(2))"
      ],
      "outputs" : [
        {
          "name" : "stdout",
          "text" : [
            "Find big X on ground.",
            "\n"
          ],
          "output_type" : "stream"
        }
      ]
    },
    {
      "cell_type" : "code",
      "execution_count" : 35,
      "metadata" : {
        "cell.metadata.exec_info" : {
          "startTs" : 1685948989913,
          "endTs" : 1685948990069
        },
        "language" : "scala"
      },
      "language" : "scala",
      "source" : [
        "val romanNumeral = Map(\r\n",
        "    1 -> \"I\", 2 -> \"II\", 3 -> \"III\", 4 -> \"IV\", 5 -> \"V\"\r\n",
        ")\r\n",
        "println(romanNumeral(4))"
      ],
      "outputs" : [
        {
          "name" : "stdout",
          "text" : [
            "IV",
            "\n"
          ],
          "output_type" : "stream"
        }
      ]
    },
    {
      "cell_type" : "markdown",
      "execution_count" : 36,
      "metadata" : {
        "language" : "text"
      },
      "language" : "text",
      "source" : [
        "**Step 4. Learn to recognize the functional style**<br>"
      ],
      "outputs" : [
      ]
    },
    {
      "cell_type" : "code",
      "execution_count" : 37,
      "metadata" : {
        "cell.metadata.exec_info" : {
          "startTs" : 1685949197096,
          "endTs" : 1685949197170
        },
        "language" : "scala"
      },
      "language" : "scala",
      "source" : [
        "def printArgs(args: Array[String]): Unit = {\r\n",
        "    var i = 0\r\n",
        "    while (i < args.length) {\r\n",
        "        println(args(i))\r\n",
        "        i += 1\r\n",
        "    }\r\n",
        "}\r\n",
        " printArgs(greetStrings)"
      ],
      "outputs" : [
        {
          "name" : "stdout",
          "text" : [
            "Hello",
            "\n",
            ", ",
            "\n",
            "world!\n",
            "\n"
          ],
          "output_type" : "stream"
        }
      ]
    },
    {
      "cell_type" : "code",
      "execution_count" : 38,
      "metadata" : {
        "cell.metadata.exec_info" : {
          "startTs" : 1685949193228,
          "endTs" : 1685949193334
        },
        "language" : "scala"
      },
      "language" : "scala",
      "source" : [
        "def printArgs(args: Array[String]): Unit = {\r\n",
        "    for (arg <- args)\r\n",
        "      println(arg)\r\n",
        "}\r\n",
        " printArgs(greetStrings)"
      ],
      "outputs" : [
        {
          "name" : "stdout",
          "text" : [
            "Hello",
            "\n",
            ", ",
            "\n",
            "world!\n",
            "\n"
          ],
          "output_type" : "stream"
        }
      ]
    },
    {
      "cell_type" : "code",
      "execution_count" : 39,
      "metadata" : {
        "cell.metadata.exec_info" : {
          "startTs" : 1685949187693,
          "endTs" : 1685949187804
        },
        "language" : "scala"
      },
      "language" : "scala",
      "source" : [
        "def printArgs(args: Array[String]): Unit = {\r\n",
        "    args.foreach(println)\r\n",
        "}\r\n",
        " printArgs(greetStrings)"
      ],
      "outputs" : [
        {
          "name" : "stdout",
          "text" : [
            "Hello",
            "\n",
            ", ",
            "\n",
            "world!\n",
            "\n"
          ],
          "output_type" : "stream"
        }
      ]
    },
    {
      "cell_type" : "code",
      "execution_count" : 40,
      "metadata" : {
        "cell.metadata.exec_info" : {
          "startTs" : 1685949177903,
          "endTs" : 1685949178046
        },
        "language" : "scala"
      },
      "language" : "scala",
      "source" : [
        " def formatArgs(args: Array[String]) = args.mkString(\"\\n\")\r\n",
        " val oneTwoThree = List(1, 2, 3)\r\n",
        " formatArgs(greetStrings)"
      ],
      "outputs" : [
        {
          "execution_count" : 40,
          "data" : {
            "text/plain" : [
              "Hello\n",
              ", \n",
              "world!\n"
            ]
          },
          "metadata" : {
            "name" : "Out",
            "type" : "String"
          },
          "output_type" : "execute_result"
        }
      ]
    },
    {
      "cell_type" : "code",
      "execution_count" : 41,
      "metadata" : {
        "language" : "scala"
      },
      "language" : "scala",
      "source" : [
        "println(formatArgs(args))\r\n"
      ],
      "outputs" : [
      ]
    },
    {
      "cell_type" : "code",
      "execution_count" : 42,
      "metadata" : {
        "cell.metadata.exec_info" : {
          "startTs" : 1685949226884,
          "endTs" : 1685949226982
        },
        "language" : "scala"
      },
      "language" : "scala",
      "source" : [
        "val res = formatArgs(Array(\"zero\", \"one\", \"two\"))\r\n",
        "assert(res == \"zero\\none\\ntwo\")"
      ],
      "outputs" : [
      ]
    },
    {
      "cell_type" : "markdown",
      "execution_count" : 43,
      "metadata" : {
        "language" : "text"
      },
      "language" : "text",
      "source" : [
        "**Step 5. Read lines from a file**<br>"
      ],
      "outputs" : [
      ]
    },
    {
      "cell_type" : "code",
      "execution_count" : 44,
      "metadata" : {
        "cell.metadata.exec_info" : {
          "startTs" : 1685949279993,
          "endTs" : 1685949280034
        },
        "language" : "scala"
      },
      "language" : "scala",
      "source" : [
        "import scala.io.Source\r\n",
        "\r\n",
        "if (args.length > 0) {\r\n",
        "\r\n",
        "    for (line <- Source.fromFile(args(0)).getLines())\r\n",
        "        println(line.length.toString + \" \" + line)\r\n",
        "    }\r\n",
        "else\r\n",
        "    Console.err.println(\"Please enter filename\")"
      ],
      "outputs" : [
        {
          "execution_count" : 44,
          "data" : {
            "application/json" : [
              {
                "pos" : {
                  "sourceId" : "Cell44",
                  "start" : 30,
                  "end" : 30,
                  "point" : 30
                },
                "msg" : "not found: value args",
                "severity" : 2
              },
              {
                "pos" : {
                  "sourceId" : "Cell44",
                  "start" : 85,
                  "end" : 85,
                  "point" : 85
                },
                "msg" : "not found: value args",
                "severity" : 2
              }
            ],
            "text/plain" : [
              "Error: not found: value args (30)",
              "Error: not found: value args (85)"
            ]
          },
          "metadata" : {
            "rel" : "compiler_errors"
          },
          "output_type" : "execute_result"
        }
      ]
    },
    {
      "cell_type" : "markdown",
      "execution_count" : 45,
      "metadata" : {
        "language" : "text"
      },
      "language" : "text",
      "source" : [
        "chapter4.Classes and Objects<br>\n",
        "\n",
        "\n"
      ],
      "outputs" : [
      ]
    },
    {
      "cell_type" : "code",
      "execution_count" : 46,
      "metadata" : {
        "cell.metadata.exec_info" : {
          "startTs" : 1685950967306,
          "endTs" : 1685950967480
        },
        "language" : "scala"
      },
      "language" : "scala",
      "source" : [
        "class ChecksumAccumulator {\r\n",
        "    var sum = 0\r\n",
        "}\r\n",
        "new ChecksumAccumulator"
      ],
      "outputs" : [
        {
          "execution_count" : 46,
          "data" : {
            "text/plain" : [
              "$notebook.Cell46$2$ChecksumAccumulator@1970ce59"
            ]
          },
          "metadata" : {
            "name" : "Out",
            "type" : "ChecksumAccumulator"
          },
          "output_type" : "execute_result"
        }
      ]
    },
    {
      "cell_type" : "code",
      "execution_count" : 47,
      "metadata" : {
        "cell.metadata.exec_info" : {
          "startTs" : 1685950988555,
          "endTs" : 1685950988729
        },
        "language" : "scala"
      },
      "language" : "scala",
      "source" : [
        "val acc = new ChecksumAccumulator\r\n",
        "val csa = new ChecksumAccumulator\r\n",
        "acc.sum = 3"
      ],
      "outputs" : [
      ]
    },
    {
      "cell_type" : "code",
      "execution_count" : 48,
      "metadata" : {
        "cell.metadata.exec_info" : {
          "startTs" : 1685951004932,
          "endTs" : 1685951004958
        },
        "language" : "scala"
      },
      "language" : "scala",
      "source" : [
        "// Won't compile, because acc is a val\r\n",
        "acc = new ChecksumAccumulator"
      ],
      "outputs" : [
        {
          "execution_count" : 48,
          "data" : {
            "application/json" : [
              {
                "pos" : {
                  "sourceId" : "Cell48",
                  "start" : 44,
                  "end" : 44,
                  "point" : 44
                },
                "msg" : "reassignment to val",
                "severity" : 2
              }
            ],
            "text/plain" : [
              "Error: reassignment to val (44)"
            ]
          },
          "metadata" : {
            "rel" : "compiler_errors"
          },
          "output_type" : "execute_result"
        }
      ]
    },
    {
      "cell_type" : "code",
      "execution_count" : 49,
      "metadata" : {
        "cell.metadata.exec_info" : {
          "startTs" : 1685951025398,
          "endTs" : 1685951025429
        },
        "language" : "scala"
      },
      "language" : "scala",
      "source" : [
        "class ChecksumAccumulator {\r\n",
        "    private var sum = 0\r\n",
        "}\r\n",
        "val acc = new ChecksumAccumulator\r\n",
        "acc.sum = 5 // Won't compile, because sum is private"
      ],
      "outputs" : [
        {
          "execution_count" : 49,
          "data" : {
            "application/json" : [
              {
                "pos" : {
                  "sourceId" : "Cell49",
                  "start" : 96,
                  "end" : 96,
                  "point" : 96
                },
                "msg" : "variable sum in class ChecksumAccumulator cannot be accessed in Cell49$3.this.ChecksumAccumulator",
                "severity" : 2
              }
            ],
            "text/plain" : [
              "Error: variable sum in class ChecksumAccumulator cannot be accessed in Cell49$3.this.ChecksumAccumulator (96)"
            ]
          },
          "metadata" : {
            "rel" : "compiler_errors"
          },
          "output_type" : "execute_result"
        }
      ]
    },
    {
      "cell_type" : "code",
      "execution_count" : 50,
      "metadata" : {
        "cell.metadata.exec_info" : {
          "startTs" : 1685951153827,
          "endTs" : 1685951153862
        },
        "language" : "scala"
      },
      "language" : "scala",
      "source" : [
        "class ChecksumAccumulator {\r\n",
        "\r\n",
        "    private var sum = 0\r\n",
        "\r\n",
        "    //def add(b: Byte): Unit = {\r\n",
        "    //  sum += b\r\n",
        "    //}\r\n",
        "    val b=0\r\n",
        "    def add(b: Byte): Unit = {\r\n",
        "    b = 1     // This won't compile, because b is a val\r\n",
        "    sum += b\r\n",
        "    }\r\n",
        "\r\n",
        "    def checksum(): Int = {\r\n",
        "      return ~(sum & 0xFF) + 1\r\n",
        "    }\r\n",
        "}"
      ],
      "outputs" : [
        {
          "execution_count" : 50,
          "data" : {
            "application/json" : [
              {
                "pos" : {
                  "sourceId" : "Cell50",
                  "start" : 170,
                  "end" : 170,
                  "point" : 170
                },
                "msg" : "reassignment to val",
                "severity" : 2
              }
            ],
            "text/plain" : [
              "Error: reassignment to val (170)"
            ]
          },
          "metadata" : {
            "rel" : "compiler_errors"
          },
          "output_type" : "execute_result"
        }
      ]
    },
    {
      "cell_type" : "code",
      "execution_count" : 52,
      "metadata" : {
        "cell.metadata.exec_info" : {
          "startTs" : 1685951588745,
          "endTs" : 1685951588815
        },
        "language" : "scala"
      },
      "language" : "scala",
      "source" : [
        "class ChecksumAccumulator {\r\n",
        "    private var sum = 0\r\n",
        "    def add(b: Byte) = sum += b\r\n",
        "    def checksum() = ~(sum & 0xFF) + 1\r\n",
        "  }"
      ],
      "outputs" : [
      ]
    },
    {
      "cell_type" : "code",
      "execution_count" : 51,
      "metadata" : {
        "cell.metadata.exec_info" : {
          "startTs" : 1685951547086,
          "endTs" : 1685951547159
        },
        "language" : "scala"
      },
      "language" : "scala",
      "source" : [
        "class ChecksumAccumulator {\r\n",
        "    private var sum = 0\r\n",
        "    def add(b: Byte): Unit = { sum += b }\r\n",
        "    def checksum(): Int = ~(sum & 0xFF) + 1\r\n",
        "}\r\n"
      ],
      "outputs" : [
      ]
    },
    {
      "cell_type" : "markdown",
      "execution_count" : 53,
      "metadata" : {
        "language" : "text"
      },
      "language" : "text",
      "source" : [
        "**4.2 Semicolon inference**\n",
        "\n",
        "\n"
      ],
      "outputs" : [
      ]
    },
    {
      "cell_type" : "code",
      "execution_count" : 54,
      "metadata" : {
        "cell.metadata.exec_info" : {
          "startTs" : 1685951662536,
          "endTs" : 1685951662617
        },
        "language" : "scala"
      },
      "language" : "scala",
      "source" : [
        "val s = \"hello\"; println(s)"
      ],
      "outputs" : [
        {
          "name" : "stdout",
          "text" : [
            "hello",
            "\n"
          ],
          "output_type" : "stream"
        }
      ]
    },
    {
      "cell_type" : "code",
      "execution_count" : 55,
      "metadata" : {
        "cell.metadata.exec_info" : {
          "startTs" : 1685951715140,
          "endTs" : 1685951715214
        },
        "language" : "scala"
      },
      "language" : "scala",
      "source" : [
        "val x=3\r\n",
        "if (x < 2)\r\n",
        "    println(\"too small\")\r\n",
        "else\r\n",
        "    println(\"ok\")"
      ],
      "outputs" : [
        {
          "name" : "stdout",
          "text" : [
            "ok",
            "\n"
          ],
          "output_type" : "stream"
        }
      ]
    },
    {
      "cell_type" : "code",
      "execution_count" : 56,
      "metadata" : {
        "cell.metadata.exec_info" : {
          "startTs" : 1685951756929,
          "endTs" : 1685951757092
        },
        "language" : "scala"
      },
      "language" : "scala",
      "source" : [
        "import scala.collection.mutable\r\n",
        "\r\n",
        "object ChecksumAccumulator {\r\n",
        "\r\n",
        "private val cache = mutable.Map.empty[String, Int]\r\n",
        "\r\n",
        "def calculate(s: String): Int = \r\n",
        "    if (cache.contains(s))\r\n",
        "        cache(s)\r\n",
        "    else {\r\n",
        "        val acc = new ChecksumAccumulator\r\n",
        "        for (c <- s)\r\n",
        "            acc.add(c.toByte)\r\n",
        "        val cs = acc.checksum()\r\n",
        "        cache += (s -> cs)\r\n",
        "        cs\r\n",
        "    }\r\n",
        "}\r\n",
        "ChecksumAccumulator.calculate(\"Every value is an object.\")\r\n"
      ],
      "outputs" : [
        {
          "execution_count" : 56,
          "data" : {
            "text/plain" : [
              "-248"
            ]
          },
          "metadata" : {
            "name" : "Out",
            "type" : "Int"
          },
          "output_type" : "execute_result"
        }
      ]
    }
  ]
}