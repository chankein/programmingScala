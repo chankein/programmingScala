{
  "metadata" : {
    "config" : {
      "dependencies" : {
        
      },
      "exclusions" : [
      ],
      "repositories" : [
      ],
      "sparkConfig" : {
        
      }
    }
  },
  "nbformat" : 4,
  "nbformat_minor" : 0,
  "cells" : [
    {
      "cell_type" : "markdown",
      "execution_count" : 0,
      "metadata" : {
        "language" : "text"
      },
      "language" : "text",
      "source" : [
        "# chapter1.ipynb\n",
        "\n",
        "This is a text cell. Start editing!"
      ],
      "outputs" : [
      ]
    },
    {
      "cell_type" : "code",
      "execution_count" : 1,
      "metadata" : {
        "cell.metadata.exec_info" : {
          "startTs" : 1685930315903,
          "endTs" : 1685930317290
        },
        "language" : "scala"
      },
      "language" : "scala",
      "source" : [
        "var capital = Map(\"US\" -> \"Washington\", \"France\" -> \"Paris\")\r\n",
        "\r\n",
        "capital += (\"Japan\" -> \"Tokyo\")\r\n",
        "\r\n",
        "println(capital(\"France\")) "
      ],
      "outputs" : [
        {
          "name" : "stdout",
          "text" : [
            "Paris\n"
          ],
          "output_type" : "stream"
        }
      ]
    },
    {
      "cell_type" : "code",
      "execution_count" : 2,
      "metadata" : {
        "cell.metadata.exec_info" : {
          "startTs" : 1685930317319,
          "endTs" : 1685930317542
        },
        "language" : "scala"
      },
      "language" : "scala",
      "source" : [
        "def factorial(x: BigInt): BigInt = \r\n",
        "    if (x == 0) 1 else x * factorial(x - 1)"
      ],
      "outputs" : [
      ]
    },
    {
      "cell_type" : "markdown",
      "execution_count" : 3,
      "metadata" : {
        "language" : "text"
      },
      "language" : "text",
      "source" : [
        "# chapter2.ipynb\n",
        "\n"
      ],
      "outputs" : [
      ]
    },
    {
      "cell_type" : "markdown",
      "execution_count" : 4,
      "metadata" : {
        "language" : "text"
      },
      "language" : "text",
      "source" : [
        "### Define some variables\n",
        "\n"
      ],
      "outputs" : [
      ]
    },
    {
      "cell_type" : "code",
      "execution_count" : 5,
      "metadata" : {
        "cell.metadata.exec_info" : {
          "startTs" : 1685930317551,
          "endTs" : 1685930317754
        },
        "language" : "scala"
      },
      "language" : "scala",
      "source" : [
        "val msg = \"Hello, world!\""
      ],
      "outputs" : [
      ]
    },
    {
      "cell_type" : "code",
      "execution_count" : 6,
      "metadata" : {
        "cell.metadata.exec_info" : {
          "startTs" : 1685930317759,
          "endTs" : 1685930317890
        },
        "language" : "scala"
      },
      "language" : "scala",
      "source" : [
        "val msg2: java.lang.String = \"Hello again, world!\""
      ],
      "outputs" : [
      ]
    },
    {
      "cell_type" : "code",
      "execution_count" : 7,
      "metadata" : {
        "cell.metadata.exec_info" : {
          "startTs" : 1685930317895,
          "endTs" : 1685930318020
        },
        "language" : "scala"
      },
      "language" : "scala",
      "source" : [
        "val msg3: String = \"Hello yet again, world!\""
      ],
      "outputs" : [
      ]
    },
    {
      "cell_type" : "code",
      "execution_count" : 8,
      "metadata" : {
        "cell.metadata.exec_info" : {
          "startTs" : 1685930318026,
          "endTs" : 1685930318112
        },
        "language" : "scala"
      },
      "language" : "scala",
      "source" : [
        "println(msg)"
      ],
      "outputs" : [
        {
          "name" : "stdout",
          "text" : [
            "Hello, world!\n"
          ],
          "output_type" : "stream"
        }
      ]
    },
    {
      "cell_type" : "code",
      "execution_count" : 9,
      "metadata" : {
        "cell.metadata.exec_info" : {
          "startTs" : 1685930744827,
          "endTs" : 1685930744855
        },
        "language" : "scala"
      },
      "language" : "scala",
      "source" : [
        "msg = \"Goodbye cruel world!\"\r\n",
        "// val cannot be reassign"
      ],
      "outputs" : [
        {
          "execution_count" : 9,
          "data" : {
            "application/json" : [
              {
                "pos" : {
                  "sourceId" : "Cell9",
                  "start" : 4,
                  "end" : 4,
                  "point" : 4
                },
                "msg" : "reassignment to val",
                "severity" : 2
              }
            ],
            "text/plain" : [
              "Error: reassignment to val (4)"
            ]
          },
          "metadata" : {
            "rel" : "compiler_errors"
          },
          "output_type" : "execute_result"
        }
      ]
    },
    {
      "cell_type" : "code",
      "execution_count" : 10,
      "metadata" : {
        "cell.metadata.exec_info" : {
          "startTs" : 1685930764488,
          "endTs" : 1685930764587
        },
        "language" : "scala"
      },
      "language" : "scala",
      "source" : [
        "var greeting = \"Hello, world!\"\r\n",
        "greeting = \"Leave me alone, world!\""
      ],
      "outputs" : [
      ]
    },
    {
      "cell_type" : "code",
      "execution_count" : 11,
      "metadata" : {
        "cell.metadata.exec_info" : {
          "startTs" : 1685930850610,
          "endTs" : 1685930850711
        },
        "language" : "scala"
      },
      "language" : "scala",
      "source" : [
        "val multiLine =\r\n",
        "\"\"\"\r\n",
        "\\|  This is the next line.\r\n",
        "\"\"\""
      ],
      "outputs" : [
      ]
    },
    {
      "cell_type" : "markdown",
      "execution_count" : 12,
      "metadata" : {
        "language" : "text"
      },
      "language" : "text",
      "source" : [
        "Define some functions"
      ],
      "outputs" : [
      ]
    },
    {
      "cell_type" : "code",
      "execution_count" : 13,
      "metadata" : {
        "cell.metadata.exec_info" : {
          "startTs" : 1685931654209,
          "endTs" : 1685931654299
        },
        "language" : "scala"
      },
      "language" : "scala",
      "source" : [
        "def max(x: Int, y: Int): Int = {\r\n",
        "    if (x > y) x\r\n",
        "    else y\r\n",
        "    }\r\n",
        "max(2,3)"
      ],
      "outputs" : [
        {
          "execution_count" : 13,
          "data" : {
            "text/plain" : [
              "3"
            ]
          },
          "metadata" : {
            "name" : "Out",
            "type" : "Int"
          },
          "output_type" : "execute_result"
        }
      ]
    },
    {
      "cell_type" : "code",
      "execution_count" : 14,
      "metadata" : {
        "cell.metadata.exec_info" : {
          "startTs" : 1685931661836,
          "endTs" : 1685931661918
        },
        "language" : "scala"
      },
      "language" : "scala",
      "source" : [
        "def max(x: Int, y: Int) = if (x > y) x else y\r\n",
        "max(2,3)"
      ],
      "outputs" : [
        {
          "execution_count" : 14,
          "data" : {
            "text/plain" : [
              "3"
            ]
          },
          "metadata" : {
            "name" : "Out",
            "type" : "Int"
          },
          "output_type" : "execute_result"
        }
      ]
    },
    {
      "cell_type" : "code",
      "execution_count" : 15,
      "metadata" : {
        "cell.metadata.exec_info" : {
          "startTs" : 1685931680451,
          "endTs" : 1685931680517
        },
        "language" : "scala"
      },
      "language" : "scala",
      "source" : [
        "def greet() = println(\"Hello, world!\")\r\n",
        "greet()"
      ],
      "outputs" : [
        {
          "name" : "stdout",
          "text" : [
            "Hello, world!\n"
          ],
          "output_type" : "stream"
        }
      ]
    },
    {
      "cell_type" : "markdown",
      "execution_count" : 16,
      "metadata" : {
        "language" : "text"
      },
      "language" : "text",
      "source" : [
        "# chapter3.Next Steps in Scala\n",
        "\n"
      ],
      "outputs" : [
      ]
    },
    {
      "cell_type" : "code",
      "execution_count" : 17,
      "metadata" : {
        "cell.metadata.exec_info" : {
          "startTs" : 1685939943638,
          "endTs" : 1685939944099
        },
        "language" : "scala"
      },
      "language" : "scala",
      "source" : [
        "val big = new java.math.BigInteger(\"12345\")"
      ],
      "outputs" : [
        {
          "name" : "stdout",
          "text" : [
            "Hello, world!\n"
          ],
          "output_type" : "stream"
        }
      ]
    },
    {
      "cell_type" : "code",
      "execution_count" : 18,
      "metadata" : {
        "language" : "scala"
      },
      "language" : "scala",
      "source" : [
        "val greetStrings = new Array[String](3)\r\n",
        "  \r\n",
        "greetStrings(0) = \"Hello\"\r\n",
        "greetStrings(1) = \", \"\r\n",
        "greetStrings(2) = \"world!\\n\"\r\n",
        "\r\n",
        "for (i <- 0 to 2)\r\n",
        "    print(greetStrings(i))"
      ],
      "outputs" : [
      ]
    },
    {
      "cell_type" : "code",
      "execution_count" : 19,
      "metadata" : {
        "cell.metadata.exec_info" : {
          "startTs" : 1685940463637,
          "endTs" : 1685940463820
        },
        "language" : "scala"
      },
      "language" : "scala",
      "source" : [
        "val greetStrings: Array[String] = new Array[String](3)\r\n",
        "greetStrings(0) = \"Hello\"\r\n",
        "greetStrings(1) = \", \"\r\n",
        "greetStrings(2) = \"world!\\n\"\r\n",
        "greetStrings(0) = \"Hello2\"\r\n",
        "greetStrings.update(0, \"Hello3\")\r\n",
        "for (i <- 0 to 2)\r\n",
        "    print(greetStrings(i))"
      ],
      "outputs" : [
        {
          "name" : "stdout",
          "text" : [
            "Hello3, world!\n"
          ],
          "output_type" : "stream"
        }
      ]
    },
    {
      "cell_type" : "code",
      "execution_count" : 20,
      "metadata" : {
        "cell.metadata.exec_info" : {
          "startTs" : 1685940488188,
          "endTs" : 1685940488352
        },
        "language" : "scala"
      },
      "language" : "scala",
      "source" : [
        "val greetStrings = new Array[String](3)\n",
        "\n",
        "  greetStrings.update(0, \"Hello\")\n",
        "  greetStrings.update(1, \", \")\n",
        "  greetStrings.update(2, \"world!\\n\")\n",
        "\n",
        "  for (i <- 0.to(2))\n",
        "    print(greetStrings.apply(i))"
      ],
      "outputs" : [
        {
          "name" : "stdout",
          "text" : [
            "Hello, world!\n"
          ],
          "output_type" : "stream"
        }
      ]
    },
    {
      "cell_type" : "code",
      "execution_count" : 21,
      "metadata" : {
        "cell.metadata.exec_info" : {
          "startTs" : 1685940523417,
          "endTs" : 1685940523562
        },
        "language" : "scala"
      },
      "language" : "scala",
      "source" : [
        " val numNames = Array(\"zero\", \"one\", \"two\")\r\n",
        " val numNames2 = Array.apply(\"zero\", \"one\", \"two\")"
      ],
      "outputs" : [
      ]
    },
    {
      "cell_type" : "markdown",
      "execution_count" : 22,
      "metadata" : {
        "language" : "text"
      },
      "language" : "text",
      "source" : [
        "### Step 1. Use lists<br>\n",
        "\n",
        "\n"
      ],
      "outputs" : [
      ]
    },
    {
      "cell_type" : "code",
      "execution_count" : 23,
      "metadata" : {
        "cell.metadata.exec_info" : {
          "startTs" : 1685940590569,
          "endTs" : 1685940590596
        },
        "language" : "scala"
      },
      "language" : "scala",
      "source" : [
        "val oneTwoThree = List(1, 2, 3)\r\n",
        "val oneTwo = List(1, 2)\r\n",
        "val threeFour = List(3, 4)\r\n",
        "val oneTwoThreeFour = oneTwo ::: threeFour\r\n",
        "println(oneTwo + \" and \" + threeFour + \" were not mutated.\")\r\n",
        "println(\"Thus, \" + oneTwoThreeFour + \" is a new list.\")"
      ],
      "outputs" : [
        {
          "execution_count" : 23,
          "data" : {
            "application/json" : [
              {
                "pos" : {
                  "sourceId" : "Cell23",
                  "start" : 282,
                  "end" : 282,
                  "point" : 282
                },
                "msg" : "oneTwoThree is already defined as value oneTwoThree",
                "severity" : 2
              }
            ],
            "text/plain" : [
              "Error: oneTwoThree is already defined as value oneTwoThree (282)"
            ]
          },
          "metadata" : {
            "rel" : "compiler_errors"
          },
          "output_type" : "execute_result"
        }
      ]
    },
    {
      "cell_type" : "code",
      "execution_count" : 24,
      "metadata" : {
        "cell.metadata.exec_info" : {
          "startTs" : 1685940605807,
          "endTs" : 1685940605993
        },
        "language" : "scala"
      },
      "language" : "scala",
      "source" : [
        "val twoThree = List(2, 3)\r\n",
        "val oneTwoThree = 1 :: twoThree\r\n",
        "println(oneTwoThree)"
      ],
      "outputs" : [
        {
          "name" : "stdout",
          "text" : [
            "List(1, 2, 3)\n"
          ],
          "output_type" : "stream"
        }
      ]
    },
    {
      "cell_type" : "code",
      "execution_count" : 25,
      "metadata" : {
        "cell.metadata.exec_info" : {
          "startTs" : 1685940628800,
          "endTs" : 1685940628942
        },
        "language" : "scala"
      },
      "language" : "scala",
      "source" : [
        "val oneTwoThree = 1 :: 2 :: 3 :: Nil\r\n",
        "println(oneTwoThree)"
      ],
      "outputs" : [
        {
          "name" : "stdout",
          "text" : [
            "List(1, 2, 3)\n"
          ],
          "output_type" : "stream"
        }
      ]
    },
    {
      "cell_type" : "markdown",
      "execution_count" : 26,
      "metadata" : {
        "language" : "text"
      },
      "language" : "text",
      "source" : [
        "**Step 2. Use tuples**\n",
        "\n",
        "\n"
      ],
      "outputs" : [
      ]
    },
    {
      "cell_type" : "code",
      "execution_count" : 27,
      "metadata" : {
        "cell.metadata.exec_info" : {
          "startTs" : 1685941333468,
          "endTs" : 1685941333888
        },
        "language" : "scala"
      },
      "language" : "scala",
      "source" : [
        "val pair = (99, \"Luftballons\")\r\n",
        "println(pair._1)\r\n",
        "println(pair._2)"
      ],
      "outputs" : [
        {
          "name" : "stdout",
          "text" : [
            "99\n",
            "Luftballons\n"
          ],
          "output_type" : "stream"
        }
      ]
    },
    {
      "cell_type" : "markdown",
      "execution_count" : 28,
      "metadata" : {
        "language" : "text"
      },
      "language" : "text",
      "source" : [
        "**Step 3. Use sets and maps**<br>"
      ],
      "outputs" : [
      ]
    },
    {
      "cell_type" : "code",
      "execution_count" : 29,
      "metadata" : {
        "cell.metadata.exec_info" : {
          "startTs" : 1685945905687,
          "endTs" : 1685945905891
        },
        "language" : "scala"
      },
      "language" : "scala",
      "source" : [
        "var jetSet = Set(\"Boeing\", \"Airbus\")\r\n",
        "jetSet += \"Lear\"\r\n",
        "println(jetSet.contains(\"Cessna\"))"
      ],
      "outputs" : [
        {
          "name" : "stdout",
          "text" : [
            "false\n"
          ],
          "output_type" : "stream"
        }
      ]
    },
    {
      "cell_type" : "code",
      "execution_count" : 30,
      "metadata" : {
        "cell.metadata.exec_info" : {
          "startTs" : 1685945923445,
          "endTs" : 1685945923533
        },
        "language" : "scala"
      },
      "language" : "scala",
      "source" : [
        "jetSet = jetSet + \"Lear\""
      ],
      "outputs" : [
      ]
    },
    {
      "cell_type" : "code",
      "execution_count" : 31,
      "metadata" : {
        "cell.metadata.exec_info" : {
          "startTs" : 1685945938435,
          "endTs" : 1685945938626
        },
        "language" : "scala"
      },
      "language" : "scala",
      "source" : [
        "import scala.collection.mutable\r\n",
        "\r\n",
        "val movieSet = mutable.Set(\"Hitch\", \"Poltergeist\")\r\n",
        "movieSet += \"Shrek\"\r\n",
        "println(movieSet) \r\n"
      ],
      "outputs" : [
        {
          "name" : "stdout",
          "text" : [
            "Set(Poltergeist, Shrek, Hitch)\n"
          ],
          "output_type" : "stream"
        }
      ]
    },
    {
      "cell_type" : "code",
      "execution_count" : 32,
      "metadata" : {
        "cell.metadata.exec_info" : {
          "startTs" : 1685948940297,
          "endTs" : 1685948940470
        },
        "language" : "scala"
      },
      "language" : "scala",
      "source" : [
        "import scala.collection.immutable.HashSet\r\n",
        "\r\n",
        "val hashSet = HashSet(\"Tomatoes\", \"Chilies\")\r\n",
        "println(hashSet + \"Coriander\")"
      ],
      "outputs" : [
        {
          "name" : "stdout",
          "text" : [
            "Set(Chilies, Tomatoes, Coriander)\n"
          ],
          "output_type" : "stream"
        }
      ]
    },
    {
      "cell_type" : "code",
      "execution_count" : 33,
      "metadata" : {
        "cell.metadata.exec_info" : {
          "startTs" : 1685948953083,
          "endTs" : 1685948953282
        },
        "language" : "scala"
      },
      "language" : "scala",
      "source" : [
        "import scala.collection.mutable\r\n",
        "\r\n",
        "val treasureMap = mutable.Map[Int, String]()\r\n",
        "treasureMap += (1 -> \"Go to island.\")\r\n",
        "treasureMap += (2 -> \"Find big X on ground.\")\r\n",
        "treasureMap += (3 -> \"Dig.\")\r\n",
        "println(treasureMap(2))"
      ],
      "outputs" : [
        {
          "name" : "stdout",
          "text" : [
            "Find big X on ground.\n"
          ],
          "output_type" : "stream"
        }
      ]
    },
    {
      "cell_type" : "code",
      "execution_count" : 34,
      "metadata" : {
        "cell.metadata.exec_info" : {
          "startTs" : 1685948989913,
          "endTs" : 1685948990069
        },
        "language" : "scala"
      },
      "language" : "scala",
      "source" : [
        "val romanNumeral = Map(\r\n",
        "    1 -> \"I\", 2 -> \"II\", 3 -> \"III\", 4 -> \"IV\", 5 -> \"V\"\r\n",
        ")\r\n",
        "println(romanNumeral(4))"
      ],
      "outputs" : [
        {
          "name" : "stdout",
          "text" : [
            "IV\n"
          ],
          "output_type" : "stream"
        }
      ]
    },
    {
      "cell_type" : "markdown",
      "execution_count" : 35,
      "metadata" : {
        "language" : "text"
      },
      "language" : "text",
      "source" : [
        "**Step 4. Learn to recognize the functional style**<br>"
      ],
      "outputs" : [
      ]
    },
    {
      "cell_type" : "code",
      "execution_count" : 36,
      "metadata" : {
        "cell.metadata.exec_info" : {
          "startTs" : 1685949197096,
          "endTs" : 1685949197170
        },
        "language" : "scala"
      },
      "language" : "scala",
      "source" : [
        "def printArgs(args: Array[String]): Unit = {\r\n",
        "    var i = 0\r\n",
        "    while (i < args.length) {\r\n",
        "        println(args(i))\r\n",
        "        i += 1\r\n",
        "    }\r\n",
        "}\r\n",
        " printArgs(greetStrings)"
      ],
      "outputs" : [
        {
          "name" : "stdout",
          "text" : [
            "Hello\n",
            ", \n",
            "world!\n",
            "\n"
          ],
          "output_type" : "stream"
        }
      ]
    },
    {
      "cell_type" : "code",
      "execution_count" : 37,
      "metadata" : {
        "cell.metadata.exec_info" : {
          "startTs" : 1685949193228,
          "endTs" : 1685949193334
        },
        "language" : "scala"
      },
      "language" : "scala",
      "source" : [
        "def printArgs(args: Array[String]): Unit = {\r\n",
        "    for (arg <- args)\r\n",
        "      println(arg)\r\n",
        "}\r\n",
        " printArgs(greetStrings)"
      ],
      "outputs" : [
        {
          "name" : "stdout",
          "text" : [
            "Hello\n",
            ", \n",
            "world!\n",
            "\n"
          ],
          "output_type" : "stream"
        }
      ]
    },
    {
      "cell_type" : "code",
      "execution_count" : 38,
      "metadata" : {
        "cell.metadata.exec_info" : {
          "startTs" : 1685949187693,
          "endTs" : 1685949187804
        },
        "language" : "scala"
      },
      "language" : "scala",
      "source" : [
        "def printArgs(args: Array[String]): Unit = {\r\n",
        "    args.foreach(println)\r\n",
        "}\r\n",
        " printArgs(greetStrings)"
      ],
      "outputs" : [
        {
          "name" : "stdout",
          "text" : [
            "Hello\n",
            ", \n",
            "world!\n",
            "\n"
          ],
          "output_type" : "stream"
        }
      ]
    },
    {
      "cell_type" : "code",
      "execution_count" : 39,
      "metadata" : {
        "cell.metadata.exec_info" : {
          "startTs" : 1685949177903,
          "endTs" : 1685949178046
        },
        "language" : "scala"
      },
      "language" : "scala",
      "source" : [
        " def formatArgs(args: Array[String]) = args.mkString(\"\\n\")\r\n",
        " val oneTwoThree = List(1, 2, 3)\r\n",
        " formatArgs(greetStrings)"
      ],
      "outputs" : [
        {
          "execution_count" : 39,
          "data" : {
            "text/plain" : [
              "Hello\n",
              ", \n",
              "world!\n"
            ]
          },
          "metadata" : {
            "name" : "Out",
            "type" : "String"
          },
          "output_type" : "execute_result"
        }
      ]
    },
    {
      "cell_type" : "code",
      "execution_count" : 40,
      "metadata" : {
        "language" : "scala"
      },
      "language" : "scala",
      "source" : [
        "println(formatArgs(args))\r\n"
      ],
      "outputs" : [
      ]
    },
    {
      "cell_type" : "code",
      "execution_count" : 41,
      "metadata" : {
        "cell.metadata.exec_info" : {
          "startTs" : 1685949226884,
          "endTs" : 1685949226982
        },
        "language" : "scala"
      },
      "language" : "scala",
      "source" : [
        "val res = formatArgs(Array(\"zero\", \"one\", \"two\"))\r\n",
        "assert(res == \"zero\\none\\ntwo\")"
      ],
      "outputs" : [
      ]
    },
    {
      "cell_type" : "markdown",
      "execution_count" : 42,
      "metadata" : {
        "language" : "text"
      },
      "language" : "text",
      "source" : [
        "**Step 5. Read lines from a file**<br>"
      ],
      "outputs" : [
      ]
    },
    {
      "cell_type" : "code",
      "execution_count" : 43,
      "metadata" : {
        "cell.metadata.exec_info" : {
          "startTs" : 1685949279993,
          "endTs" : 1685949280034
        },
        "language" : "scala"
      },
      "language" : "scala",
      "source" : [
        "import scala.io.Source\r\n",
        "\r\n",
        "if (args.length > 0) {\r\n",
        "\r\n",
        "    for (line <- Source.fromFile(args(0)).getLines())\r\n",
        "        println(line.length.toString + \" \" + line)\r\n",
        "    }\r\n",
        "else\r\n",
        "    Console.err.println(\"Please enter filename\")"
      ],
      "outputs" : [
        {
          "execution_count" : 43,
          "data" : {
            "application/json" : [
              {
                "pos" : {
                  "sourceId" : "Cell44",
                  "start" : 30,
                  "end" : 30,
                  "point" : 30
                },
                "msg" : "not found: value args",
                "severity" : 2
              },
              {
                "pos" : {
                  "sourceId" : "Cell44",
                  "start" : 85,
                  "end" : 85,
                  "point" : 85
                },
                "msg" : "not found: value args",
                "severity" : 2
              }
            ],
            "text/plain" : [
              "Error: not found: value args (30)",
              "Error: not found: value args (85)"
            ]
          },
          "metadata" : {
            "rel" : "compiler_errors"
          },
          "output_type" : "execute_result"
        }
      ]
    },
    {
      "cell_type" : "markdown",
      "execution_count" : 44,
      "metadata" : {
        "language" : "text"
      },
      "language" : "text",
      "source" : [
        "chapter4.Classes and Objects<br>\n",
        "\n",
        "\n"
      ],
      "outputs" : [
      ]
    },
    {
      "cell_type" : "code",
      "execution_count" : 45,
      "metadata" : {
        "cell.metadata.exec_info" : {
          "startTs" : 1685950967306,
          "endTs" : 1685950967480
        },
        "language" : "scala"
      },
      "language" : "scala",
      "source" : [
        "class ChecksumAccumulator {\r\n",
        "    var sum = 0\r\n",
        "}\r\n",
        "new ChecksumAccumulator"
      ],
      "outputs" : [
        {
          "execution_count" : 45,
          "data" : {
            "text/plain" : [
              "$notebook.Cell46$2$ChecksumAccumulator@1970ce59"
            ]
          },
          "metadata" : {
            "name" : "Out",
            "type" : "ChecksumAccumulator"
          },
          "output_type" : "execute_result"
        }
      ]
    },
    {
      "cell_type" : "code",
      "execution_count" : 46,
      "metadata" : {
        "cell.metadata.exec_info" : {
          "startTs" : 1685950988555,
          "endTs" : 1685950988729
        },
        "language" : "scala"
      },
      "language" : "scala",
      "source" : [
        "val acc = new ChecksumAccumulator\r\n",
        "val csa = new ChecksumAccumulator\r\n",
        "acc.sum = 3"
      ],
      "outputs" : [
      ]
    },
    {
      "cell_type" : "code",
      "execution_count" : 47,
      "metadata" : {
        "cell.metadata.exec_info" : {
          "startTs" : 1685951004932,
          "endTs" : 1685951004958
        },
        "language" : "scala"
      },
      "language" : "scala",
      "source" : [
        "// Won't compile, because acc is a val\r\n",
        "acc = new ChecksumAccumulator"
      ],
      "outputs" : [
        {
          "execution_count" : 47,
          "data" : {
            "application/json" : [
              {
                "pos" : {
                  "sourceId" : "Cell48",
                  "start" : 44,
                  "end" : 44,
                  "point" : 44
                },
                "msg" : "reassignment to val",
                "severity" : 2
              }
            ],
            "text/plain" : [
              "Error: reassignment to val (44)"
            ]
          },
          "metadata" : {
            "rel" : "compiler_errors"
          },
          "output_type" : "execute_result"
        }
      ]
    },
    {
      "cell_type" : "code",
      "execution_count" : 48,
      "metadata" : {
        "cell.metadata.exec_info" : {
          "startTs" : 1685951025398,
          "endTs" : 1685951025429
        },
        "language" : "scala"
      },
      "language" : "scala",
      "source" : [
        "class ChecksumAccumulator {\r\n",
        "    private var sum = 0\r\n",
        "}\r\n",
        "val acc = new ChecksumAccumulator\r\n",
        "acc.sum = 5 // Won't compile, because sum is private"
      ],
      "outputs" : [
        {
          "execution_count" : 48,
          "data" : {
            "application/json" : [
              {
                "pos" : {
                  "sourceId" : "Cell49",
                  "start" : 96,
                  "end" : 96,
                  "point" : 96
                },
                "msg" : "variable sum in class ChecksumAccumulator cannot be accessed in Cell49$3.this.ChecksumAccumulator",
                "severity" : 2
              }
            ],
            "text/plain" : [
              "Error: variable sum in class ChecksumAccumulator cannot be accessed in Cell49$3.this.ChecksumAccumulator (96)"
            ]
          },
          "metadata" : {
            "rel" : "compiler_errors"
          },
          "output_type" : "execute_result"
        }
      ]
    },
    {
      "cell_type" : "code",
      "execution_count" : 49,
      "metadata" : {
        "cell.metadata.exec_info" : {
          "startTs" : 1685951153827,
          "endTs" : 1685951153862
        },
        "language" : "scala"
      },
      "language" : "scala",
      "source" : [
        "class ChecksumAccumulator {\r\n",
        "\r\n",
        "    private var sum = 0\r\n",
        "\r\n",
        "    //def add(b: Byte): Unit = {\r\n",
        "    //  sum += b\r\n",
        "    //}\r\n",
        "    val b=0\r\n",
        "    def add(b: Byte): Unit = {\r\n",
        "    b = 1     // This won't compile, because b is a val\r\n",
        "    sum += b\r\n",
        "    }\r\n",
        "\r\n",
        "    def checksum(): Int = {\r\n",
        "      return ~(sum & 0xFF) + 1\r\n",
        "    }\r\n",
        "}"
      ],
      "outputs" : [
        {
          "execution_count" : 49,
          "data" : {
            "application/json" : [
              {
                "pos" : {
                  "sourceId" : "Cell50",
                  "start" : 170,
                  "end" : 170,
                  "point" : 170
                },
                "msg" : "reassignment to val",
                "severity" : 2
              }
            ],
            "text/plain" : [
              "Error: reassignment to val (170)"
            ]
          },
          "metadata" : {
            "rel" : "compiler_errors"
          },
          "output_type" : "execute_result"
        }
      ]
    },
    {
      "cell_type" : "code",
      "execution_count" : 50,
      "metadata" : {
        "cell.metadata.exec_info" : {
          "startTs" : 1685951588745,
          "endTs" : 1685951588815
        },
        "language" : "scala"
      },
      "language" : "scala",
      "source" : [
        "class ChecksumAccumulator {\r\n",
        "    private var sum = 0\r\n",
        "    def add(b: Byte) = sum += b\r\n",
        "    def checksum() = ~(sum & 0xFF) + 1\r\n",
        "  }"
      ],
      "outputs" : [
      ]
    },
    {
      "cell_type" : "code",
      "execution_count" : 51,
      "metadata" : {
        "cell.metadata.exec_info" : {
          "startTs" : 1685951547086,
          "endTs" : 1685951547159
        },
        "language" : "scala"
      },
      "language" : "scala",
      "source" : [
        "class ChecksumAccumulator {\r\n",
        "    private var sum = 0\r\n",
        "    def add(b: Byte): Unit = { sum += b }\r\n",
        "    def checksum(): Int = ~(sum & 0xFF) + 1\r\n",
        "}\r\n"
      ],
      "outputs" : [
      ]
    },
    {
      "cell_type" : "markdown",
      "execution_count" : 52,
      "metadata" : {
        "language" : "text"
      },
      "language" : "text",
      "source" : [
        "**4.2 Semicolon inference**\n",
        "\n",
        "\n"
      ],
      "outputs" : [
      ]
    },
    {
      "cell_type" : "code",
      "execution_count" : 53,
      "metadata" : {
        "cell.metadata.exec_info" : {
          "startTs" : 1685951662536,
          "endTs" : 1685951662617
        },
        "language" : "scala"
      },
      "language" : "scala",
      "source" : [
        "val s = \"hello\"; println(s)"
      ],
      "outputs" : [
        {
          "name" : "stdout",
          "text" : [
            "hello\n"
          ],
          "output_type" : "stream"
        }
      ]
    },
    {
      "cell_type" : "code",
      "execution_count" : 54,
      "metadata" : {
        "cell.metadata.exec_info" : {
          "startTs" : 1685951715140,
          "endTs" : 1685951715214
        },
        "language" : "scala"
      },
      "language" : "scala",
      "source" : [
        "val x=3\r\n",
        "if (x < 2)\r\n",
        "    println(\"too small\")\r\n",
        "else\r\n",
        "    println(\"ok\")"
      ],
      "outputs" : [
        {
          "name" : "stdout",
          "text" : [
            "ok\n"
          ],
          "output_type" : "stream"
        }
      ]
    },
    {
      "cell_type" : "code",
      "execution_count" : 55,
      "metadata" : {
        "cell.metadata.exec_info" : {
          "startTs" : 1685951756929,
          "endTs" : 1685951757092
        },
        "language" : "scala"
      },
      "language" : "scala",
      "source" : [
        "import scala.collection.mutable\r\n",
        "\r\n",
        "object ChecksumAccumulator {\r\n",
        "\r\n",
        "private val cache = mutable.Map.empty[String, Int]\r\n",
        "\r\n",
        "def calculate(s: String): Int = \r\n",
        "    if (cache.contains(s))\r\n",
        "        cache(s)\r\n",
        "    else {\r\n",
        "        val acc = new ChecksumAccumulator\r\n",
        "        for (c <- s)\r\n",
        "            acc.add(c.toByte)\r\n",
        "        val cs = acc.checksum()\r\n",
        "        cache += (s -> cs)\r\n",
        "        cs\r\n",
        "    }\r\n",
        "}\r\n",
        "ChecksumAccumulator.calculate(\"Every value is an object.\")\r\n"
      ],
      "outputs" : [
        {
          "execution_count" : 55,
          "data" : {
            "text/plain" : [
              "-248"
            ]
          },
          "metadata" : {
            "name" : "Out",
            "type" : "Int"
          },
          "output_type" : "execute_result"
        }
      ]
    },
    {
      "cell_type" : "markdown",
      "execution_count" : 56,
      "metadata" : {
        "language" : "text"
      },
      "language" : "text",
      "source" : [
        "chapter5.Basic Types and Operations"
      ],
      "outputs" : [
      ]
    },
    {
      "cell_type" : "markdown",
      "execution_count" : 57,
      "metadata" : {
        "language" : "text"
      },
      "language" : "text",
      "source" : [
        "**5.2 Literals**\n",
        "\n",
        "\n"
      ],
      "outputs" : [
      ]
    },
    {
      "cell_type" : "code",
      "execution_count" : 58,
      "metadata" : {
        "cell.metadata.exec_info" : {
          "startTs" : 1685953545862,
          "endTs" : 1685953545952
        },
        "language" : "scala"
      },
      "language" : "scala",
      "source" : [
        " val hex = 0x5\r\n",
        " val hex2 = 0x00FF\r\n",
        " val magic = 0xcafebabe\r\n",
        " //Int"
      ],
      "outputs" : [
      ]
    },
    {
      "cell_type" : "code",
      "execution_count" : 59,
      "metadata" : {
        "cell.metadata.exec_info" : {
          "startTs" : 1685953685642,
          "endTs" : 1685953685728
        },
        "language" : "scala"
      },
      "language" : "scala",
      "source" : [
        "val dec1 = 31\r\n",
        "val dec2 = 255\r\n",
        "val dec3 = 20\r\n",
        "//Int"
      ],
      "outputs" : [
      ]
    },
    {
      "cell_type" : "code",
      "execution_count" : 60,
      "metadata" : {
        "cell.metadata.exec_info" : {
          "startTs" : 1685953704863,
          "endTs" : 1685953704953
        },
        "language" : "scala"
      },
      "language" : "scala",
      "source" : [
        "val prog = 0XCAFEBABEL\r\n",
        "val tower = 35L\r\n",
        "val of = 31l\r\n",
        "//Long"
      ],
      "outputs" : [
      ]
    },
    {
      "cell_type" : "code",
      "execution_count" : 61,
      "metadata" : {
        "cell.metadata.exec_info" : {
          "startTs" : 1685954937465,
          "endTs" : 1685954937564
        },
        "language" : "scala"
      },
      "language" : "scala",
      "source" : [
        "val little: Short = 367\r\n",
        "//Short\r\n",
        "val littler: Byte = 38\r\n",
        "//Byte"
      ],
      "outputs" : [
      ]
    },
    {
      "cell_type" : "code",
      "execution_count" : 62,
      "metadata" : {
        "cell.metadata.exec_info" : {
          "startTs" : 1685954935981,
          "endTs" : 1685954936081
        },
        "language" : "scala"
      },
      "language" : "scala",
      "source" : [
        "val big = 1.2345\r\n",
        "val bigger = 1.2345e1\r\n",
        "val biggerStill = 123E45\r\n",
        "//Double"
      ],
      "outputs" : [
      ]
    },
    {
      "cell_type" : "code",
      "execution_count" : 63,
      "metadata" : {
        "cell.metadata.exec_info" : {
          "startTs" : 1685954933785,
          "endTs" : 1685954933874
        },
        "language" : "scala"
      },
      "language" : "scala",
      "source" : [
        " val little = 1.2345F\r\n",
        " val littleBigger = 3e5f\r\n",
        " //Float "
      ],
      "outputs" : [
      ]
    },
    {
      "cell_type" : "code",
      "execution_count" : 64,
      "metadata" : {
        "cell.metadata.exec_info" : {
          "startTs" : 1685954962945,
          "endTs" : 1685954963035
        },
        "language" : "scala"
      },
      "language" : "scala",
      "source" : [
        "val anotherDouble = 3e5\r\n",
        "val yetAnother = 3e5D"
      ],
      "outputs" : [
      ]
    },
    {
      "cell_type" : "code",
      "execution_count" : 65,
      "metadata" : {
        "cell.metadata.exec_info" : {
          "startTs" : 1685954988385,
          "endTs" : 1685954988539
        },
        "language" : "scala"
      },
      "language" : "scala",
      "source" : [
        "val a = 'A'\r\n",
        "val d = '\\u0041'\r\n",
        "val f = '\\u0044'\r\n",
        "val backslash = '\\\\'\r\n",
        "//Char"
      ],
      "outputs" : [
      ]
    },
    {
      "cell_type" : "code",
      "execution_count" : 66,
      "metadata" : {
        "language" : "scala"
      },
      "language" : "scala",
      "source" : [
        "val B\\u0041\\u0044 = 1\r\n",
        "//Int"
      ],
      "outputs" : [
      ]
    },
    {
      "cell_type" : "code",
      "execution_count" : 67,
      "metadata" : {
        "cell.metadata.exec_info" : {
          "startTs" : 1685958920404,
          "endTs" : 1685958920532
        },
        "language" : "scala"
      },
      "language" : "scala",
      "source" : [
        "val hello = \"hello\"\r\n",
        "val escapes = \"\\\\\\\"\\'\"\r\n",
        "println(\"\"\"Welcome to Ultamix 3000.\r\n",
        "             Type \"HELP\" for help.\"\"\")"
      ],
      "outputs" : [
        {
          "name" : "stdout",
          "text" : [
            "Welcome to Ultamix 3000.\r\n",
            "             Type \"HELP\" for help.\n"
          ],
          "output_type" : "stream"
        }
      ]
    },
    {
      "cell_type" : "code",
      "execution_count" : 68,
      "metadata" : {
        "cell.metadata.exec_info" : {
          "startTs" : 1685959763635,
          "endTs" : 1685959763683
        },
        "language" : "scala"
      },
      "language" : "scala",
      "source" : [
        "def updateRecordByName(r: Symbol, value: Any) = {\r\n",
        "    println(\"\"\"Welcome to Ultamix 3000.\r\n",
        "             Type \"HELP\" for help.\"\"\")\r\n",
        "}\r\n",
        "updateRecordByName(favoriteAlbum, \"OK Computer\")"
      ],
      "outputs" : [
        {
          "execution_count" : 68,
          "data" : {
            "application/json" : [
              {
                "pos" : {
                  "sourceId" : "Cell69",
                  "start" : 154,
                  "end" : 154,
                  "point" : 154
                },
                "msg" : "not found: value favoriteAlbum",
                "severity" : 2
              }
            ],
            "text/plain" : [
              "Error: not found: value favoriteAlbum (154)"
            ]
          },
          "metadata" : {
            "rel" : "compiler_errors"
          },
          "output_type" : "execute_result"
        }
      ]
    },
    {
      "cell_type" : "code",
      "execution_count" : 69,
      "metadata" : {
        "cell.metadata.exec_info" : {
          "startTs" : 1685972310485,
          "endTs" : 1685972310671
        },
        "language" : "scala"
      },
      "language" : "scala",
      "source" : [
        "updateRecordByName('favoriteAlbum, \"OK Computer\")\r\n",
        "// Symbol\r\n",
        "val s = 'aSymbol\r\n",
        "val nm = s.name"
      ],
      "outputs" : [
        {
          "name" : "stdout",
          "text" : [
            "Welcome to Ultamix 3000.\r\n",
            "             Type \"HELP\" for help.\n"
          ],
          "output_type" : "stream"
        }
      ]
    },
    {
      "cell_type" : "code",
      "execution_count" : 70,
      "metadata" : {
        "cell.metadata.exec_info" : {
          "startTs" : 1685972328366,
          "endTs" : 1685972328461
        },
        "language" : "scala"
      },
      "language" : "scala",
      "source" : [
        "val bool = true \r\n",
        "val fool = false"
      ],
      "outputs" : [
      ]
    },
    {
      "cell_type" : "markdown",
      "execution_count" : 71,
      "metadata" : {
        "language" : "text"
      },
      "language" : "text",
      "source" : [
        "### 5.3 String interpolation\n",
        "\n"
      ],
      "outputs" : [
      ]
    },
    {
      "cell_type" : "code",
      "execution_count" : 72,
      "metadata" : {
        "cell.metadata.exec_info" : {
          "startTs" : 1685972357373,
          "endTs" : 1685972357491
        },
        "language" : "scala"
      },
      "language" : "scala",
      "source" : [
        "val name = \"reader\"\r\n",
        "println(s\"Hello, $name!\")"
      ],
      "outputs" : [
        {
          "name" : "stdout",
          "text" : [
            "Hello, reader!\n"
          ],
          "output_type" : "stream"
        }
      ]
    },
    {
      "cell_type" : "code",
      "execution_count" : 73,
      "metadata" : {
        "cell.metadata.exec_info" : {
          "startTs" : 1685972367502,
          "endTs" : 1685972367620
        },
        "language" : "scala"
      },
      "language" : "scala",
      "source" : [
        "s\"The answer is ${6 * 7}.\""
      ],
      "outputs" : [
        {
          "execution_count" : 73,
          "data" : {
            "text/plain" : [
              "The answer is 42."
            ]
          },
          "metadata" : {
            "name" : "Out",
            "type" : "String"
          },
          "output_type" : "execute_result"
        }
      ]
    },
    {
      "cell_type" : "code",
      "execution_count" : 74,
      "metadata" : {
        "cell.metadata.exec_info" : {
          "startTs" : 1685972380133,
          "endTs" : 1685972380241
        },
        "language" : "scala"
      },
      "language" : "scala",
      "source" : [
        "println(raw\"No\\\\\\\\escape!\") // prints: No\\z\\z\\z{\\z}escape!"
      ],
      "outputs" : [
        {
          "name" : "stdout",
          "text" : [
            "No\\\\\\\\escape!\n"
          ],
          "output_type" : "stream"
        }
      ]
    },
    {
      "cell_type" : "code",
      "execution_count" : 75,
      "metadata" : {
        "cell.metadata.exec_info" : {
          "startTs" : 1686010149716,
          "endTs" : 1686010149937
        },
        "language" : "scala"
      },
      "language" : "scala",
      "source" : [
        "f\"${math.Pi}%.5f\"\r\n",
        "val pi = \"Pi\"\r\n"
      ],
      "outputs" : [
      ]
    },
    {
      "cell_type" : "code",
      "execution_count" : 76,
      "metadata" : {
        "cell.metadata.exec_info" : {
          "startTs" : 1685972612923,
          "endTs" : 1685972613034
        },
        "language" : "scala"
      },
      "language" : "scala",
      "source" : [
        "f\"pi is approximately {math.Pi}.8f.\""
      ],
      "outputs" : [
        {
          "execution_count" : 76,
          "data" : {
            "text/plain" : [
              "pi is approximately {math.Pi}.8f."
            ]
          },
          "metadata" : {
            "name" : "Out",
            "type" : "String"
          },
          "output_type" : "execute_result"
        }
      ]
    },
    {
      "cell_type" : "markdown",
      "execution_count" : 77,
      "metadata" : {
        "language" : "text"
      },
      "language" : "text",
      "source" : [
        "### 5.4 Operators are methods\n",
        "\n"
      ],
      "outputs" : [
      ]
    },
    {
      "cell_type" : "code",
      "execution_count" : 78,
      "metadata" : {
        "cell.metadata.exec_info" : {
          "startTs" : 1685973714340,
          "endTs" : 1685973714483
        },
        "language" : "scala"
      },
      "language" : "scala",
      "source" : [
        "val sum = 1 + 2    // Scala invokes 1.+(2)\r\n",
        "val sumMore = 1.+(2) \r\n",
        "val longSum = 1 + 2L    // Scala invokes 1.+(2L)\r\n",
        "val s = \"Hello, world!\" \r\n",
        "s indexOf 'o'     // Scala invokes s.indexOf('o')\r\n",
        "s indexOf ('o', 5) // Scala invokes s.indexOf('o', 5)\r\n",
        "-2.0                  // Scala invokes (2.0).unary_-\r\n",
        "(2.0).unary_-\r\n"
      ],
      "outputs" : [
        {
          "execution_count" : 78,
          "data" : {
            "text/plain" : [
              "-2.0"
            ]
          },
          "metadata" : {
            "name" : "Out",
            "type" : "Double"
          },
          "output_type" : "execute_result"
        }
      ]
    },
    {
      "cell_type" : "code",
      "execution_count" : 79,
      "metadata" : {
        "cell.metadata.exec_info" : {
          "startTs" : 1685973717982,
          "endTs" : 1685973718092
        },
        "language" : "scala"
      },
      "language" : "scala",
      "source" : [
        "val s = \"Hello, world!\"\r\n",
        "s.toLowerCase \r\n",
        "s toLowerCase "
      ],
      "outputs" : [
        {
          "execution_count" : 79,
          "data" : {
            "text/plain" : [
              "hello, world!"
            ]
          },
          "metadata" : {
            "name" : "Out",
            "type" : "String"
          },
          "output_type" : "execute_result"
        }
      ]
    },
    {
      "cell_type" : "markdown",
      "execution_count" : 80,
      "metadata" : {
        "language" : "text"
      },
      "language" : "text",
      "source" : [
        "### 5.5 Arithmetic operations\n",
        "\n",
        "\n"
      ],
      "outputs" : [
      ]
    },
    {
      "cell_type" : "code",
      "execution_count" : 81,
      "metadata" : {
        "cell.metadata.exec_info" : {
          "startTs" : 1685973913413,
          "endTs" : 1685973913555
        },
        "language" : "scala"
      },
      "language" : "scala",
      "source" : [
        "1.2 + 2.3\r\n",
        "3-1\r\n",
        "'b' - 'a'\r\n",
        "2L * 3L \r\n",
        "11 / 4  \r\n",
        "11 % 4 \r\n",
        "11.0f / 4.0f\r\n",
        "11.0 % 4.0  \r\n",
        "math.IEEEremainder(11.0, 4.0)\r\n",
        "val neg = 1 + -3\r\n",
        "val y = +3\r\n",
        "-neg"
      ],
      "outputs" : [
        {
          "execution_count" : 81,
          "data" : {
            "text/plain" : [
              "2"
            ]
          },
          "metadata" : {
            "name" : "Out",
            "type" : "Int"
          },
          "output_type" : "execute_result"
        }
      ]
    },
    {
      "cell_type" : "markdown",
      "execution_count" : 82,
      "metadata" : {
        "language" : "text"
      },
      "language" : "text",
      "source" : [
        "### 5.6 Relational and logical operations\n",
        "\n"
      ],
      "outputs" : [
      ]
    },
    {
      "cell_type" : "code",
      "execution_count" : 83,
      "metadata" : {
        "cell.metadata.exec_info" : {
          "startTs" : 1685974116645,
          "endTs" : 1685974116780
        },
        "language" : "scala"
      },
      "language" : "scala",
      "source" : [
        "1 > 2 \r\n",
        "1 < 2 \r\n",
        "1.0 <= 1.0  \r\n",
        "3.5f >= 3.6f  \r\n",
        "'a' >= 'A' \r\n",
        "val untrue = !true \r\n",
        "val toBe = true\r\n",
        "val question = toBe || !toBe\r\n",
        "val paradox = toBe && !toBe"
      ],
      "outputs" : [
      ]
    },
    {
      "cell_type" : "code",
      "execution_count" : 84,
      "metadata" : {
        "cell.metadata.exec_info" : {
          "startTs" : 1685974170496,
          "endTs" : 1685974170612
        },
        "language" : "scala"
      },
      "language" : "scala",
      "source" : [
        "def salt() = { println(\"salt\"); false }\r\n",
        "def pepper() = { println(\"pepper\"); true }\r\n",
        "pepper() && salt() \r\n",
        "salt() && pepper() //skip pepper()\r\n",
        "salt() & pepper() "
      ],
      "outputs" : [
        {
          "name" : "stdout",
          "text" : [
            "pepper\n",
            "salt\n",
            "salt\n",
            "salt\n",
            "pepper\n"
          ],
          "output_type" : "stream"
        },
        {
          "execution_count" : 84,
          "data" : {
            "text/plain" : [
              "false"
            ]
          },
          "metadata" : {
            "name" : "Out",
            "type" : "Boolean"
          },
          "output_type" : "execute_result"
        }
      ]
    },
    {
      "cell_type" : "markdown",
      "execution_count" : 85,
      "metadata" : {
        "language" : "text"
      },
      "language" : "text",
      "source" : [
        "### 5.7 Bitwise operations\n",
        "\n",
        "\n"
      ],
      "outputs" : [
      ]
    },
    {
      "cell_type" : "code",
      "execution_count" : 86,
      "metadata" : {
        "cell.metadata.exec_info" : {
          "startTs" : 1685974290206,
          "endTs" : 1685974290324
        },
        "language" : "scala"
      },
      "language" : "scala",
      "source" : [
        "1 & 2\r\n",
        "1 | 2  \r\n",
        "1 ^ 3 \r\n",
        "~1 "
      ],
      "outputs" : [
        {
          "execution_count" : 86,
          "data" : {
            "text/plain" : [
              "-2"
            ]
          },
          "metadata" : {
            "name" : "Out",
            "type" : "Int"
          },
          "output_type" : "execute_result"
        }
      ]
    },
    {
      "cell_type" : "markdown",
      "execution_count" : 87,
      "metadata" : {
        "language" : "text"
      },
      "language" : "text",
      "source" : [
        "### 5.8 Object equality\n",
        "\n"
      ],
      "outputs" : [
      ]
    },
    {
      "cell_type" : "code",
      "execution_count" : 88,
      "metadata" : {
        "cell.metadata.exec_info" : {
          "startTs" : 1685974620215,
          "endTs" : 1685974620386
        },
        "language" : "scala"
      },
      "language" : "scala",
      "source" : [
        "1 == 2 \r\n",
        "1 != 2 \r\n",
        "2 == 2 \r\n",
        "List(1, 2, 3) == List(1, 2, 3)\r\n",
        "List(1, 2, 3) == List(4, 5, 6)\r\n",
        "1 == 1.0\r\n",
        "List(1, 2, 3) == \"hello\"\r\n",
        "List(1, 2, 3) == null\r\n",
        "null == List(1, 2, 3)\r\n",
        "(\"he\" + \"llo\") == \"hello\""
      ],
      "outputs" : [
        {
          "execution_count" : 88,
          "data" : {
            "text/plain" : [
              "true"
            ]
          },
          "metadata" : {
            "name" : "Out",
            "type" : "Boolean"
          },
          "output_type" : "execute_result"
        }
      ]
    },
    {
      "cell_type" : "markdown",
      "execution_count" : 89,
      "metadata" : {
        "language" : "text"
      },
      "language" : "text",
      "source" : [
        "### 5.9 Operator precedence and associativity\n",
        "\n"
      ],
      "outputs" : [
      ]
    },
    {
      "cell_type" : "code",
      "execution_count" : 90,
      "metadata" : {
        "cell.metadata.exec_info" : {
          "startTs" : 1686008605700,
          "endTs" : 1686008605880
        },
        "language" : "scala"
      },
      "language" : "scala",
      "source" : [
        "var x=0\r\n",
        "var y=0\r\n",
        "2 << 2 + 2\r\n",
        "2 + 2 << 2\r\n",
        "x *= y + 1\r\n",
        "x *= (y + 1)\r\n",
        "{ val x = a; b.:::(x) }"
      ],
      "outputs" : [
        {
          "execution_count" : 90,
          "data" : {
            "application/json" : [
              {
                "pos" : {
                  "sourceId" : "Cell90",
                  "start" : 56,
                  "end" : 56,
                  "point" : 56
                },
                "msg" : "value *= is not a member of Int\n  Expression does not convert to assignment because:\n    Int does not take parameters\n    expansion: Cell90$5.this.x = Cell90$5.this.x.*(y.$plus(1)({\n  val x = a;\n  b.$colon$colon$colon(x)\n}))",
                "severity" : 2
              },
              {
                "pos" : {
                  "sourceId" : "Cell90",
                  "start" : 68,
                  "end" : 68,
                  "point" : 68
                },
                "msg" : "Int does not take parameters",
                "severity" : 2
              }
            ],
            "text/plain" : [
              "Error: value *= is not a member of Int\n  Expression does not convert to assignment because:\n    Int does not take parameters\n    expansion: Cell90$5.this.x = Cell90$5.this.x.*(y.$plus(1)({\n  val x = a;\n  b.$colon$colon$colon(x)\n})) (56)",
              "Error: Int does not take parameters (68)"
            ]
          },
          "metadata" : {
            "rel" : "compiler_errors"
          },
          "output_type" : "execute_result"
        }
      ]
    },
    {
      "cell_type" : "markdown",
      "execution_count" : 91,
      "metadata" : {
        "language" : "text"
      },
      "language" : "text",
      "source" : [
        "## Chapter6.Functional Objects\n",
        "\n"
      ],
      "outputs" : [
      ]
    },
    {
      "cell_type" : "markdown",
      "execution_count" : 95,
      "metadata" : {
        "language" : "text"
      },
      "language" : "text",
      "source" : [
        "**Constructing a Rational**\n",
        "\n",
        "\n"
      ],
      "outputs" : [
      ]
    },
    {
      "cell_type" : "code",
      "execution_count" : 93,
      "metadata" : {
        "cell.metadata.exec_info" : {
          "startTs" : 1686009435046,
          "endTs" : 1686009435456
        },
        "language" : "scala"
      },
      "language" : "scala",
      "source" : [
        " class Rational(n: Int, d: Int) {\r\n",
        "    println(\"Created \" + n + \"/\" + d)\r\n",
        "  }\r\n",
        "  new Rational(2,3)"
      ],
      "outputs" : [
        {
          "name" : "stdout",
          "text" : [
            "Created 2/3",
            "\n"
          ],
          "output_type" : "stream"
        },
        {
          "execution_count" : 93,
          "data" : {
            "text/plain" : [
              "$notebook.Cell93$7$Rational@574d07b4"
            ]
          },
          "metadata" : {
            "name" : "Out",
            "type" : "Rational"
          },
          "output_type" : "execute_result"
        }
      ]
    },
    {
      "cell_type" : "markdown",
      "execution_count" : 94,
      "metadata" : {
        "language" : "text"
      },
      "language" : "text",
      "source" : [
        "**Reimplementing the toString method**\n",
        "\n",
        "\n"
      ],
      "outputs" : [
      ]
    },
    {
      "cell_type" : "code",
      "execution_count" : 96,
      "metadata" : {
        "cell.metadata.exec_info" : {
          "startTs" : 1686010492247,
          "endTs" : 1686010492374
        },
        "language" : "scala"
      },
      "language" : "scala",
      "source" : [
        "class Rational(n: Int, d: Int) {\r\n",
        "    override def toString = s\"$n/$d\"  // Reimplementing the toString method\r\n",
        "}\r\n",
        "new Rational(2,3)"
      ],
      "outputs" : [
        {
          "execution_count" : 96,
          "data" : {
            "text/plain" : [
              "2/3"
            ]
          },
          "metadata" : {
            "name" : "Out",
            "type" : "Rational"
          },
          "output_type" : "execute_result"
        }
      ]
    },
    {
      "cell_type" : "markdown",
      "execution_count" : 97,
      "metadata" : {
        "language" : "text"
      },
      "language" : "text",
      "source" : [
      ],
      "outputs" : [
      ]
    },
    {
      "cell_type" : "code",
      "execution_count" : 92,
      "metadata" : {
        "cell.metadata.exec_info" : {
          "startTs" : 1686010189795,
          "endTs" : 1686010190376
        },
        "language" : "scala"
      },
      "language" : "scala",
      "source" : [
        "class Rational(n: Int, d: Int) {\r\n",
        "\r\n",
        "    require(d != 0)\r\n",
        "\r\n",
        "    val numer: Int = n\r\n",
        "    val denom: Int = d\r\n",
        "\r\n",
        "    def this(n: Int) = this(n, 1) // auxiliary constructor\r\n",
        "\r\n",
        "    override def toString = s\"numer/denom\"\r\n",
        "\r\n",
        "    def add(that: Rational): Rational =\r\n",
        "      new Rational(\r\n",
        "        numer * that.denom + that.numer * denom,\r\n",
        "        denom * that.denom\r\n",
        "      )\r\n",
        "  }\r\n",
        "new Rational(2,3)"
      ],
      "outputs" : [
        {
          "execution_count" : 92,
          "data" : {
            "text/plain" : [
              "numer/denom"
            ]
          },
          "metadata" : {
            "name" : "Out",
            "type" : "Rational"
          },
          "output_type" : "execute_result"
        }
      ]
    },
    {
      "cell_type" : "markdown",
      "execution_count" : 98,
      "metadata" : {
        "language" : "text"
      },
      "language" : "text",
      "source" : [
        "### Checking preconditions\n",
        "\n"
      ],
      "outputs" : [
      ]
    },
    {
      "cell_type" : "code",
      "execution_count" : 99,
      "metadata" : {
        "cell.metadata.exec_info" : {
          "startTs" : 1686017976434,
          "endTs" : 1686017976521
        },
        "language" : "scala"
      },
      "language" : "scala",
      "source" : [
        "class Rational(n: Int, d: Int) {\r\n",
        "    require(d != 0) //Checking preconditions\r\n",
        "    override def toString = s\"n/d\"\r\n",
        "}\r\n",
        "new Rational(5, 0)"
      ],
      "outputs" : [
        {
          "ename" : "java.lang.IllegalArgumentException",
          "evalue" : "requirement failed",
          "traceback" : [
          ],
          "output_type" : "error"
        }
      ]
    },
    {
      "cell_type" : "markdown",
      "execution_count" : 100,
      "metadata" : {
        "language" : "text"
      },
      "language" : "text",
      "source" : [
        "### Adding fields\n",
        "\n"
      ],
      "outputs" : [
      ]
    },
    {
      "cell_type" : "code",
      "execution_count" : 101,
      "metadata" : {
        "cell.metadata.exec_info" : {
          "startTs" : 1686020753784,
          "endTs" : 1686020753803
        },
        "language" : "scala"
      },
      "language" : "scala",
      "source" : [
        "class Rational(n: Int, d: Int) { // This won't compile\r\n",
        "    require(d != 0)\r\n",
        "    override def toString = s\"n/d\"\r\n",
        "    def add(that: Rational): Rational =\r\n",
        "      new Rational(n * that.d + that.n * d, d * that.d)\r\n",
        "}\r\n",
        "// value d is not a member of Rational err"
      ],
      "outputs" : [
        {
          "execution_count" : 101,
          "data" : {
            "application/json" : [
              {
                "pos" : {
                  "sourceId" : "Cell101",
                  "start" : 182,
                  "end" : 182,
                  "point" : 182
                },
                "msg" : "value d is not a member of Cell101$1.this.Rational",
                "severity" : 2
              },
              {
                "pos" : {
                  "sourceId" : "Cell101",
                  "start" : 191,
                  "end" : 191,
                  "point" : 191
                },
                "msg" : "value n is not a member of Cell101$1.this.Rational",
                "severity" : 2
              },
              {
                "pos" : {
                  "sourceId" : "Cell101",
                  "start" : 207,
                  "end" : 207,
                  "point" : 207
                },
                "msg" : "value d is not a member of Cell101$1.this.Rational",
                "severity" : 2
              }
            ],
            "text/plain" : [
              "Error: value d is not a member of Cell101$1.this.Rational (182)",
              "Error: value n is not a member of Cell101$1.this.Rational (191)",
              "Error: value d is not a member of Cell101$1.this.Rational (207)"
            ]
          },
          "metadata" : {
            "rel" : "compiler_errors"
          },
          "output_type" : "execute_result"
        }
      ]
    },
    {
      "cell_type" : "code",
      "execution_count" : 102,
      "metadata" : {
        "cell.metadata.exec_info" : {
          "startTs" : 1686020875334,
          "endTs" : 1686020875647
        },
        "language" : "scala"
      },
      "language" : "scala",
      "source" : [
        "class Rational(n: Int, d: Int) {\r\n",
        "    require(d != 0)\r\n",
        "    val numer: Int = n //Adding fields\r\n",
        "    val denom: Int = d\r\n",
        "    override def toString = s\"numer/denom\"\r\n",
        "    def add(that: Rational): Rational =\r\n",
        "      new Rational(\r\n",
        "        numer * that.denom + that.numer * denom,\r\n",
        "        denom * that.denom\r\n",
        "      )\r\n",
        "}\r\n",
        "val oneHalf = new Rational(1, 2)\r\n",
        "val twoThirds = new Rational(2, 3)\r\n",
        "oneHalf add twoThirds\r\n",
        "val r = new Rational(1, 2)\r\n",
        "r.numer\r\n",
        "r.denom"
      ],
      "outputs" : [
        {
          "execution_count" : 102,
          "data" : {
            "text/plain" : [
              "2"
            ]
          },
          "metadata" : {
            "name" : "Out",
            "type" : "Int"
          },
          "output_type" : "execute_result"
        }
      ]
    },
    {
      "cell_type" : "markdown",
      "execution_count" : 105,
      "metadata" : {
        "language" : "text"
      },
      "language" : "text",
      "source" : [
        "### Self references\n",
        "\n"
      ],
      "outputs" : [
      ]
    },
    {
      "cell_type" : "code",
      "execution_count" : 104,
      "metadata" : {
        "cell.metadata.exec_info" : {
          "startTs" : 1686021236675,
          "endTs" : 1686021236909
        },
        "language" : "scala"
      },
      "language" : "scala",
      "source" : [
        "class Rational(n: Int, d: Int) {\r\n",
        "    require(d != 0)\r\n",
        "    val numer: Int = n\r\n",
        "    val denom: Int = d\r\n",
        "    override def toString = s\"numer/denom\"\r\n",
        "    def add(that: Rational): Rational =\r\n",
        "      new Rational(\r\n",
        "        numer * that.denom + that.numer * denom,\r\n",
        "        denom * that.denom\r\n",
        "      )\r\n",
        "    def lessThan(that: Rational) = \r\n",
        "        this.numer * that.denom < that.numer * this.denom //this.\r\n",
        "    def max(that: Rational) = \r\n",
        "        if (this.lessThan(that)) that else this\r\n",
        "}\r\n",
        "val oneHalf = new Rational(1, 2)\r\n",
        "val twoThirds = new Rational(2, 3)\r\n",
        "oneHalf.lessThan(twoThirds)\r\n"
      ],
      "outputs" : [
        {
          "execution_count" : 104,
          "data" : {
            "text/plain" : [
              "true"
            ]
          },
          "metadata" : {
            "name" : "Out",
            "type" : "Boolean"
          },
          "output_type" : "execute_result"
        }
      ]
    },
    {
      "cell_type" : "markdown",
      "execution_count" : 103,
      "metadata" : {
        "language" : "text"
      },
      "language" : "text",
      "source" : [
        "### Auxiliary constructors\n",
        "\n"
      ],
      "outputs" : [
      ]
    },
    {
      "cell_type" : "code",
      "execution_count" : 106,
      "metadata" : {
        "cell.metadata.exec_info" : {
          "startTs" : 1686025676924,
          "endTs" : 1686025677098
        },
        "language" : "scala"
      },
      "language" : "scala",
      "source" : [
        "class Rational(n: Int, d: Int) {\r\n",
        "\r\n",
        "    require(d != 0)\r\n",
        "\r\n",
        "    val numer: Int = n\r\n",
        "    val denom: Int = d\r\n",
        "\r\n",
        "    def this(n: Int) = this(n, 1) // auxiliary constructor\r\n",
        "\r\n",
        "    override def toString = s\"$numer/$denom\"\r\n",
        "\r\n",
        "    def add(that: Rational): Rational =\r\n",
        "      new Rational(\r\n",
        "        numer * that.denom + that.numer * denom,\r\n",
        "        denom * that.denom\r\n",
        "      )\r\n",
        "  }\r\n",
        "\r\n",
        "  val y = new Rational(3)\r\n",
        "  println(y)"
      ],
      "outputs" : [
        {
          "name" : "stdout",
          "text" : [
            "3/1",
            "\n"
          ],
          "output_type" : "stream"
        }
      ]
    },
    {
      "cell_type" : "markdown",
      "execution_count" : 107,
      "metadata" : {
        "language" : "text"
      },
      "language" : "text",
      "source" : [
        "### Private fields and methods\n",
        "\n"
      ],
      "outputs" : [
      ]
    },
    {
      "cell_type" : "code",
      "execution_count" : 108,
      "metadata" : {
        "cell.metadata.exec_info" : {
          "startTs" : 1686025740435,
          "endTs" : 1686025740644
        },
        "language" : "scala"
      },
      "language" : "scala",
      "source" : [
        "class Rational(n: Int, d: Int) {\r\n",
        "\r\n",
        "    require(d != 0)\r\n",
        "\r\n",
        "    private val g = gcd(n.abs, d.abs) //private field\r\n",
        "    val numer = n / g\r\n",
        "    val denom = d / g\r\n",
        "\r\n",
        "    def this(n: Int) = this(n, 1)\r\n",
        "\r\n",
        "    def add(that: Rational): Rational =\r\n",
        "      new Rational(\r\n",
        "        numer * that.denom + that.numer * denom,\r\n",
        "        denom * that.denom\r\n",
        "      )\r\n",
        "\r\n",
        "    override def toString = s\"numer/denom\"\r\n",
        "\r\n",
        "    private def gcd(a: Int, b: Int): Int = \r\n",
        "      if (b == 0) a else gcd(b, a % b) //private method\r\n",
        "  }\r\n",
        "\r\n",
        "new Rational(66, 42)"
      ],
      "outputs" : [
        {
          "execution_count" : 108,
          "data" : {
            "text/plain" : [
              "numer/denom"
            ]
          },
          "metadata" : {
            "name" : "Out",
            "type" : "Rational"
          },
          "output_type" : "execute_result"
        }
      ]
    },
    {
      "cell_type" : "markdown",
      "execution_count" : 109,
      "metadata" : {
        "language" : "text"
      },
      "language" : "text",
      "source" : [
        "### Defining operators\n",
        "\n"
      ],
      "outputs" : [
      ]
    },
    {
      "cell_type" : "code",
      "execution_count" : 119,
      "metadata" : {
        "cell.metadata.exec_info" : {
          "startTs" : 1686026284893,
          "endTs" : 1686026285128
        },
        "language" : "scala"
      },
      "language" : "scala",
      "source" : [
        "class Rational(n: Int, d: Int) {\r\n",
        "\r\n",
        "    require(d != 0)\r\n",
        "\r\n",
        "    private val g = gcd(n.abs, d.abs)\r\n",
        "    val numer = n / g\r\n",
        "    val denom = d / g\r\n",
        "\r\n",
        "    def this(n: Int) = this(n, 1)\r\n",
        "\r\n",
        "    // define operation +\r\n",
        "    def + (that: Rational): Rational =\r\n",
        "      new Rational(\r\n",
        "        numer * that.denom + that.numer * denom,\r\n",
        "        denom * that.denom\r\n",
        "      )\r\n",
        "\r\n",
        "    def * (that: Rational): Rational =\r\n",
        "      new Rational(numer * that.numer, denom * that.denom)\r\n",
        "\r\n",
        "    override def toString = s\"numer/denom\"\r\n",
        "\r\n",
        "    private def gcd(a: Int, b: Int): Int = \r\n",
        "      if (b == 0) a else gcd(b, a % b)\r\n",
        "}\r\n",
        "val x = new Rational(1, 2)\r\n",
        "val y = new Rational(2, 3)\r\n",
        "x+y\r\n",
        "x + x * y"
      ],
      "outputs" : [
        {
          "execution_count" : 119,
          "data" : {
            "text/plain" : [
              "numer/denom"
            ]
          },
          "metadata" : {
            "name" : "Out",
            "type" : "Rational"
          },
          "output_type" : "execute_result"
        }
      ]
    },
    {
      "cell_type" : "markdown",
      "execution_count" : 118,
      "metadata" : {
        "language" : "text"
      },
      "language" : "text",
      "source" : [
        "### Method overloading\n",
        "\n"
      ],
      "outputs" : [
      ]
    },
    {
      "cell_type" : "code",
      "execution_count" : 117,
      "metadata" : {
        "cell.metadata.exec_info" : {
          "startTs" : 1686026683384,
          "endTs" : 1686026683575
        },
        "language" : "scala"
      },
      "language" : "scala",
      "source" : [
        "class Rational(n: Int, d: Int) {\r\n",
        "\r\n",
        "    require(d != 0)\r\n",
        "\r\n",
        "    private val g = gcd(n.abs, d.abs)\r\n",
        "    val numer = n / g\r\n",
        "    val denom = d / g\r\n",
        "\r\n",
        "    def this(n: Int) = this(n, 1)\r\n",
        "\r\n",
        "    def + (that: Rational): Rational =\r\n",
        "      new Rational(\r\n",
        "        numer * that.denom + that.numer * denom,\r\n",
        "        denom * that.denom\r\n",
        "      )\r\n",
        "    // overloading\r\n",
        "    def + (i: Int): Rational =\r\n",
        "      new Rational(numer + i * denom, denom)\r\n",
        "\r\n",
        "    def - (that: Rational): Rational =\r\n",
        "      new Rational(\r\n",
        "        numer * that.denom - that.numer * denom,\r\n",
        "        denom * that.denom\r\n",
        "      )\r\n",
        "    // overloading\r\n",
        "    def - (i: Int): Rational =\r\n",
        "      new Rational(numer - i * denom, denom)\r\n",
        "\r\n",
        "    def * (that: Rational): Rational =\r\n",
        "      new Rational(numer * that.numer, denom * that.denom)\r\n",
        "    // overloading\r\n",
        "    def * (i: Int): Rational =\r\n",
        "      new Rational(numer * i, denom)\r\n",
        "\r\n",
        "    def / (that: Rational): Rational =\r\n",
        "      new Rational(numer * that.denom, denom * that.numer)\r\n",
        "    // overloading\r\n",
        "    def / (i: Int): Rational =\r\n",
        "      new Rational(numer, denom * i)\r\n",
        "\r\n",
        "    override def toString = s\"$numer/$denom\"\r\n",
        "\r\n",
        "    private def gcd(a: Int, b: Int): Int = \r\n",
        "      if (b == 0) a else gcd(b, a % b)\r\n",
        "  }\r\n",
        "  val x = new Rational(2, 3)\r\n",
        "x * x\r\n",
        "x * 2\r\n",
        "println(x * 2)"
      ],
      "outputs" : [
        {
          "name" : "stdout",
          "text" : [
            "4/3",
            "\n"
          ],
          "output_type" : "stream"
        }
      ]
    },
    {
      "cell_type" : "markdown",
      "execution_count" : 116,
      "metadata" : {
        "language" : "text"
      },
      "language" : "text",
      "source" : [
        "### Implicit conversions\n",
        "\n"
      ],
      "outputs" : [
      ]
    },
    {
      "cell_type" : "code",
      "execution_count" : 115,
      "metadata" : {
        "cell.metadata.exec_info" : {
          "startTs" : 1686026725689,
          "endTs" : 1686026725743
        },
        "language" : "scala"
      },
      "language" : "scala",
      "source" : [
        "2 * r\r\n",
        "implicit def intToRational(x: Int) = new Rational(x)\r\n",
        "val r = new Rational(2,3)\r\n",
        "2 * r"
      ],
      "outputs" : [
        {
          "ename" : "java.lang.NullPointerException",
          "evalue" : "",
          "traceback" : [
          ],
          "output_type" : "error"
        }
      ]
    },
    {
      "cell_type" : "markdown",
      "execution_count" : 114,
      "metadata" : {
        "language" : "text"
      },
      "language" : "text",
      "source" : [
        "# chapter7.ipynb\n",
        "\n"
      ],
      "outputs" : [
      ]
    },
    {
      "cell_type" : "code",
      "execution_count" : 113,
      "metadata" : {
        "language" : "scala"
      },
      "language" : "scala",
      "source" : [
      ],
      "outputs" : [
      ]
    },
    {
      "cell_type" : "code",
      "execution_count" : 112,
      "metadata" : {
        "language" : "scala"
      },
      "language" : "scala",
      "source" : [
      ],
      "outputs" : [
      ]
    },
    {
      "cell_type" : "code",
      "execution_count" : 110,
      "metadata" : {
        "language" : "scala"
      },
      "language" : "scala",
      "source" : [
      ],
      "outputs" : [
      ]
    },
    {
      "cell_type" : "code",
      "execution_count" : 111,
      "metadata" : {
        "language" : "scala"
      },
      "language" : "scala",
      "source" : [
      ],
      "outputs" : [
      ]
    }
  ]
}