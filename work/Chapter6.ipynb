{
  "metadata" : {
    "config" : {
      "dependencies" : {
        
      },
      "exclusions" : [
      ],
      "repositories" : [
      ],
      "sparkConfig" : {
        
      }
    }
  },
  "nbformat" : 4,
  "nbformat_minor" : 0,
  "cells" : [
    {
      "cell_type" : "markdown",
      "execution_count" : 0,
      "metadata" : {
        "language" : "text"
      },
      "language" : "text",
      "source" : [
        "## Chapter6.Functional Objects\n",
        "\n"
      ],
      "outputs" : [
      ]
    },
    {
      "cell_type" : "markdown",
      "execution_count" : 1,
      "metadata" : {
        "language" : "text"
      },
      "language" : "text",
      "source" : [
        "**Constructing a Rational**\n",
        "\n",
        "\n"
      ],
      "outputs" : [
      ]
    },
    {
      "cell_type" : "code",
      "execution_count" : 2,
      "metadata" : {
        "language" : "scala"
      },
      "language" : "scala",
      "source" : [
        " class Rational(n: Int, d: Int) {\n",
        "    println(\"Created \" + n + \"/\" + d)\n",
        "  }\n",
        "  new Rational(2,3)"
      ],
      "outputs" : [
        {
          "name" : "stdout",
          "text" : [
            "Created 2/3\n",
            "\n"
          ],
          "output_type" : "stream"
        },
        {
          "data" : {
            "text/plain" : [
              "$notebook.Cell93$7$Rational@574d07b4"
            ]
          },
          "output_type" : "display_data"
        }
      ]
    },
    {
      "cell_type" : "markdown",
      "execution_count" : 3,
      "metadata" : {
        "language" : "text"
      },
      "language" : "text",
      "source" : [
        "**Reimplementing the toString method**\n",
        "\n",
        "\n"
      ],
      "outputs" : [
      ]
    },
    {
      "cell_type" : "code",
      "execution_count" : 4,
      "metadata" : {
        "language" : "scala"
      },
      "language" : "scala",
      "source" : [
        "class Rational(n: Int, d: Int) {\n",
        "    override def toString = s\"$n/$d\"  // Reimplementing the toString method\n",
        "}\n",
        "new Rational(2,3)"
      ],
      "outputs" : [
        {
          "data" : {
            "text/plain" : [
              "2/3"
            ]
          },
          "output_type" : "display_data"
        }
      ]
    },
    {
      "cell_type" : "markdown",
      "execution_count" : 5,
      "metadata" : {
        "language" : "text"
      },
      "language" : "text",
      "source" : [
      ],
      "outputs" : [
      ]
    },
    {
      "cell_type" : "code",
      "execution_count" : 6,
      "metadata" : {
        "language" : "scala"
      },
      "language" : "scala",
      "source" : [
        "class Rational(n: Int, d: Int) {\n",
        "\n",
        "    require(d != 0)\n",
        "\n",
        "    val numer: Int = n\n",
        "    val denom: Int = d\n",
        "\n",
        "    def this(n: Int) = this(n, 1) // auxiliary constructor\n",
        "\n",
        "    override def toString = s\"numer/denom\"\n",
        "\n",
        "    def add(that: Rational): Rational =\n",
        "      new Rational(\n",
        "        numer * that.denom + that.numer * denom,\n",
        "        denom * that.denom\n",
        "      )\n",
        "  }\n",
        "new Rational(2,3)"
      ],
      "outputs" : [
        {
          "data" : {
            "text/plain" : [
              "numer/denom"
            ]
          },
          "output_type" : "display_data"
        }
      ]
    },
    {
      "cell_type" : "markdown",
      "execution_count" : 7,
      "metadata" : {
        "language" : "text"
      },
      "language" : "text",
      "source" : [
        "### Checking preconditions\n",
        "\n"
      ],
      "outputs" : [
      ]
    },
    {
      "cell_type" : "code",
      "execution_count" : 8,
      "metadata" : {
        "language" : "scala"
      },
      "language" : "scala",
      "source" : [
        "class Rational(n: Int, d: Int) {\n",
        "    require(d != 0) //Checking preconditions\n",
        "    override def toString = s\"n/d\"\n",
        "}\n",
        "new Rational(5, 0)"
      ],
      "outputs" : [
        {
          "ename" : "java.lang.IllegalArgumentException",
          "evalue" : "requirement failed",
          "traceback" : [
          ],
          "output_type" : "error"
        }
      ]
    },
    {
      "cell_type" : "markdown",
      "execution_count" : 9,
      "metadata" : {
        "language" : "text"
      },
      "language" : "text",
      "source" : [
        "### Adding fields\n",
        "\n"
      ],
      "outputs" : [
      ]
    },
    {
      "cell_type" : "code",
      "execution_count" : 10,
      "metadata" : {
        "language" : "scala"
      },
      "language" : "scala",
      "source" : [
        "class Rational(n: Int, d: Int) { // This won't compile\n",
        "    require(d != 0)\n",
        "    override def toString = s\"n/d\"\n",
        "    def add(that: Rational): Rational =\n",
        "      new Rational(n * that.d + that.n * d, d * that.d)\n",
        "}\n",
        "// value d is not a member of Rational err"
      ],
      "outputs" : [
        {
          "data" : {
            "application/vnd.code.notebook.error" : [
            ]
          },
          "output_type" : "display_data"
        }
      ]
    },
    {
      "cell_type" : "code",
      "execution_count" : 11,
      "metadata" : {
        "language" : "scala"
      },
      "language" : "scala",
      "source" : [
        "class Rational(n: Int, d: Int) {\n",
        "    require(d != 0)\n",
        "    val numer: Int = n //Adding fields\n",
        "    val denom: Int = d\n",
        "    override def toString = s\"numer/denom\"\n",
        "    def add(that: Rational): Rational =\n",
        "      new Rational(\n",
        "        numer * that.denom + that.numer * denom,\n",
        "        denom * that.denom\n",
        "      )\n",
        "}\n",
        "val oneHalf = new Rational(1, 2)\n",
        "val twoThirds = new Rational(2, 3)\n",
        "oneHalf add twoThirds\n",
        "val r = new Rational(1, 2)\n",
        "r.numer\n",
        "r.denom"
      ],
      "outputs" : [
        {
          "data" : {
            "text/plain" : [
              "2"
            ]
          },
          "output_type" : "display_data"
        }
      ]
    },
    {
      "cell_type" : "markdown",
      "execution_count" : 12,
      "metadata" : {
        "language" : "text"
      },
      "language" : "text",
      "source" : [
        "### Self references\n",
        "\n"
      ],
      "outputs" : [
      ]
    },
    {
      "cell_type" : "code",
      "execution_count" : 13,
      "metadata" : {
        "language" : "scala"
      },
      "language" : "scala",
      "source" : [
        "class Rational(n: Int, d: Int) {\n",
        "    require(d != 0)\n",
        "    val numer: Int = n\n",
        "    val denom: Int = d\n",
        "    override def toString = s\"numer/denom\"\n",
        "    def add(that: Rational): Rational =\n",
        "      new Rational(\n",
        "        numer * that.denom + that.numer * denom,\n",
        "        denom * that.denom\n",
        "      )\n",
        "    def lessThan(that: Rational) = \n",
        "        this.numer * that.denom < that.numer * this.denom //this.\n",
        "    def max(that: Rational) = \n",
        "        if (this.lessThan(that)) that else this\n",
        "}\n",
        "val oneHalf = new Rational(1, 2)\n",
        "val twoThirds = new Rational(2, 3)\n",
        "oneHalf.lessThan(twoThirds)\n"
      ],
      "outputs" : [
        {
          "data" : {
            "text/plain" : [
              "true"
            ]
          },
          "output_type" : "display_data"
        }
      ]
    },
    {
      "cell_type" : "markdown",
      "execution_count" : 14,
      "metadata" : {
        "language" : "text"
      },
      "language" : "text",
      "source" : [
        "### Auxiliary constructors\n",
        "\n"
      ],
      "outputs" : [
      ]
    },
    {
      "cell_type" : "code",
      "execution_count" : 15,
      "metadata" : {
        "language" : "scala"
      },
      "language" : "scala",
      "source" : [
        "class Rational(n: Int, d: Int) {\n",
        "\n",
        "    require(d != 0)\n",
        "\n",
        "    val numer: Int = n\n",
        "    val denom: Int = d\n",
        "\n",
        "    def this(n: Int) = this(n, 1) // auxiliary constructor\n",
        "\n",
        "    override def toString = s\"$numer/$denom\"\n",
        "\n",
        "    def add(that: Rational): Rational =\n",
        "      new Rational(\n",
        "        numer * that.denom + that.numer * denom,\n",
        "        denom * that.denom\n",
        "      )\n",
        "  }\n",
        "\n",
        "  val y = new Rational(3)\n",
        "  println(y)"
      ],
      "outputs" : [
        {
          "name" : "stdout",
          "text" : [
            "3/1\n",
            "\n"
          ],
          "output_type" : "stream"
        }
      ]
    },
    {
      "cell_type" : "markdown",
      "execution_count" : 16,
      "metadata" : {
        "language" : "text"
      },
      "language" : "text",
      "source" : [
        "### Private fields and methods\n",
        "\n"
      ],
      "outputs" : [
      ]
    },
    {
      "cell_type" : "code",
      "execution_count" : 17,
      "metadata" : {
        "language" : "scala"
      },
      "language" : "scala",
      "source" : [
        "class Rational(n: Int, d: Int) {\n",
        "\n",
        "    require(d != 0)\n",
        "\n",
        "    private val g = gcd(n.abs, d.abs) //private field\n",
        "    val numer = n / g\n",
        "    val denom = d / g\n",
        "\n",
        "    def this(n: Int) = this(n, 1)\n",
        "\n",
        "    def add(that: Rational): Rational =\n",
        "      new Rational(\n",
        "        numer * that.denom + that.numer * denom,\n",
        "        denom * that.denom\n",
        "      )\n",
        "\n",
        "    override def toString = s\"numer/denom\"\n",
        "\n",
        "    private def gcd(a: Int, b: Int): Int = \n",
        "      if (b == 0) a else gcd(b, a % b) //private method\n",
        "  }\n",
        "\n",
        "new Rational(66, 42)"
      ],
      "outputs" : [
        {
          "data" : {
            "text/plain" : [
              "numer/denom"
            ]
          },
          "output_type" : "display_data"
        }
      ]
    },
    {
      "cell_type" : "markdown",
      "execution_count" : 18,
      "metadata" : {
        "language" : "text"
      },
      "language" : "text",
      "source" : [
        "### Defining operators\n",
        "\n"
      ],
      "outputs" : [
      ]
    },
    {
      "cell_type" : "code",
      "execution_count" : 19,
      "metadata" : {
        "language" : "scala"
      },
      "language" : "scala",
      "source" : [
        "class Rational(n: Int, d: Int) {\n",
        "\n",
        "    require(d != 0)\n",
        "\n",
        "    private val g = gcd(n.abs, d.abs)\n",
        "    val numer = n / g\n",
        "    val denom = d / g\n",
        "\n",
        "    def this(n: Int) = this(n, 1)\n",
        "\n",
        "    // define operation +\n",
        "    def + (that: Rational): Rational =\n",
        "      new Rational(\n",
        "        numer * that.denom + that.numer * denom,\n",
        "        denom * that.denom\n",
        "      )\n",
        "\n",
        "    def * (that: Rational): Rational =\n",
        "      new Rational(numer * that.numer, denom * that.denom)\n",
        "\n",
        "    override def toString = s\"numer/denom\"\n",
        "\n",
        "    private def gcd(a: Int, b: Int): Int = \n",
        "      if (b == 0) a else gcd(b, a % b)\n",
        "}\n",
        "val x = new Rational(1, 2)\n",
        "val y = new Rational(2, 3)\n",
        "x+y\n",
        "x + x * y"
      ],
      "outputs" : [
        {
          "data" : {
            "text/plain" : [
              "numer/denom"
            ]
          },
          "output_type" : "display_data"
        }
      ]
    },
    {
      "cell_type" : "markdown",
      "execution_count" : 20,
      "metadata" : {
        "language" : "text"
      },
      "language" : "text",
      "source" : [
        "### Method overloading\n",
        "\n"
      ],
      "outputs" : [
      ]
    },
    {
      "cell_type" : "code",
      "execution_count" : 21,
      "metadata" : {
        "language" : "scala"
      },
      "language" : "scala",
      "source" : [
        "class Rational(n: Int, d: Int) {\n",
        "\n",
        "    require(d != 0)\n",
        "\n",
        "    private val g = gcd(n.abs, d.abs)\n",
        "    val numer = n / g\n",
        "    val denom = d / g\n",
        "\n",
        "    def this(n: Int) = this(n, 1)\n",
        "\n",
        "    def + (that: Rational): Rational =\n",
        "      new Rational(\n",
        "        numer * that.denom + that.numer * denom,\n",
        "        denom * that.denom\n",
        "      )\n",
        "    // overloading\n",
        "    def + (i: Int): Rational =\n",
        "      new Rational(numer + i * denom, denom)\n",
        "\n",
        "    def - (that: Rational): Rational =\n",
        "      new Rational(\n",
        "        numer * that.denom - that.numer * denom,\n",
        "        denom * that.denom\n",
        "      )\n",
        "    // overloading\n",
        "    def - (i: Int): Rational =\n",
        "      new Rational(numer - i * denom, denom)\n",
        "\n",
        "    def * (that: Rational): Rational =\n",
        "      new Rational(numer * that.numer, denom * that.denom)\n",
        "    // overloading\n",
        "    def * (i: Int): Rational =\n",
        "      new Rational(numer * i, denom)\n",
        "\n",
        "    def / (that: Rational): Rational =\n",
        "      new Rational(numer * that.denom, denom * that.numer)\n",
        "    // overloading\n",
        "    def / (i: Int): Rational =\n",
        "      new Rational(numer, denom * i)\n",
        "\n",
        "    override def toString = s\"$numer/$denom\"\n",
        "\n",
        "    private def gcd(a: Int, b: Int): Int = \n",
        "      if (b == 0) a else gcd(b, a % b)\n",
        "  }\n",
        "  val x = new Rational(2, 3)\n",
        "x * x\n",
        "x * 2\n",
        "println(x * 2)"
      ],
      "outputs" : [
        {
          "name" : "stdout",
          "text" : [
            "4/3\n",
            "\n"
          ],
          "output_type" : "stream"
        }
      ]
    },
    {
      "cell_type" : "markdown",
      "execution_count" : 22,
      "metadata" : {
        "language" : "text"
      },
      "language" : "text",
      "source" : [
        "### Implicit conversions\n",
        "\n"
      ],
      "outputs" : [
      ]
    },
    {
      "cell_type" : "code",
      "execution_count" : 23,
      "metadata" : {
        "language" : "scala"
      },
      "language" : "scala",
      "source" : [
        "2 * r\n",
        "implicit def intToRational(x: Int) = new Rational(x)\n",
        "val r = new Rational(2,3)\n",
        "2 * r"
      ],
      "outputs" : [
        {
          "ename" : "java.lang.NullPointerException",
          "evalue" : "",
          "traceback" : [
          ],
          "output_type" : "error"
        }
      ]
    }
  ]
}