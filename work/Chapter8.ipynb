{
  "metadata" : {
    "config" : {
      "dependencies" : {
        
      },
      "exclusions" : [
      ],
      "repositories" : [
      ],
      "sparkConfig" : {
        
      }
    }
  },
  "nbformat" : 4,
  "nbformat_minor" : 0,
  "cells" : [
    {
      "cell_type" : "markdown",
      "execution_count" : 0,
      "metadata" : {
        "language" : "text"
      },
      "language" : "text",
      "source" : [
        "## Chapter8.Functions and Closures\n",
        "\n",
        "\n"
      ],
      "outputs" : [
      ]
    },
    {
      "cell_type" : "markdown",
      "execution_count" : 1,
      "metadata" : {
        "language" : "text"
      },
      "language" : "text",
      "source" : [
        "### Methods\n",
        "\n"
      ],
      "outputs" : [
      ]
    },
    {
      "cell_type" : "code",
      "execution_count" : 2,
      "metadata" : {
        "cell.metadata.exec_info" : {
          "startTs" : 1686036772962,
          "endTs" : 1686036773076
        },
        "language" : "scala"
      },
      "language" : "scala",
      "source" : [
        " import scala.io.Source\r\n",
        "\r\n",
        "object LongLines {\r\n",
        "\r\n",
        "    def processFile(filename: String, width: Int) = {\r\n",
        "      val source = Source.fromFile(filename)\r\n",
        "      for (line <- source.getLines()) \r\n",
        "        processLine(filename, width, line)\r\n",
        "    }\r\n",
        "\r\n",
        "    private def processLine(filename: String,\r\n",
        "        width: Int, line: String) = {\r\n",
        "\r\n",
        "      if (line.length > width)\r\n",
        "        println(filename + \": \" + line.trim)\r\n",
        "    }\r\n",
        "}"
      ],
      "outputs" : [
        {
          "name" : "stdout",
          "text" : [
            "hi\n"
          ],
          "output_type" : "stream"
        }
      ]
    },
    {
      "cell_type" : "markdown",
      "execution_count" : 3,
      "metadata" : {
        "language" : "text"
      },
      "language" : "text",
      "source" : [
        "### Local functions\n",
        "\n",
        "\n"
      ],
      "outputs" : [
      ]
    },
    {
      "cell_type" : "code",
      "execution_count" : 4,
      "metadata" : {
        "language" : "scala"
      },
      "language" : "scala",
      "source" : [
        "def processFile(filename: String, width: Int) = {\r\n",
        "\r\n",
        "    def processLine(filename: String,\r\n",
        "        width: Int, line: String) = {\r\n",
        "\r\n",
        "      if (line.length > width)\r\n",
        "        println(filename + \": \" + line.trim)\r\n",
        "    }    \r\n",
        "\r\n",
        "    val source = Source.fromFile(filename)\r\n",
        "    for (line <- source.getLines()) {\r\n",
        "      processLine(filename, width, line)\r\n",
        "    }\r\n",
        "  }"
      ],
      "outputs" : [
      ]
    },
    {
      "cell_type" : "code",
      "execution_count" : 5,
      "metadata" : {
        "cell.metadata.exec_info" : {
          "startTs" : 1686036593528
        },
        "language" : "scala"
      },
      "language" : "scala",
      "source" : [
        "import scala.io.Source\n",
        "\n",
        "  object LongLines {\n",
        "\n",
        "    def processFile(filename: String, width: Int) = {\n",
        "\n",
        "      def processLine(line: String) = {\n",
        "        if (line.length > width)\n",
        "          println(filename + \": \" + line.trim)\n",
        "      }    \n",
        "\n",
        "      val source = Source.fromFile(filename)\n",
        "      for (line <- source.getLines())\n",
        "        processLine(line)\n",
        "    }\n",
        "  }"
      ],
      "outputs" : [
      ]
    },
    {
      "cell_type" : "markdown",
      "execution_count" : 6,
      "metadata" : {
        "language" : "text"
      },
      "language" : "text",
      "source" : [
        "### First-class functions\n",
        "\n",
        "\n"
      ],
      "outputs" : [
      ]
    },
    {
      "cell_type" : "code",
      "execution_count" : 7,
      "metadata" : {
        "cell.metadata.exec_info" : {
          "startTs" : 1686146035360,
          "endTs" : 1686146036468
        },
        "language" : "scala"
      },
      "language" : "scala",
      "source" : [
        "var increase = (x: Int) => x + 1\n",
        "increase(10)"
      ],
      "outputs" : [
        {
          "execution_count" : 7,
          "data" : {
            "text/plain" : [
              "11"
            ]
          },
          "metadata" : {
            "name" : "Out",
            "type" : "Int"
          },
          "output_type" : "execute_result"
        }
      ]
    },
    {
      "cell_type" : "markdown",
      "execution_count" : 8,
      "metadata" : {
        "language" : "text"
      },
      "language" : "text",
      "source" : [
      ],
      "outputs" : [
      ]
    },
    {
      "cell_type" : "code",
      "execution_count" : 9,
      "metadata" : {
        "cell.metadata.exec_info" : {
          "startTs" : 1686146082392,
          "endTs" : 1686146082705
        },
        "language" : "scala"
      },
      "language" : "scala",
      "source" : [
        "increase = (x: Int) => {\n",
        "   println(\"We\")\n",
        "   println(\"are\")\n",
        "   println(\"here!\")\n",
        "   x + 1\n",
        "}\n",
        "increase(10)"
      ],
      "outputs" : [
        {
          "name" : "stdout",
          "text" : [
            "We\n",
            "are\n",
            "here!\n"
          ],
          "output_type" : "stream"
        },
        {
          "execution_count" : 9,
          "data" : {
            "text/plain" : [
              "11"
            ]
          },
          "metadata" : {
            "name" : "Out",
            "type" : "Int"
          },
          "output_type" : "execute_result"
        }
      ]
    },
    {
      "cell_type" : "code",
      "execution_count" : 10,
      "metadata" : {
        "cell.metadata.exec_info" : {
          "startTs" : 1686146884506,
          "endTs" : 1686146884696
        },
        "language" : "scala"
      },
      "language" : "scala",
      "source" : [
        "val someNumbers = List(-11, -10, -5, 0, 5, 10)\r\n",
        "someNumbers.foreach((x: Int) => println(x))\r\n",
        "someNumbers.filter((x: Int) => x > 0)\r\n",
        "someNumbers.filter((x: Int) => x > 0).foreach((x: Int) => println(x))"
      ],
      "outputs" : [
        {
          "name" : "stdout",
          "text" : [
            "5\n",
            "10\n"
          ],
          "output_type" : "stream"
        }
      ]
    },
    {
      "cell_type" : "markdown",
      "execution_count" : 11,
      "metadata" : {
        "language" : "text"
      },
      "language" : "text",
      "source" : [
        "### Short forms of function literals\n",
        "\n",
        "\n"
      ],
      "outputs" : [
      ]
    },
    {
      "cell_type" : "code",
      "execution_count" : 12,
      "metadata" : {
        "cell.metadata.exec_info" : {
          "startTs" : 1686147235429,
          "endTs" : 1686147235565
        },
        "language" : "scala"
      },
      "language" : "scala",
      "source" : [
        "someNumbers.filter((x) => x > 0).foreach((x: Int) => println(x))\n",
        "someNumbers.filter(x => x > 0).foreach((x: Int) => println(x))"
      ],
      "outputs" : [
        {
          "name" : "stdout",
          "text" : [
            "5\n",
            "10\n",
            "5\n",
            "10\n"
          ],
          "output_type" : "stream"
        }
      ]
    },
    {
      "cell_type" : "markdown",
      "execution_count" : 13,
      "metadata" : {
        "language" : "text"
      },
      "language" : "text",
      "source" : [
        "### Placeholder syntax\n",
        "\n",
        "\n"
      ],
      "outputs" : [
      ]
    },
    {
      "cell_type" : "code",
      "execution_count" : 14,
      "metadata" : {
        "cell.metadata.exec_info" : {
          "startTs" : 1686147302968,
          "endTs" : 1686147303253
        },
        "language" : "scala"
      },
      "language" : "scala",
      "source" : [
        "someNumbers.filter(_ > 0)\r\n",
        "someNumbers.filter(x => x > 0)\r\n",
        "val f = (_: Int) + (_: Int)\r\n",
        "f(5, 10)"
      ],
      "outputs" : [
        {
          "execution_count" : 14,
          "data" : {
            "text/plain" : [
              "15"
            ]
          },
          "metadata" : {
            "name" : "Out",
            "type" : "Int"
          },
          "output_type" : "execute_result"
        }
      ]
    },
    {
      "cell_type" : "code",
      "execution_count" : 15,
      "metadata" : {
        "cell.metadata.exec_info" : {
          "startTs" : 1686147298348,
          "endTs" : 1686147298366
        },
        "language" : "scala"
      },
      "language" : "scala",
      "source" : [
        "val f = _ + _//missing parameter type for expanded function "
      ],
      "outputs" : [
        {
          "execution_count" : 15,
          "data" : {
            "application/json" : [
              {
                "pos" : {
                  "sourceId" : "Cell13",
                  "start" : 19,
                  "end" : 19,
                  "point" : 19
                },
                "msg" : "f is already defined as value f",
                "severity" : 2
              },
              {
                "pos" : {
                  "sourceId" : "Cell13",
                  "start" : 8,
                  "end" : 8,
                  "point" : 8
                },
                "msg" : "missing parameter type for expanded function ((x$1, x$2) => x$1.$plus(x$2))",
                "severity" : 2
              },
              {
                "pos" : {
                  "sourceId" : "Cell13",
                  "start" : 12,
                  "end" : 12,
                  "point" : 12
                },
                "msg" : "missing parameter type for expanded function ((x$1: <error>, x$2) => x$1.$plus(x$2))",
                "severity" : 2
              }
            ],
            "text/plain" : [
              "Error: f is already defined as value f (19)",
              "Error: missing parameter type for expanded function ((x$1, x$2) => x$1.$plus(x$2)) (8)",
              "Error: missing parameter type for expanded function ((x$1: <error>, x$2) => x$1.$plus(x$2)) (12)"
            ]
          },
          "metadata" : {
            "rel" : "compiler_errors"
          },
          "output_type" : "execute_result"
        }
      ]
    },
    {
      "cell_type" : "markdown",
      "execution_count" : 16,
      "metadata" : {
        "language" : "text"
      },
      "language" : "text",
      "source" : [
        "### Partially applied functions\n",
        "\n",
        "\n"
      ],
      "outputs" : [
      ]
    },
    {
      "cell_type" : "code",
      "execution_count" : 17,
      "metadata" : {
        "cell.metadata.exec_info" : {
          "startTs" : 1686147546270,
          "endTs" : 1686147546426
        },
        "language" : "scala"
      },
      "language" : "scala",
      "source" : [
        "someNumbers.foreach(println _)\n",
        "someNumbers.foreach(x => println(x))\n",
        "def sum(a: Int, b: Int, c: Int) = a + b + c\n",
        "sum(1, 2, 3)\n",
        "val a = sum _"
      ],
      "outputs" : [
        {
          "name" : "stdout",
          "text" : [
            "-11\n",
            "-10\n",
            "-5\n",
            "0\n",
            "5\n",
            "10\n",
            "-11\n",
            "-10\n",
            "-5\n",
            "0\n",
            "5\n",
            "10\n"
          ],
          "output_type" : "stream"
        },
        {
          "execution_count" : 17,
          "data" : {
            "text/plain" : [
              "6"
            ]
          },
          "metadata" : {
            "name" : "Out",
            "type" : "Int"
          },
          "output_type" : "execute_result"
        }
      ]
    },
    {
      "cell_type" : "code",
      "execution_count" : 18,
      "metadata" : {
        "cell.metadata.exec_info" : {
          "startTs" : 1686147943707,
          "endTs" : 1686147943920
        },
        "language" : "scala"
      },
      "language" : "scala",
      "source" : [
        "val a = sum _\r\n",
        "\r\n",
        "a(1, 2, 3)\r\n",
        "a.apply(1, 2, 3)\r\n",
        "val b = sum(1, _: Int, 3)\r\n",
        "b(2)\r\n",
        "b(5)"
      ],
      "outputs" : [
        {
          "execution_count" : 18,
          "data" : {
            "text/plain" : [
              "9"
            ]
          },
          "metadata" : {
            "name" : "Out",
            "type" : "Int"
          },
          "output_type" : "execute_result"
        }
      ]
    },
    {
      "cell_type" : "code",
      "execution_count" : 19,
      "metadata" : {
        "cell.metadata.exec_info" : {
          "startTs" : 1686147997980,
          "endTs" : 1686147997998
        },
        "language" : "scala"
      },
      "language" : "scala",
      "source" : [
        "someNumbers.foreach(println _)\r\n",
        "someNumbers.foreach(println)\r\n",
        "val c = sum //missing argument list\r\n"
      ],
      "outputs" : [
        {
          "execution_count" : 19,
          "data" : {
            "application/json" : [
              {
                "pos" : {
                  "sourceId" : "Cell17",
                  "start" : 70,
                  "end" : 70,
                  "point" : 70
                },
                "msg" : "missing argument list for method sum in class Cell15$8\nUnapplied methods are only converted to functions when a function type is expected.\nYou can make this conversion explicit by writing `sum _` or `sum(_,_,_)` instead of `sum`.",
                "severity" : 2
              }
            ],
            "text/plain" : [
              "Error: missing argument list for method sum in class Cell15$8\nUnapplied methods are only converted to functions when a function type is expected.\nYou can make this conversion explicit by writing `sum _` or `sum(_,_,_)` instead of `sum`. (70)"
            ]
          },
          "metadata" : {
            "rel" : "compiler_errors"
          },
          "output_type" : "execute_result"
        }
      ]
    },
    {
      "cell_type" : "code",
      "execution_count" : 20,
      "metadata" : {
        "cell.metadata.exec_info" : {
          "startTs" : 1686148010099,
          "endTs" : 1686148010227
        },
        "language" : "scala"
      },
      "language" : "scala",
      "source" : [
        "val d = sum _\r\n",
        "d(10, 20, 30)"
      ],
      "outputs" : [
        {
          "execution_count" : 20,
          "data" : {
            "text/plain" : [
              "60"
            ]
          },
          "metadata" : {
            "name" : "Out",
            "type" : "Int"
          },
          "output_type" : "execute_result"
        }
      ]
    },
    {
      "cell_type" : "markdown",
      "execution_count" : 21,
      "metadata" : {
        "language" : "text"
      },
      "language" : "text",
      "source" : [
        "### Closures\n",
        "\n"
      ],
      "outputs" : [
      ]
    },
    {
      "cell_type" : "code",
      "execution_count" : 22,
      "metadata" : {
        "cell.metadata.exec_info" : {
          "startTs" : 1686148049678,
          "endTs" : 1686148049694
        },
        "language" : "scala"
      },
      "language" : "scala",
      "source" : [
        " (x: Int) => x + more  // how much more?"
      ],
      "outputs" : [
        {
          "execution_count" : 22,
          "data" : {
            "application/json" : [
              {
                "pos" : {
                  "sourceId" : "Cell22",
                  "start" : 17,
                  "end" : 17,
                  "point" : 17
                },
                "msg" : "not found: value more",
                "severity" : 2
              }
            ],
            "text/plain" : [
              "Error: not found: value more (17)"
            ]
          },
          "metadata" : {
            "rel" : "compiler_errors"
          },
          "output_type" : "execute_result"
        }
      ]
    },
    {
      "cell_type" : "code",
      "execution_count" : 23,
      "metadata" : {
        "cell.metadata.exec_info" : {
          "startTs" : 1686148100409,
          "endTs" : 1686148100599
        },
        "language" : "scala"
      },
      "language" : "scala",
      "source" : [
        "var more = 1\r\n",
        "val addMore = (x: Int) => x + more\r\n",
        "addMore(10)\r\n",
        "more = 9999\r\n",
        "addMore(10)"
      ],
      "outputs" : [
        {
          "execution_count" : 23,
          "data" : {
            "text/plain" : [
              "10009"
            ]
          },
          "metadata" : {
            "name" : "Out",
            "type" : "Int"
          },
          "output_type" : "execute_result"
        }
      ]
    },
    {
      "cell_type" : "code",
      "execution_count" : 24,
      "metadata" : {
        "cell.metadata.exec_info" : {
          "startTs" : 1686148136050,
          "endTs" : 1686148136205
        },
        "language" : "scala"
      },
      "language" : "scala",
      "source" : [
        "val someNumbers = List(-11, -10, -5, 0, 5, 10)\r\n",
        "var sum = 0\r\n",
        "someNumbers.foreach(sum +=  _)\r\n",
        "sum"
      ],
      "outputs" : [
        {
          "execution_count" : 24,
          "data" : {
            "text/plain" : [
              "-11"
            ]
          },
          "metadata" : {
            "name" : "Out",
            "type" : "Int"
          },
          "output_type" : "execute_result"
        }
      ]
    },
    {
      "cell_type" : "code",
      "execution_count" : 25,
      "metadata" : {
        "cell.metadata.exec_info" : {
          "startTs" : 1686148173047,
          "endTs" : 1686148173171
        },
        "language" : "scala"
      },
      "language" : "scala",
      "source" : [
        "def makeIncreaser(more: Int) = (x: Int) => x + more\r\n",
        "val inc1 = makeIncreaser(1)\r\n",
        "val inc9999 = makeIncreaser(9999)"
      ],
      "outputs" : [
      ]
    },
    {
      "cell_type" : "code",
      "execution_count" : 26,
      "metadata" : {
        "cell.metadata.exec_info" : {
          "startTs" : 1686148197507,
          "endTs" : 1686148197575
        },
        "language" : "scala"
      },
      "language" : "scala",
      "source" : [
        "inc1(10)\r\n",
        "inc9999(10)"
      ],
      "outputs" : [
        {
          "execution_count" : 26,
          "data" : {
            "text/plain" : [
              "10009"
            ]
          },
          "metadata" : {
            "name" : "Out",
            "type" : "Int"
          },
          "output_type" : "execute_result"
        }
      ]
    },
    {
      "cell_type" : "markdown",
      "execution_count" : 27,
      "metadata" : {
        "language" : "text"
      },
      "language" : "text",
      "source" : [
        "### Special function call forms\n",
        "\n"
      ],
      "outputs" : [
      ]
    },
    {
      "cell_type" : "code",
      "execution_count" : 28,
      "metadata" : {
        "cell.metadata.exec_info" : {
          "startTs" : 1686148298079,
          "endTs" : 1686148298238
        },
        "language" : "scala"
      },
      "language" : "scala",
      "source" : [
        "def echo(args: String*) = \r\n",
        "    for (arg <- args) println(arg)\r\n",
        "echo()\r\n",
        "echo(\"one\")\r\n",
        "echo(\"hello\", \"world!\")\r\n",
        "val seq = Seq(\"What's\", \"up\", \"doc?\")\r\n",
        "// echo(seq)// type mismatch\r\n",
        "echo(seq: _*)\r\n"
      ],
      "outputs" : [
        {
          "name" : "stdout",
          "text" : [
            "one\n",
            "hello\n",
            "world!\n",
            "What's\n",
            "up\n",
            "doc?\n"
          ],
          "output_type" : "stream"
        }
      ]
    },
    {
      "cell_type" : "code",
      "execution_count" : 29,
      "metadata" : {
        "cell.metadata.exec_info" : {
          "startTs" : 1686148339690,
          "endTs" : 1686148339773
        },
        "language" : "scala"
      },
      "language" : "scala",
      "source" : [
        "def speed(distance: Float, time: Float): Float =\r\n",
        "    distance / time\r\n",
        "speed(100, 10)\r\n",
        "speed(distance = 100, time = 10)\r\n",
        "speed(time = 10, distance = 100)"
      ],
      "outputs" : [
        {
          "execution_count" : 29,
          "data" : {
            "text/plain" : [
              "10.0"
            ]
          },
          "metadata" : {
            "name" : "Out",
            "type" : "Float"
          },
          "output_type" : "execute_result"
        }
      ]
    },
    {
      "cell_type" : "code",
      "execution_count" : 30,
      "metadata" : {
        "cell.metadata.exec_info" : {
          "startTs" : 1686148373416,
          "endTs" : 1686148373478
        },
        "language" : "scala"
      },
      "language" : "scala",
      "source" : [
        "def printTime2(out: java.io.PrintStream = Console.out,\r\n",
        "                 divisor: Int = 1) =\r\n",
        "    out.println(\"time = \" + System.currentTimeMillis()/divisor)\r\n",
        "printTime2(out = Console.err)\r\n",
        "\r\n",
        "printTime2(divisor = 1000)"
      ],
      "outputs" : [
        {
          "name" : "stdout",
          "text" : [
            "time = 1686148373\n"
          ],
          "output_type" : "stream"
        }
      ]
    },
    {
      "cell_type" : "markdown",
      "execution_count" : 31,
      "metadata" : {
        "language" : "text"
      },
      "language" : "text",
      "source" : [
        "### Tail recursion\n",
        "\n"
      ],
      "outputs" : [
      ]
    },
    {
      "cell_type" : "code",
      "execution_count" : 32,
      "metadata" : {
        "cell.metadata.exec_info" : {
          "startTs" : 1686148525549,
          "endTs" : 1686148525578
        },
        "language" : "scala"
      },
      "language" : "scala",
      "source" : [
        "def approximate(guess: Double): Double = \r\n",
        "    if (isGoodEnough(guess)) guess\r\n",
        "    else approximate(improve(guess))\r\n",
        "\r\n",
        "def approximateLoop(initialGuess: Double): Double = {\r\n",
        "    var guess = initialGuess\r\n",
        "    while (!isGoodEnough(guess))\r\n",
        "      guess = improve(guess)\r\n",
        "    guess\r\n",
        "}\r\n",
        "def boom(x: Int): Int = \r\n",
        "    if (x == 0) throw new Exception(\"boom!\")\r\n",
        "    else boom(x - 1) + 1\r\n",
        "boom(3)"
      ],
      "outputs" : [
        {
          "execution_count" : 32,
          "data" : {
            "application/json" : [
              {
                "pos" : {
                  "sourceId" : "Cell32",
                  "start" : 51,
                  "end" : 51,
                  "point" : 51
                },
                "msg" : "not found: value isGoodEnough",
                "severity" : 2
              },
              {
                "pos" : {
                  "sourceId" : "Cell32",
                  "start" : 100,
                  "end" : 100,
                  "point" : 100
                },
                "msg" : "not found: value improve",
                "severity" : 2
              },
              {
                "pos" : {
                  "sourceId" : "Cell32",
                  "start" : 216,
                  "end" : 216,
                  "point" : 216
                },
                "msg" : "not found: value isGoodEnough",
                "severity" : 2
              },
              {
                "pos" : {
                  "sourceId" : "Cell32",
                  "start" : 252,
                  "end" : 252,
                  "point" : 252
                },
                "msg" : "not found: value improve",
                "severity" : 2
              }
            ],
            "text/plain" : [
              "Error: not found: value isGoodEnough (51)",
              "Error: not found: value improve (100)",
              "Error: not found: value isGoodEnough (216)",
              "Error: not found: value improve (252)"
            ]
          },
          "metadata" : {
            "rel" : "compiler_errors"
          },
          "output_type" : "execute_result"
        }
      ]
    },
    {
      "cell_type" : "code",
      "execution_count" : 33,
      "metadata" : {
        "cell.metadata.exec_info" : {
          "startTs" : 1686148566532,
          "endTs" : 1686148566597
        },
        "language" : "scala"
      },
      "language" : "scala",
      "source" : [
        "\r\n",
        "def bang(x: Int): Int = \r\n",
        "   if (x == 0) throw new Exception(\"bang!\")\r\n",
        "   else bang(x - 1)\r\n",
        "bang(5)"
      ],
      "outputs" : [
        {
          "ename" : "java.lang.Exception",
          "evalue" : "bang!",
          "traceback" : [
          ],
          "output_type" : "error"
        }
      ]
    },
    {
      "cell_type" : "code",
      "execution_count" : 34,
      "metadata" : {
        "cell.metadata.exec_info" : {
          "startTs" : 1686148649586,
          "endTs" : 1686148649658
        },
        "language" : "scala"
      },
      "language" : "scala",
      "source" : [
        "def isEven(x: Int): Boolean =\r\n",
        "    if (x == 0) true else isOdd(x - 1)\r\n",
        "def isOdd(x: Int): Boolean =\r\n",
        "    if (x == 0) false else isEven(x - 1)\r\n",
        "isOdd(2)\r\n",
        "isEven(2)"
      ],
      "outputs" : [
        {
          "execution_count" : 34,
          "data" : {
            "text/plain" : [
              "true"
            ]
          },
          "metadata" : {
            "name" : "Out",
            "type" : "Boolean"
          },
          "output_type" : "execute_result"
        }
      ]
    },
    {
      "cell_type" : "code",
      "execution_count" : 35,
      "metadata" : {
        "language" : "scala"
      },
      "language" : "scala",
      "source" : [
        "val funValue = nestedFun _\r\n",
        "def nestedFun(x: Int) : Unit = { \r\n",
        "    if (x != 0) { println(x); funValue(x - 1) }\r\n",
        "  }\r\n",
        "funValue(2)"
      ],
      "outputs" : [
      ]
    }
  ]
}