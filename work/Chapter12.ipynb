{
  "metadata" : {
    "config" : {
      "dependencies" : {
        
      },
      "exclusions" : [
      ],
      "repositories" : [
      ],
      "sparkConfig" : {
        
      }
    }
  },
  "nbformat" : 4,
  "nbformat_minor" : 0,
  "cells" : [
    {
      "cell_type" : "markdown",
      "execution_count" : 0,
      "metadata" : {
        "language" : "text"
      },
      "language" : "text",
      "source" : [
        "## Chapter12.Traits\n",
        "\n",
        "\n"
      ],
      "outputs" : [
      ]
    },
    {
      "cell_type" : "markdown",
      "execution_count" : 1,
      "metadata" : {
        "language" : "text"
      },
      "language" : "text",
      "source" : [
        "### How traits work\n",
        "\n",
        "\n"
      ],
      "outputs" : [
      ]
    },
    {
      "cell_type" : "code",
      "execution_count" : 2,
      "metadata" : {
        "cell.metadata.exec_info" : {
          "startTs" : 1686276312717,
          "endTs" : 1686276313369
        },
        "language" : "scala"
      },
      "language" : "scala",
      "source" : [
        "trait Philosophical {\r\n",
        "    def philosophize() = {\r\n",
        "      println(\"I consume memory, therefore I am!\")\r\n",
        "    }\r\n",
        "}"
      ],
      "outputs" : [
      ]
    },
    {
      "cell_type" : "code",
      "execution_count" : 3,
      "metadata" : {
        "cell.metadata.exec_info" : {
          "startTs" : 1686276363605,
          "endTs" : 1686276363880
        },
        "language" : "scala"
      },
      "language" : "scala",
      "source" : [
        "class Frog extends Philosophical {\r\n",
        "    override def toString = \"green\"\r\n",
        "}\r\n",
        "val frog = new Frog\r\n",
        "frog.philosophize()\r\n",
        "val phil: Philosophical = frog\r\n",
        "phil.philosophize()"
      ],
      "outputs" : [
        {
          "name" : "stdout",
          "text" : [
            "I consume memory, therefore I am!",
            "\n",
            "I consume memory, therefore I am!",
            "\n"
          ],
          "output_type" : "stream"
        }
      ]
    },
    {
      "cell_type" : "code",
      "execution_count" : 15,
      "metadata" : {
        "cell.metadata.exec_info" : {
          "startTs" : 1686276494019,
          "endTs" : 1686276494160
        },
        "language" : "scala"
      },
      "language" : "scala",
      "source" : [
        "class Animal\r\n",
        "\r\n",
        "class Frog extends Animal with Philosophical {\r\n",
        "    override def toString = \"green\"\r\n",
        "}\r\n",
        "val frog = new Frog"
      ],
      "outputs" : [
      ]
    },
    {
      "cell_type" : "code",
      "execution_count" : 16,
      "metadata" : {
        "language" : "scala"
      },
      "language" : "scala",
      "source" : [
        "class Animal\r\n",
        "  trait HasLegs\r\n",
        "\r\n",
        "  class Frog extends Animal with Philosophical with HasLegs {\r\n",
        "    override def toString = \"green\"\r\n",
        "}"
      ],
      "outputs" : [
      ]
    },
    {
      "cell_type" : "code",
      "execution_count" : 17,
      "metadata" : {
        "cell.metadata.exec_info" : {
          "startTs" : 1686276550632,
          "endTs" : 1686276550802
        },
        "language" : "scala"
      },
      "language" : "scala",
      "source" : [
        "class Animal\r\n",
        "\r\n",
        "class Frog extends Animal with Philosophical {\r\n",
        "    override def toString = \"green\"\r\n",
        "    override def philosophize() = {\r\n",
        "      println(\"It ain't easy being \" + toString + \"!\")\r\n",
        "    }\r\n",
        "}\r\n",
        "val phrog: Philosophical = new Frog\r\n",
        "phrog.philosophize()"
      ],
      "outputs" : [
        {
          "name" : "stdout",
          "text" : [
            "It ain't easy being green!",
            "\n"
          ],
          "output_type" : "stream"
        }
      ]
    },
    {
      "cell_type" : "code",
      "execution_count" : 18,
      "metadata" : {
        "cell.metadata.exec_info" : {
          "startTs" : 1686276678565,
          "endTs" : 1686276679013
        },
        "language" : "scala"
      },
      "language" : "scala",
      "source" : [
        "object Ex2 {\r\n",
        "  class Animal\r\n",
        "  abstract class IntQueue {\r\n",
        "    def get: Int\r\n",
        "    def put(x: Int)\r\n",
        "  class Frog extends Animal with Philosophical {\r\n",
        "    override def toString = \"green\"\r\n",
        "    override def philosophize() = {\r\n",
        "      println(\"It ain't easy being \" + toString + \"!\")\r\n",
        "    }\r\n",
        "  }\r\n",
        "\r\n",
        "  class Point(x: Int, y: Int)\r\n",
        "  trait CharSequence {\r\n",
        "    def charAt(index: Int): Char\r\n",
        "    def length: Int\r\n",
        "    def subSequence(start: Int, end: Int): CharSequence\r\n",
        "    def toString(): String\r\n",
        "  }\r\n",
        "  trait Ordered[T] {\r\n",
        "    def compare(that: T): Int\r\n",
        "  \r\n",
        "    def <(that: T): Boolean = (this compare that) < 0\r\n",
        "    def >(that: T): Boolean = (this compare that) > 0\r\n",
        "    def <=(that: T): Boolean = (this compare that) <= 0\r\n",
        "    def >=(that: T): Boolean = (this compare that) >= 0\r\n",
        "  }\r\n",
        "\r\n",
        "  import scala.collection.mutable.ArrayBuffer\r\n",
        "  \r\n",
        "  class BasicIntQueue extends IntQueue {\r\n",
        "    private val buf = new ArrayBuffer[Int]\r\n",
        "    def get() = buf.remove(0)\r\n",
        "    def put(x: Int) = { buf += x }\r\n",
        "  }\r\n",
        "  trait Incrementing extends IntQueue {\r\n",
        "    abstract override def put(x: Int) = { super.put(x + 1) }\r\n",
        "  }\r\n",
        "  trait Doubling extends IntQueue {\r\n",
        "    abstract override def put(x: Int) = { super.put(2 * x) }\r\n",
        "  }\r\n",
        "\r\n",
        "  def main(args: Array[String]): Unit = {\r\n",
        "    (new Frog).philosophize()\r\n",
        "\r\n",
        "    // Multiple inheritance thought experiment\r\n",
        "    val q = new BasicIntQueue with Incrementing with Doubling\r\n",
        "    q.put(42)  // which put would be called?\r\n",
        "    println(\"q [\" + q + \"]\")\r\n",
        "  }\r\n",
        "}\r\n",
        "}\r\n"
      ],
      "outputs" : [
      ]
    },
    {
      "cell_type" : "markdown",
      "execution_count" : 4,
      "metadata" : {
        "language" : "text"
      },
      "language" : "text",
      "source" : [
        "### Thin versus rich interfaces\n",
        "\n",
        "\n"
      ],
      "outputs" : [
      ]
    },
    {
      "cell_type" : "code",
      "execution_count" : 5,
      "metadata" : {
        "cell.metadata.exec_info" : {
          "startTs" : 1686276775936,
          "endTs" : 1686276775939
        },
        "language" : "python"
      },
      "language" : "python",
      "source" : [
        "trait CharSequence {\r\n",
        "    def charAt(index: Int): Char\r\n",
        "    def length: Int\r\n",
        "    def subSequence(start: Int, end: Int): CharSequence\r\n",
        "    def toString(): String\r\n",
        "}"
      ],
      "outputs" : [
        {
          "execution_count" : 5,
          "data" : {
            "application/json" : [
              {
                "pos" : {
                  "sourceId" : "Cell5",
                  "start" : 18,
                  "end" : 18,
                  "point" : 18
                },
                "msg" : "invalid syntax",
                "severity" : 2
              }
            ],
            "text/plain" : [
              "Error: invalid syntax (18)"
            ]
          },
          "metadata" : {
            "rel" : "compiler_errors"
          },
          "output_type" : "execute_result"
        }
      ]
    },
    {
      "cell_type" : "markdown",
      "execution_count" : 19,
      "metadata" : {
        "language" : "text"
      },
      "language" : "text",
      "source" : [
        "### Example: Rectangular objects\n",
        "\n"
      ],
      "outputs" : [
      ]
    },
    {
      "cell_type" : "code",
      "execution_count" : 6,
      "metadata" : {
        "cell.metadata.exec_info" : {
          "startTs" : 1686276968822,
          "endTs" : 1686276968825
        },
        "language" : "python"
      },
      "language" : "python",
      "source" : [
        "class Point(val x: Int, val y: Int)\r\n",
        "\r\n",
        "class Rectangle(val topLeft: Point, val bottomRight: Point) {\r\n",
        "    def left = topLeft.x\r\n",
        "    def right = bottomRight.x\r\n",
        "    def width = right - left\r\n",
        "    // and many more geometric methods...\r\n",
        "}\r\n",
        "abstract class Component {\r\n",
        "    def topLeft: Point\r\n",
        "    def bottomRight: Point\r\n",
        "\r\n",
        "    def left = topLeft.x\r\n",
        "    def right = bottomRight.x\r\n",
        "    def width = right - left\r\n",
        "    // and many more geometric methods...\r\n",
        "}"
      ],
      "outputs" : [
        {
          "execution_count" : 6,
          "data" : {
            "application/json" : [
              {
                "pos" : {
                  "sourceId" : "Cell6",
                  "start" : 17,
                  "end" : 17,
                  "point" : 17
                },
                "msg" : "invalid syntax",
                "severity" : 2
              }
            ],
            "text/plain" : [
              "Error: invalid syntax (17)"
            ]
          },
          "metadata" : {
            "rel" : "compiler_errors"
          },
          "output_type" : "execute_result"
        }
      ]
    },
    {
      "cell_type" : "code",
      "execution_count" : 20,
      "metadata" : {
        "cell.metadata.exec_info" : {
          "startTs" : 1686277076274,
          "endTs" : 1686277076276
        },
        "language" : "python"
      },
      "language" : "python",
      "source" : [
        "trait Rectangular {\r\n",
        "    def topLeft: Point\r\n",
        "    def bottomRight: Point\r\n",
        "\r\n",
        "    def left = topLeft.x\r\n",
        "    def right = bottomRight.x\r\n",
        "    def width = right - left\r\n",
        "    // and many more geometric methods...\r\n",
        "  }\r\n",
        "\r\n",
        "\r\n",
        "abstract class Component extends Rectangular {\r\n",
        "    // other methods...\r\n",
        "  }\r\n",
        "\r\n",
        "\r\n",
        "// In file traits/Rectangle.scala\r\n",
        "\r\n",
        "class Rectangle(val topLeft: Point, val bottomRight: Point)\r\n",
        "      extends Rectangular {\r\n",
        "\r\n",
        "    // other methods...\r\n",
        "}\r\n",
        "rect.left\r\n",
        "rect.right\r\n",
        "rect.width"
      ],
      "outputs" : [
        {
          "execution_count" : 20,
          "data" : {
            "application/json" : [
              {
                "pos" : {
                  "sourceId" : "Cell20",
                  "start" : 17,
                  "end" : 17,
                  "point" : 17
                },
                "msg" : "invalid syntax",
                "severity" : 2
              }
            ],
            "text/plain" : [
              "Error: invalid syntax (17)"
            ]
          },
          "metadata" : {
            "rel" : "compiler_errors"
          },
          "output_type" : "execute_result"
        }
      ]
    },
    {
      "cell_type" : "markdown",
      "execution_count" : 7,
      "metadata" : {
        "language" : "text"
      },
      "language" : "text",
      "source" : [
        "### The Ordered trait\n",
        "\n",
        "\n"
      ],
      "outputs" : [
      ]
    },
    {
      "cell_type" : "code",
      "execution_count" : 8,
      "metadata" : {
        "language" : "scala"
      },
      "language" : "scala",
      "source" : [
        "class Rational(n: Int, d: Int) {\r\n",
        "    // ...\r\n",
        "    def < (that: Rational) = \r\n",
        "      this.numer * that.denom < that.numer * this.denom\r\n",
        "    def > (that: Rational) = that < this\r\n",
        "    def <= (that: Rational) = (this < that) || (this == that)\r\n",
        "    def >= (that: Rational) = (this > that) || (this == that)\r\n",
        "  }\r\n"
      ],
      "outputs" : [
      ]
    },
    {
      "cell_type" : "code",
      "execution_count" : 9,
      "metadata" : {
        "cell.metadata.exec_info" : {
          "startTs" : 1686281190300,
          "endTs" : 1686281190815
        },
        "language" : "scala"
      },
      "language" : "scala",
      "source" : [
        "trait Ordered[T] {\r\n",
        "    def compare(that: T): Int\r\n",
        "  \r\n",
        "    def <(that: T): Boolean = (this compare that) < 0\r\n",
        "    def >(that: T): Boolean = (this compare that) > 0\r\n",
        "    def <=(that: T): Boolean = (this compare that) <= 0\r\n",
        "    def >=(that: T): Boolean = (this compare that) >= 0\r\n",
        "}\r\n",
        "\r\n",
        "\r\n",
        "class Rational(n: Int, d: Int) extends Ordered[Rational] {\r\n",
        "  def compare(that: Rational) =\r\n",
        "    (this.numer * that.denom) - (that.numer * this.denom)\r\n",
        "\r\n",
        "  require(d != 0)\r\n",
        "\r\n",
        "  private val g = gcd(n.abs, d.abs)\r\n",
        "  val numer = n / g\r\n",
        "  val denom = d / g\r\n",
        "\r\n",
        "  def this(n: Int) = this(n, 1)\r\n",
        "\r\n",
        "  def + (that: Rational): Rational =\r\n",
        "    new Rational(\r\n",
        "      numer * that.denom + that.numer * denom,\r\n",
        "      denom * that.denom\r\n",
        "    )\r\n",
        "\r\n",
        "  def + (i: Int): Rational =\r\n",
        "    new Rational(numer + i * denom, denom)\r\n",
        "\r\n",
        "  def - (that: Rational): Rational =\r\n",
        "    new Rational(\r\n",
        "      numer * that.denom - that.numer * denom,\r\n",
        "      denom * that.denom\r\n",
        "    )\r\n",
        "\r\n",
        "  def - (i: Int): Rational =\r\n",
        "    new Rational(numer - i * denom, denom)\r\n",
        "\r\n",
        "  def * (that: Rational): Rational =\r\n",
        "    new Rational(numer * that.numer, denom * that.denom)\r\n",
        "\r\n",
        "  def * (i: Int): Rational =\r\n",
        "    new Rational(numer * i, denom)\r\n",
        "\r\n",
        "  def / (that: Rational): Rational =\r\n",
        "    new Rational(numer * that.denom, denom * that.numer)\r\n",
        "\r\n",
        "  def / (i: Int): Rational =\r\n",
        "    new Rational(numer, denom * i)\r\n",
        "\r\n",
        "  override def toString = s\"$numer/$denom\"\r\n",
        "\r\n",
        "  private def gcd(a: Int, b: Int): Int = \r\n",
        "    if (b == 0) a else gcd(b, a % b)\r\n",
        "\r\n",
        "  override def equals(other: Any): Boolean =\r\n",
        "    other match {\r\n",
        "\r\n",
        "      case that: Rational =>\r\n",
        "        (that canEqual this) &&\r\n",
        "        numer == that.numer &&\r\n",
        "        denom == that.denom\r\n",
        "\r\n",
        "      case _ => false\r\n",
        "    }\r\n",
        "\r\n",
        "  def canEqual(other: Any): Boolean =\r\n",
        "    other.isInstanceOf[Rational]\r\n",
        "\r\n",
        "  override def hashCode: Int = (numer, denom).##\r\n",
        "\r\n",
        "}\r\n",
        "\r\n",
        "val half = new Rational(1, 2)\r\n",
        "val third = new Rational(1, 3)\r\n",
        "half < third\r\n",
        "half > third"
      ],
      "outputs" : [
        {
          "execution_count" : 9,
          "data" : {
            "text/plain" : [
              "true"
            ]
          },
          "metadata" : {
            "name" : "Out",
            "type" : "Boolean"
          },
          "output_type" : "execute_result"
        }
      ]
    },
    {
      "cell_type" : "markdown",
      "execution_count" : 10,
      "metadata" : {
        "language" : "text"
      },
      "language" : "text",
      "source" : [
        "### Traits as stackable modifications\n",
        "\n",
        "\n"
      ],
      "outputs" : [
      ]
    },
    {
      "cell_type" : "code",
      "execution_count" : 11,
      "metadata" : {
        "cell.metadata.exec_info" : {
          "startTs" : 1686283076167,
          "endTs" : 1686283076438
        },
        "language" : "scala"
      },
      "language" : "scala",
      "source" : [
        "abstract class IntQueue {\r\n",
        "    def get(): Int\r\n",
        "    def put(x: Int): Unit\r\n",
        "  }\r\n",
        "import scala.collection.mutable.ArrayBuffer\r\n",
        "\r\n",
        "class BasicIntQueue extends IntQueue {\r\n",
        "    private val buf = new ArrayBuffer[Int]\r\n",
        "    def get() = buf.remove(0)\r\n",
        "    def put(x: Int) = { buf += x }\r\n",
        "}\r\n",
        "val queue = new BasicIntQueue\r\n",
        "queue.put(10)\r\n",
        "queue.put(20)\r\n",
        "queue.get()\r\n",
        "queue.get()"
      ],
      "outputs" : [
        {
          "execution_count" : 11,
          "data" : {
            "text/plain" : [
              "20"
            ]
          },
          "metadata" : {
            "name" : "Out",
            "type" : "Int"
          },
          "output_type" : "execute_result"
        }
      ]
    },
    {
      "cell_type" : "code",
      "execution_count" : 12,
      "metadata" : {
        "cell.metadata.exec_info" : {
          "startTs" : 1686283144551,
          "endTs" : 1686283144790
        },
        "language" : "scala"
      },
      "language" : "scala",
      "source" : [
        "trait Doubling extends IntQueue {\r\n",
        "    abstract override def put(x: Int) = { super.put(2 * x) }\r\n",
        "}\r\n",
        "class MyQueue extends BasicIntQueue with Doubling\r\n",
        "val queue = new MyQueue\r\n",
        "queue.put(10)\r\n",
        "queue.get()\r\n",
        "val queue2 = new BasicIntQueue with Doubling\r\n",
        "queue2.put(10)\r\n",
        "queue2.get()"
      ],
      "outputs" : [
        {
          "execution_count" : 12,
          "data" : {
            "text/plain" : [
              "20"
            ]
          },
          "metadata" : {
            "name" : "Out",
            "type" : "Int"
          },
          "output_type" : "execute_result"
        }
      ]
    },
    {
      "cell_type" : "code",
      "execution_count" : 13,
      "metadata" : {
        "cell.metadata.exec_info" : {
          "startTs" : 1686283202197,
          "endTs" : 1686283202422
        },
        "language" : "scala"
      },
      "language" : "scala",
      "source" : [
        "trait Incrementing extends IntQueue {\r\n",
        "    abstract override def put(x: Int) = { super.put(x + 1) }\r\n",
        "  }\r\n",
        "  trait Filtering extends IntQueue {\r\n",
        "    abstract override def put(x: Int) = {\r\n",
        "      if (x >= 0) super.put(x)\r\n",
        "    }\r\n",
        "}\r\n",
        "val queue = (new BasicIntQueue with Incrementing with Filtering)\r\n",
        "queue.put(-1); queue.put(0); queue.put(1)\r\n",
        "queue.get()\r\n",
        "queue.get()"
      ],
      "outputs" : [
        {
          "execution_count" : 13,
          "data" : {
            "text/plain" : [
              "2"
            ]
          },
          "metadata" : {
            "name" : "Out",
            "type" : "Int"
          },
          "output_type" : "execute_result"
        }
      ]
    },
    {
      "cell_type" : "markdown",
      "execution_count" : 14,
      "metadata" : {
        "cell.metadata.exec_info" : {
          "startTs" : 1686276001740,
          "endTs" : 1686276001769
        },
        "language" : "text"
      },
      "language" : "text",
      "source" : [
        "### Why not multiple inheritance?\n",
        "\n"
      ],
      "outputs" : [
        {
          "execution_count" : 14,
          "data" : {
            "application/json" : [
              {
                "pos" : {
                  "sourceId" : "Cell13",
                  "start" : 404,
                  "end" : 404,
                  "point" : 404
                },
                "msg" : "type mismatch;\n found   : Cell13$1.this.Anchor\n required: Cell13$1.this.Text",
                "severity" : 2
              },
              {
                "pos" : {
                  "sourceId" : "Cell13",
                  "start" : 429,
                  "end" : 429,
                  "point" : 429
                },
                "msg" : "type mismatch;\n found   : Cell13$1.this.Style\n required: Cell13$1.this.Anchor",
                "severity" : 2
              },
              {
                "pos" : {
                  "sourceId" : "Cell13",
                  "start" : 447,
                  "end" : 447,
                  "point" : 447
                },
                "msg" : "type mismatch;\n found   : Cell13$1.this.Text\n required: Cell13$1.this.Style",
                "severity" : 2
              },
              {
                "pos" : {
                  "sourceId" : "Cell13",
                  "start" : 0,
                  "end" : 46,
                  "point" : 6
                },
                "msg" : "value class may not be a member of another class",
                "severity" : 2
              },
              {
                "pos" : {
                  "sourceId" : "Cell13",
                  "start" : 48,
                  "end" : 93,
                  "point" : 54
                },
                "msg" : "value class may not be a member of another class",
                "severity" : 2
              },
              {
                "pos" : {
                  "sourceId" : "Cell13",
                  "start" : 95,
                  "end" : 139,
                  "point" : 101
                },
                "msg" : "value class may not be a member of another class",
                "severity" : 2
              },
              {
                "pos" : {
                  "sourceId" : "Cell13",
                  "start" : 141,
                  "end" : 185,
                  "point" : 147
                },
                "msg" : "value class may not be a member of another class",
                "severity" : 2
              }
            ],
            "text/plain" : [
              "Error: type mismatch;\n found   : Cell13$1.this.Anchor\n required: Cell13$1.this.Text (404)",
              "Error: type mismatch;\n found   : Cell13$1.this.Style\n required: Cell13$1.this.Anchor (429)",
              "Error: type mismatch;\n found   : Cell13$1.this.Text\n required: Cell13$1.this.Style (447)",
              "Error: value class may not be a member of another class (0)",
              "Error: value class may not be a member of another class (48)",
              "Error: value class may not be a member of another class (95)",
              "Error: value class may not be a member of another class (141)"
            ]
          },
          "metadata" : {
            "rel" : "compiler_errors"
          },
          "output_type" : "execute_result"
        }
      ]
    },
    {
      "cell_type" : "code",
      "execution_count" : 21,
      "metadata" : {
        "cell.metadata.exec_info" : {
          "startTs" : 1686283328020,
          "endTs" : 1686283328042
        },
        "language" : "scala"
      },
      "language" : "scala",
      "source" : [
        "// Multiple inheritance thought experiment\r\n",
        "val q = new BasicIntQueue with Incrementing with Doubling\r\n",
        "q.put(42)  // which put would be called?\r\n",
        "\r\n",
        "\r\n",
        "// Multiple inheritance thought experiment\r\n",
        "trait MyQueue extends BasicIntQueue\r\n",
        "    with Incrementing with Doubling {\r\n",
        "\r\n",
        "def put(x: Int) = {\r\n",
        "    Incrementing.super.put(x) // (Not real Scala)\r\n",
        "    Doubling.super.put(x)\r\n",
        "}\r\n",
        "}\r\n",
        "\r\n",
        "\r\n",
        "class Animal \r\n",
        "trait Furry extends Animal\r\n",
        "trait HasLegs extends Animal\r\n",
        "trait FourLegged extends HasLegs\r\n",
        "class Cat extends Animal with Furry with FourLegged"
      ],
      "outputs" : [
        {
          "execution_count" : 21,
          "data" : {
            "application/json" : [
              {
                "pos" : {
                  "sourceId" : "Cell21",
                  "start" : 296,
                  "end" : 296,
                  "point" : 296
                },
                "msg" : "Incrementing is not an enclosing class",
                "severity" : 2
              },
              {
                "pos" : {
                  "sourceId" : "Cell21",
                  "start" : 315,
                  "end" : 315,
                  "point" : 315
                },
                "msg" : "value put is not a member of {}",
                "severity" : 2
              },
              {
                "pos" : {
                  "sourceId" : "Cell21",
                  "start" : 347,
                  "end" : 347,
                  "point" : 347
                },
                "msg" : "Doubling is not an enclosing class",
                "severity" : 2
              },
              {
                "pos" : {
                  "sourceId" : "Cell21",
                  "start" : 362,
                  "end" : 362,
                  "point" : 362
                },
                "msg" : "value put is not a member of {}",
                "severity" : 2
              }
            ],
            "text/plain" : [
              "Error: Incrementing is not an enclosing class (296)",
              "Error: value put is not a member of {} (315)",
              "Error: Doubling is not an enclosing class (347)",
              "Error: value put is not a member of {} (362)"
            ]
          },
          "metadata" : {
            "rel" : "compiler_errors"
          },
          "output_type" : "execute_result"
        }
      ]
    }
  ]
}